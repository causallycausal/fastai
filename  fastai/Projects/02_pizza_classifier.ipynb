{
  "nbformat": 4,
  "nbformat_minor": 0,
  "metadata": {
    "colab": {
      "name": "02_pizza_classifier.ipynb",
      "provenance": [],
      "collapsed_sections": [],
      "authorship_tag": "ABX9TyN9Fx1wtGSrumEpsDbLa2qP",
      "include_colab_link": true
    },
    "kernelspec": {
      "name": "python3",
      "display_name": "Python 3"
    }
  },
  "cells": [
    {
      "cell_type": "markdown",
      "metadata": {
        "id": "view-in-github",
        "colab_type": "text"
      },
      "source": [
        "<a href=\"https://colab.research.google.com/github/causallycausal/fastai/blob/dev/%20fastai/Projects/02_pizza_classifier.ipynb\" target=\"_parent\"><img src=\"https://colab.research.google.com/assets/colab-badge.svg\" alt=\"Open In Colab\"/></a>"
      ]
    },
    {
      "cell_type": "code",
      "metadata": {
        "colab": {
          "base_uri": "https://localhost:8080/"
        },
        "id": "zldYCcj-_euA",
        "outputId": "1dc76ea4-08bc-41d1-95a5-fe40651727e8"
      },
      "source": [
        "!pip install -Uqq fastbook\r\n",
        "import fastbook \r\n",
        "fastbook.setup_book()"
      ],
      "execution_count": 1,
      "outputs": [
        {
          "output_type": "stream",
          "text": [
            "Mounted at /content/gdrive\n"
          ],
          "name": "stdout"
        }
      ]
    },
    {
      "cell_type": "code",
      "metadata": {
        "id": "fl_NjVhIACGE"
      },
      "source": [
        "from fastbook import *\r\n",
        "from fastai.vision.widgets import *"
      ],
      "execution_count": 2,
      "outputs": []
    },
    {
      "cell_type": "code",
      "metadata": {
        "id": "ghfh5AY-AJP9"
      },
      "source": [
        "# Search key using duck duck go search engine.\r\n",
        "# current fastai version is broken \r\n",
        "def search_images_ddg(key,max_n=200):\r\n",
        "     \"\"\"Search for 'key' with DuckDuckGo and return a unique urls of 'max_n' images\r\n",
        "        (Adopted from https://github.com/deepanprabhu/duckduckgo-images-api)\r\n",
        "     \"\"\"\r\n",
        "     url        = 'https://duckduckgo.com/'\r\n",
        "     params     = {'q':key}\r\n",
        "     res        = requests.post(url,data=params)\r\n",
        "     searchObj  = re.search(r'vqd=([\\d-]+)\\&',res.text)\r\n",
        "     if not searchObj: print('Token Parsing Failed !'); return\r\n",
        "     requestUrl = url + 'i.js'\r\n",
        "     headers    = {'User-Agent': 'Mozilla/5.0 (X11; Ubuntu; Linux x86_64; rv:71.0) Gecko/20100101 Firefox/71.0'}\r\n",
        "     params     = (('l','us-en'),('o','json'),('q',key),('vqd',searchObj.group(1)),('f',',,,'),('p','1'),('v7exp','a'))\r\n",
        "     urls       = []\r\n",
        "     while True:\r\n",
        "         try:\r\n",
        "             res  = requests.get(requestUrl,headers=headers,params=params)\r\n",
        "             data = json.loads(res.text)\r\n",
        "             for obj in data['results']:\r\n",
        "                 urls.append(obj['image'])\r\n",
        "                 max_n = max_n - 1\r\n",
        "                 if max_n < 1: return L(set(urls))     # dedupe\r\n",
        "             if 'next' not in data: return L(set(urls))\r\n",
        "             requestUrl = url + data['next']\r\n",
        "         except:\r\n",
        "             pass"
      ],
      "execution_count": 4,
      "outputs": []
    },
    {
      "cell_type": "markdown",
      "metadata": {
        "id": "MGN56mLgBeQE"
      },
      "source": [
        "# Goal \r\n",
        "\r\n",
        "Our goal with this project is to design an application that will classify three different types of pizza. The three categories will be cheese, pepperoni, and Hawaiian (ham and pineapple) pizza. In this notebook, we will gather the data, build the model, and  export the weights of the trained model to be used in a fun webapp. I will link to the webapp here after I have completed this project. "
      ]
    },
    {
      "cell_type": "markdown",
      "metadata": {
        "id": "pyLydV07DhwU"
      },
      "source": [
        "# Gather Images of Pizza\r\n",
        "\r\n"
      ]
    },
    {
      "cell_type": "code",
      "metadata": {
        "id": "0BqI0ijbBPPl"
      },
      "source": [
        "pizza_types = [\"cheese\", \"pepperoni\", \"Hawaiian\"]\r\n",
        "path = Path('pizzas')"
      ],
      "execution_count": 3,
      "outputs": []
    },
    {
      "cell_type": "code",
      "metadata": {
        "id": "FYE5fJTOHHZH"
      },
      "source": [
        "if not path.exists():\r\n",
        "  path.mkdir()\r\n",
        "  for pizza in pizza_types: \r\n",
        "    dest = (path/pizza)\r\n",
        "    dest.mkdir(exist_ok = True)\r\n",
        "    results = search_images_ddg(f'{pizza} pizza')\r\n",
        "    download_images(dest, urls=results)"
      ],
      "execution_count": 11,
      "outputs": []
    },
    {
      "cell_type": "code",
      "metadata": {
        "colab": {
          "base_uri": "https://localhost:8080/"
        },
        "id": "xP7ZWKraJWr3",
        "outputId": "171d5c75-bd9e-42bc-df97-263e08b64101"
      },
      "source": [
        "image_paths = get_image_files(path)\r\n",
        "image_paths"
      ],
      "execution_count": 12,
      "outputs": [
        {
          "output_type": "execute_result",
          "data": {
            "text/plain": [
              "(#521) [Path('pizzas/Hawaiian/00000093.jpg'),Path('pizzas/Hawaiian/00000111.jpg'),Path('pizzas/Hawaiian/00000021.png'),Path('pizzas/Hawaiian/00000095.jpg'),Path('pizzas/Hawaiian/00000009.jpg'),Path('pizzas/Hawaiian/00000057.jpg'),Path('pizzas/Hawaiian/00000166.jpg'),Path('pizzas/Hawaiian/00000113.jpg'),Path('pizzas/Hawaiian/00000023.jpg'),Path('pizzas/Hawaiian/00000149.jpg')...]"
            ]
          },
          "metadata": {
            "tags": []
          },
          "execution_count": 12
        }
      ]
    },
    {
      "cell_type": "markdown",
      "metadata": {
        "id": "ALfI77Z2TTAY"
      },
      "source": [
        "# Verify our Images "
      ]
    },
    {
      "cell_type": "code",
      "metadata": {
        "colab": {
          "base_uri": "https://localhost:8080/"
        },
        "id": "EbTPINR9NEF4",
        "outputId": "55a44181-83dd-49e7-bde8-5588fc421263"
      },
      "source": [
        "# Check if we can open our images \r\n",
        "failed = verify_images(image_paths)\r\n",
        "failed"
      ],
      "execution_count": 14,
      "outputs": [
        {
          "output_type": "execute_result",
          "data": {
            "text/plain": [
              "(#3) [Path('pizzas/Hawaiian/00000034.jpg'),Path('pizzas/cheese/00000104.png'),Path('pizzas/cheese/00000070.jpeg')]"
            ]
          },
          "metadata": {
            "tags": []
          },
          "execution_count": 14
        }
      ]
    },
    {
      "cell_type": "code",
      "metadata": {
        "id": "DaqRuiI9PFlv"
      },
      "source": [
        "# Remove all images that we can't open \r\n",
        "failed.map(Path.unlink);"
      ],
      "execution_count": null,
      "outputs": []
    },
    {
      "cell_type": "markdown",
      "metadata": {
        "id": "BKykR-vOpmCr"
      },
      "source": [
        "# Set up DataLoader "
      ]
    },
    {
      "cell_type": "code",
      "metadata": {
        "id": "JLoLW6aMSh3C"
      },
      "source": [
        "pizzas = Data"
      ],
      "execution_count": null,
      "outputs": []
    }
  ]
}