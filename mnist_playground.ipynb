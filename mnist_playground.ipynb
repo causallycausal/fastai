{
  "nbformat": 4,
  "nbformat_minor": 0,
  "metadata": {
    "accelerator": "GPU",
    "colab": {
      "name": "mnist_playground.ipynb",
      "provenance": [],
      "collapsed_sections": [],
      "authorship_tag": "ABX9TyODY7MG/qJ0681xPeJrLpJE",
      "include_colab_link": true
    },
    "kernelspec": {
      "display_name": "Python 3",
      "name": "python3"
    }
  },
  "cells": [
    {
      "cell_type": "markdown",
      "metadata": {
        "id": "view-in-github",
        "colab_type": "text"
      },
      "source": [
        "<a href=\"https://colab.research.google.com/github/causallycausal/fastai/blob/chap4-dev/mnist_playground.ipynb\" target=\"_parent\"><img src=\"https://colab.research.google.com/assets/colab-badge.svg\" alt=\"Open In Colab\"/></a>"
      ]
    },
    {
      "cell_type": "code",
      "metadata": {
        "colab": {
          "base_uri": "https://localhost:8080/"
        },
        "id": "37NYp8fSyKHj",
        "outputId": "acc7bc0c-fed6-495b-dc83-f5f85e0103e7"
      },
      "source": [
        "#hide\r\n",
        "!pip install -Uqq fastbook\r\n",
        "import fastbook\r\n",
        "fastbook.setup_book()"
      ],
      "execution_count": 2,
      "outputs": [
        {
          "output_type": "stream",
          "text": [
            "\u001b[K     |████████████████████████████████| 727kB 17.7MB/s \n",
            "\u001b[K     |████████████████████████████████| 1.2MB 42.3MB/s \n",
            "\u001b[K     |████████████████████████████████| 194kB 58.1MB/s \n",
            "\u001b[K     |████████████████████████████████| 51kB 9.2MB/s \n",
            "\u001b[K     |████████████████████████████████| 61kB 10.7MB/s \n",
            "\u001b[?25hMounted at /content/gdrive\n"
          ],
          "name": "stdout"
        }
      ]
    },
    {
      "cell_type": "code",
      "metadata": {
        "id": "lQhJ4Z1mhI59"
      },
      "source": [
        "#hide\r\n",
        "from fastai.vision.all import *\r\n",
        "from fastbook import *\r\n",
        "\r\n",
        "matplotlib.rc('image', cmap='Greys')"
      ],
      "execution_count": 3,
      "outputs": []
    },
    {
      "cell_type": "code",
      "metadata": {
        "colab": {
          "base_uri": "https://localhost:8080/",
          "height": 17
        },
        "id": "DoyjiFSMiQfx",
        "outputId": "cc632387-7ccd-413e-8ae7-a80c870d6d53"
      },
      "source": [
        "#TODO: \r\n",
        "# Create the baseline model?\r\n",
        "# Create train and test data sets \r\n",
        "\r\n",
        "# Download the entire MINST \r\n",
        "path = untar_data(URLs.MNIST)\r\n"
      ],
      "execution_count": 4,
      "outputs": [
        {
          "output_type": "display_data",
          "data": {
            "text/html": [
              ""
            ],
            "text/plain": [
              "<IPython.core.display.HTML object>"
            ]
          },
          "metadata": {
            "tags": []
          }
        }
      ]
    },
    {
      "cell_type": "code",
      "metadata": {
        "colab": {
          "base_uri": "https://localhost:8080/"
        },
        "id": "C21Q2KTg3NYc",
        "outputId": "e77223d8-6b88-487e-a8d5-e989df9e9067"
      },
      "source": [
        "path.ls()"
      ],
      "execution_count": 5,
      "outputs": [
        {
          "output_type": "execute_result",
          "data": {
            "text/plain": [
              "(#2) [Path('/root/.fastai/data/mnist_png/testing'),Path('/root/.fastai/data/mnist_png/training')]"
            ]
          },
          "metadata": {
            "tags": []
          },
          "execution_count": 5
        }
      ]
    },
    {
      "cell_type": "code",
      "metadata": {
        "colab": {
          "base_uri": "https://localhost:8080/"
        },
        "id": "g05v4si-3VtT",
        "outputId": "fb5e18e1-774d-4cbb-cf8d-9f0278ca0842"
      },
      "source": [
        "(path/'training').ls().sorted()"
      ],
      "execution_count": 6,
      "outputs": [
        {
          "output_type": "execute_result",
          "data": {
            "text/plain": [
              "(#10) [Path('/root/.fastai/data/mnist_png/training/0'),Path('/root/.fastai/data/mnist_png/training/1'),Path('/root/.fastai/data/mnist_png/training/2'),Path('/root/.fastai/data/mnist_png/training/3'),Path('/root/.fastai/data/mnist_png/training/4'),Path('/root/.fastai/data/mnist_png/training/5'),Path('/root/.fastai/data/mnist_png/training/6'),Path('/root/.fastai/data/mnist_png/training/7'),Path('/root/.fastai/data/mnist_png/training/8'),Path('/root/.fastai/data/mnist_png/training/9')]"
            ]
          },
          "metadata": {
            "tags": []
          },
          "execution_count": 6
        }
      ]
    },
    {
      "cell_type": "code",
      "metadata": {
        "id": "C9RAJ0TR3uo5"
      },
      "source": [
        "digits = []\r\n",
        "for i in range(10):\r\n",
        "  digits.append((path/f'training/{i}').ls().sorted())"
      ],
      "execution_count": 7,
      "outputs": []
    },
    {
      "cell_type": "code",
      "metadata": {
        "colab": {
          "base_uri": "https://localhost:8080/"
        },
        "id": "7D2rO5sX5o_K",
        "outputId": "d75ce138-d187-4d4b-e7d9-8677d611d1ba"
      },
      "source": [
        "example_zero = digits[0][0]\r\n",
        "example_zero"
      ],
      "execution_count": 8,
      "outputs": [
        {
          "output_type": "execute_result",
          "data": {
            "text/plain": [
              "Path('/root/.fastai/data/mnist_png/training/0/1.png')"
            ]
          },
          "metadata": {
            "tags": []
          },
          "execution_count": 8
        }
      ]
    },
    {
      "cell_type": "code",
      "metadata": {
        "colab": {
          "base_uri": "https://localhost:8080/",
          "height": 45
        },
        "id": "3Pc57NeE7Lmj",
        "outputId": "9d629c72-5b71-426d-8626-422e50f14dbd"
      },
      "source": [
        "img0 = Image.open(example_zero)\r\n",
        "img0"
      ],
      "execution_count": 9,
      "outputs": [
        {
          "output_type": "execute_result",
          "data": {
            "image/png": "[encoded data removed]",
            "text/plain": [
              "<PIL.PngImagePlugin.PngImageFile image mode=L size=28x28 at 0x7FE813DAC668>"
            ]
          },
          "metadata": {
            "tags": []
          },
          "execution_count": 9
        }
      ]
    },
    {
      "cell_type": "code",
      "metadata": {
        "colab": {
          "base_uri": "https://localhost:8080/"
        },
        "id": "f02zBb157gtC",
        "outputId": "297e0d50-6f88-4de6-ddd5-f664a53672a9"
      },
      "source": [
        "def print_total(dataset):\r\n",
        "  total = 0 \r\n",
        "  for i in range(10): \r\n",
        "    num_digits = len(dataset[i])\r\n",
        "    print(f\"Number of {i} digits: {num_digits}\")\r\n",
        "    total += num_digits\r\n",
        "\r\n",
        "  print(f\"The total number of digits: {total}\")\r\n",
        "\r\n",
        "print_total(digits)"
      ],
      "execution_count": 10,
      "outputs": [
        {
          "output_type": "stream",
          "text": [
            "Number of 0 digits: 5923\n",
            "Number of 1 digits: 6742\n",
            "Number of 2 digits: 5958\n",
            "Number of 3 digits: 6131\n",
            "Number of 4 digits: 5842\n",
            "Number of 5 digits: 5421\n",
            "Number of 6 digits: 5918\n",
            "Number of 7 digits: 6265\n",
            "Number of 8 digits: 5851\n",
            "Number of 9 digits: 5949\n",
            "The total number of digits: 60000\n"
          ],
          "name": "stdout"
        }
      ]
    },
    {
      "cell_type": "code",
      "metadata": {
        "colab": {
          "base_uri": "https://localhost:8080/",
          "height": 639
        },
        "id": "5gvh15Vb7tTT",
        "outputId": "a61b0e54-15f4-471a-d4ab-123da9870b64"
      },
      "source": [
        "img0_t = tensor(img0)\r\n",
        "df = pd.DataFrame(img0_t)\r\n",
        "df.style.set_properties(**{'font-size':'6pt'}).background_gradient('Greys')"
      ],
      "execution_count": 11,
      "outputs": [
        {
          "output_type": "execute_result",
          "data": {
            "text/html": [
              "<style  type=\"text/css\" >\n",
              "#T_ef314a24_624e_11eb_9457_0242ac1c0002row0_col0,#T_ef314a24_624e_11eb_9457_0242ac1c0002row0_col1,#T_ef314a24_624e_11eb_9457_0242ac1c0002row0_col2,#T_ef314a24_624e_11eb_9457_0242ac1c0002row0_col3,#T_ef314a24_624e_11eb_9457_0242ac1c0002row0_col4,#T_ef314a24_624e_11eb_9457_0242ac1c0002row0_col5,#T_ef314a24_624e_11eb_9457_0242ac1c0002row0_col6,#T_ef314a24_624e_11eb_9457_0242ac1c0002row0_col7,#T_ef314a24_624e_11eb_9457_0242ac1c0002row0_col8,#T_ef314a24_624e_11eb_9457_0242ac1c0002row0_col9,#T_ef314a24_624e_11eb_9457_0242ac1c0002row0_col10,#T_ef314a24_624e_11eb_9457_0242ac1c0002row0_col11,#T_ef314a24_624e_11eb_9457_0242ac1c0002row0_col12,#T_ef314a24_624e_11eb_9457_0242ac1c0002row0_col13,#T_ef314a24_624e_11eb_9457_0242ac1c0002row0_col14,#T_ef314a24_624e_11eb_9457_0242ac1c0002row0_col15,#T_ef314a24_624e_11eb_9457_0242ac1c0002row0_col16,#T_ef314a24_624e_11eb_9457_0242ac1c0002row0_col17,#T_ef314a24_624e_11eb_9457_0242ac1c0002row0_col18,#T_ef314a24_624e_11eb_9457_0242ac1c0002row0_col19,#T_ef314a24_624e_11eb_9457_0242ac1c0002row0_col20,#T_ef314a24_624e_11eb_9457_0242ac1c0002row0_col21,#T_ef314a24_624e_11eb_9457_0242ac1c0002row0_col22,#T_ef314a24_624e_11eb_9457_0242ac1c0002row0_col23,#T_ef314a24_624e_11eb_9457_0242ac1c0002row0_col24,#T_ef314a24_624e_11eb_9457_0242ac1c0002row0_col25,#T_ef314a24_624e_11eb_9457_0242ac1c0002row0_col26,#T_ef314a24_624e_11eb_9457_0242ac1c0002row0_col27,#T_ef314a24_624e_11eb_9457_0242ac1c0002row1_col0,#T_ef314a24_624e_11eb_9457_0242ac1c0002row1_col1,#T_ef314a24_624e_11eb_9457_0242ac1c0002row1_col2,#T_ef314a24_624e_11eb_9457_0242ac1c0002row1_col3,#T_ef314a24_624e_11eb_9457_0242ac1c0002row1_col4,#T_ef314a24_624e_11eb_9457_0242ac1c0002row1_col5,#T_ef314a24_624e_11eb_9457_0242ac1c0002row1_col6,#T_ef314a24_624e_11eb_9457_0242ac1c0002row1_col7,#T_ef314a24_624e_11eb_9457_0242ac1c0002row1_col8,#T_ef314a24_624e_11eb_9457_0242ac1c0002row1_col9,#T_ef314a24_624e_11eb_9457_0242ac1c0002row1_col10,#T_ef314a24_624e_11eb_9457_0242ac1c0002row1_col11,#T_ef314a24_624e_11eb_9457_0242ac1c0002row1_col12,#T_ef314a24_624e_11eb_9457_0242ac1c0002row1_col13,#T_ef314a24_624e_11eb_9457_0242ac1c0002row1_col14,#T_ef314a24_624e_11eb_9457_0242ac1c0002row1_col15,#T_ef314a24_624e_11eb_9457_0242ac1c0002row1_col16,#T_ef314a24_624e_11eb_9457_0242ac1c0002row1_col17,#T_ef314a24_624e_11eb_9457_0242ac1c0002row1_col18,#T_ef314a24_624e_11eb_9457_0242ac1c0002row1_col19,#T_ef314a24_624e_11eb_9457_0242ac1c0002row1_col20,#T_ef314a24_624e_11eb_9457_0242ac1c0002row1_col21,#T_ef314a24_624e_11eb_9457_0242ac1c0002row1_col22,#T_ef314a24_624e_11eb_9457_0242ac1c0002row1_col23,#T_ef314a24_624e_11eb_9457_0242ac1c0002row1_col24,#T_ef314a24_624e_11eb_9457_0242ac1c0002row1_col25,#T_ef314a24_624e_11eb_9457_0242ac1c0002row1_col26,#T_ef314a24_624e_11eb_9457_0242ac1c0002row1_col27,#T_ef314a24_624e_11eb_9457_0242ac1c0002row2_col0,#T_ef314a24_624e_11eb_9457_0242ac1c0002row2_col1,#T_ef314a24_624e_11eb_9457_0242ac1c0002row2_col2,#T_ef314a24_624e_11eb_9457_0242ac1c0002row2_col3,#T_ef314a24_624e_11eb_9457_0242ac1c0002row2_col4,#T_ef314a24_624e_11eb_9457_0242ac1c0002row2_col5,#T_ef314a24_624e_11eb_9457_0242ac1c0002row2_col6,#T_ef314a24_624e_11eb_9457_0242ac1c0002row2_col7,#T_ef314a24_624e_11eb_9457_0242ac1c0002row2_col8,#T_ef314a24_624e_11eb_9457_0242ac1c0002row2_col9,#T_ef314a24_624e_11eb_9457_0242ac1c0002row2_col10,#T_ef314a24_624e_11eb_9457_0242ac1c0002row2_col11,#T_ef314a24_624e_11eb_9457_0242ac1c0002row2_col12,#T_ef314a24_624e_11eb_9457_0242ac1c0002row2_col13,#T_ef314a24_624e_11eb_9457_0242ac1c0002row2_col14,#T_ef314a24_624e_11eb_9457_0242ac1c0002row2_col15,#T_ef314a24_624e_11eb_9457_0242ac1c0002row2_col16,#T_ef314a24_624e_11eb_9457_0242ac1c0002row2_col17,#T_ef314a24_624e_11eb_9457_0242ac1c0002row2_col18,#T_ef314a24_624e_11eb_9457_0242ac1c0002row2_col19,#T_ef314a24_624e_11eb_9457_0242ac1c0002row2_col20,#T_ef314a24_624e_11eb_9457_0242ac1c0002row2_col21,#T_ef314a24_624e_11eb_9457_0242ac1c0002row2_col22,#T_ef314a24_624e_11eb_9457_0242ac1c0002row2_col23,#T_ef314a24_624e_11eb_9457_0242ac1c0002row2_col24,#T_ef314a24_624e_11eb_9457_0242ac1c0002row2_col25,#T_ef314a24_624e_11eb_9457_0242ac1c0002row2_col26,#T_ef314a24_624e_11eb_9457_0242ac1c0002row2_col27,#T_ef314a24_624e_11eb_9457_0242ac1c0002row3_col0,#T_ef314a24_624e_11eb_9457_0242ac1c0002row3_col1,#T_ef314a24_624e_11eb_9457_0242ac1c0002row3_col2,#T_ef314a24_624e_11eb_9457_0242ac1c0002row3_col3,#T_ef314a24_624e_11eb_9457_0242ac1c0002row3_col4,#T_ef314a24_624e_11eb_9457_0242ac1c0002row3_col5,#T_ef314a24_624e_11eb_9457_0242ac1c0002row3_col6,#T_ef314a24_624e_11eb_9457_0242ac1c0002row3_col7,#T_ef314a24_624e_11eb_9457_0242ac1c0002row3_col8,#T_ef314a24_624e_11eb_9457_0242ac1c0002row3_col9,#T_ef314a24_624e_11eb_9457_0242ac1c0002row3_col10,#T_ef314a24_624e_11eb_9457_0242ac1c0002row3_col11,#T_ef314a24_624e_11eb_9457_0242ac1c0002row3_col12,#T_ef314a24_624e_11eb_9457_0242ac1c0002row3_col13,#T_ef314a24_624e_11eb_9457_0242ac1c0002row3_col14,#T_ef314a24_624e_11eb_9457_0242ac1c0002row3_col15,#T_ef314a24_624e_11eb_9457_0242ac1c0002row3_col16,#T_ef314a24_624e_11eb_9457_0242ac1c0002row3_col17,#T_ef314a24_624e_11eb_9457_0242ac1c0002row3_col18,#T_ef314a24_624e_11eb_9457_0242ac1c0002row3_col19,#T_ef314a24_624e_11eb_9457_0242ac1c0002row3_col20,#T_ef314a24_624e_11eb_9457_0242ac1c0002row3_col21,#T_ef314a24_624e_11eb_9457_0242ac1c0002row3_col22,#T_ef314a24_624e_11eb_9457_0242ac1c0002row3_col23,#T_ef314a24_624e_11eb_9457_0242ac1c0002row3_col24,#T_ef314a24_624e_11eb_9457_0242ac1c0002row3_col25,#T_ef314a24_624e_11eb_9457_0242ac1c0002row3_col26,#T_ef314a24_624e_11eb_9457_0242ac1c0002row3_col27,#T_ef314a24_624e_11eb_9457_0242ac1c0002row4_col0,#T_ef314a24_624e_11eb_9457_0242ac1c0002row4_col1,#T_ef314a24_624e_11eb_9457_0242ac1c0002row4_col2,#T_ef314a24_624e_11eb_9457_0242ac1c0002row4_col3,#T_ef314a24_624e_11eb_9457_0242ac1c0002row4_col4,#T_ef314a24_624e_11eb_9457_0242ac1c0002row4_col5,#T_ef314a24_624e_11eb_9457_0242ac1c0002row4_col6,#T_ef314a24_624e_11eb_9457_0242ac1c0002row4_col7,#T_ef314a24_624e_11eb_9457_0242ac1c0002row4_col8,#T_ef314a24_624e_11eb_9457_0242ac1c0002row4_col9,#T_ef314a24_624e_11eb_9457_0242ac1c0002row4_col10,#T_ef314a24_624e_11eb_9457_0242ac1c0002row4_col11,#T_ef314a24_624e_11eb_9457_0242ac1c0002row4_col12,#T_ef314a24_624e_11eb_9457_0242ac1c0002row4_col13,#T_ef314a24_624e_11eb_9457_0242ac1c0002row4_col14,#T_ef314a24_624e_11eb_9457_0242ac1c0002row4_col20,#T_ef314a24_624e_11eb_9457_0242ac1c0002row4_col21,#T_ef314a24_624e_11eb_9457_0242ac1c0002row4_col22,#T_ef314a24_624e_11eb_9457_0242ac1c0002row4_col23,#T_ef314a24_624e_11eb_9457_0242ac1c0002row4_col24,#T_ef314a24_624e_11eb_9457_0242ac1c0002row4_col25,#T_ef314a24_624e_11eb_9457_0242ac1c0002row4_col26,#T_ef314a24_624e_11eb_9457_0242ac1c0002row4_col27,#T_ef314a24_624e_11eb_9457_0242ac1c0002row5_col0,#T_ef314a24_624e_11eb_9457_0242ac1c0002row5_col1,#T_ef314a24_624e_11eb_9457_0242ac1c0002row5_col2,#T_ef314a24_624e_11eb_9457_0242ac1c0002row5_col3,#T_ef314a24_624e_11eb_9457_0242ac1c0002row5_col4,#T_ef314a24_624e_11eb_9457_0242ac1c0002row5_col5,#T_ef314a24_624e_11eb_9457_0242ac1c0002row5_col6,#T_ef314a24_624e_11eb_9457_0242ac1c0002row5_col7,#T_ef314a24_624e_11eb_9457_0242ac1c0002row5_col8,#T_ef314a24_624e_11eb_9457_0242ac1c0002row5_col9,#T_ef314a24_624e_11eb_9457_0242ac1c0002row5_col10,#T_ef314a24_624e_11eb_9457_0242ac1c0002row5_col11,#T_ef314a24_624e_11eb_9457_0242ac1c0002row5_col12,#T_ef314a24_624e_11eb_9457_0242ac1c0002row5_col13,#T_ef314a24_624e_11eb_9457_0242ac1c0002row5_col20,#T_ef314a24_624e_11eb_9457_0242ac1c0002row5_col21,#T_ef314a24_624e_11eb_9457_0242ac1c0002row5_col22,#T_ef314a24_624e_11eb_9457_0242ac1c0002row5_col23,#T_ef314a24_624e_11eb_9457_0242ac1c0002row5_col24,#T_ef314a24_624e_11eb_9457_0242ac1c0002row5_col25,#T_ef314a24_624e_11eb_9457_0242ac1c0002row5_col26,#T_ef314a24_624e_11eb_9457_0242ac1c0002row5_col27,#T_ef314a24_624e_11eb_9457_0242ac1c0002row6_col0,#T_ef314a24_624e_11eb_9457_0242ac1c0002row6_col1,#T_ef314a24_624e_11eb_9457_0242ac1c0002row6_col2,#T_ef314a24_624e_11eb_9457_0242ac1c0002row6_col3,#T_ef314a24_624e_11eb_9457_0242ac1c0002row6_col4,#T_ef314a24_624e_11eb_9457_0242ac1c0002row6_col5,#T_ef314a24_624e_11eb_9457_0242ac1c0002row6_col6,#T_ef314a24_624e_11eb_9457_0242ac1c0002row6_col7,#T_ef314a24_624e_11eb_9457_0242ac1c0002row6_col8,#T_ef314a24_624e_11eb_9457_0242ac1c0002row6_col9,#T_ef314a24_624e_11eb_9457_0242ac1c0002row6_col10,#T_ef314a24_624e_11eb_9457_0242ac1c0002row6_col11,#T_ef314a24_624e_11eb_9457_0242ac1c0002row6_col12,#T_ef314a24_624e_11eb_9457_0242ac1c0002row6_col22,#T_ef314a24_624e_11eb_9457_0242ac1c0002row6_col23,#T_ef314a24_624e_11eb_9457_0242ac1c0002row6_col24,#T_ef314a24_624e_11eb_9457_0242ac1c0002row6_col25,#T_ef314a24_624e_11eb_9457_0242ac1c0002row6_col26,#T_ef314a24_624e_11eb_9457_0242ac1c0002row6_col27,#T_ef314a24_624e_11eb_9457_0242ac1c0002row7_col0,#T_ef314a24_624e_11eb_9457_0242ac1c0002row7_col1,#T_ef314a24_624e_11eb_9457_0242ac1c0002row7_col2,#T_ef314a24_624e_11eb_9457_0242ac1c0002row7_col3,#T_ef314a24_624e_11eb_9457_0242ac1c0002row7_col4,#T_ef314a24_624e_11eb_9457_0242ac1c0002row7_col5,#T_ef314a24_624e_11eb_9457_0242ac1c0002row7_col6,#T_ef314a24_624e_11eb_9457_0242ac1c0002row7_col7,#T_ef314a24_624e_11eb_9457_0242ac1c0002row7_col8,#T_ef314a24_624e_11eb_9457_0242ac1c0002row7_col9,#T_ef314a24_624e_11eb_9457_0242ac1c0002row7_col10,#T_ef314a24_624e_11eb_9457_0242ac1c0002row7_col22,#T_ef314a24_624e_11eb_9457_0242ac1c0002row7_col23,#T_ef314a24_624e_11eb_9457_0242ac1c0002row7_col24,#T_ef314a24_624e_11eb_9457_0242ac1c0002row7_col25,#T_ef314a24_624e_11eb_9457_0242ac1c0002row7_col26,#T_ef314a24_624e_11eb_9457_0242ac1c0002row7_col27,#T_ef314a24_624e_11eb_9457_0242ac1c0002row8_col0,#T_ef314a24_624e_11eb_9457_0242ac1c0002row8_col1,#T_ef314a24_624e_11eb_9457_0242ac1c0002row8_col2,#T_ef314a24_624e_11eb_9457_0242ac1c0002row8_col3,#T_ef314a24_624e_11eb_9457_0242ac1c0002row8_col4,#T_ef314a24_624e_11eb_9457_0242ac1c0002row8_col5,#T_ef314a24_624e_11eb_9457_0242ac1c0002row8_col6,#T_ef314a24_624e_11eb_9457_0242ac1c0002row8_col7,#T_ef314a24_624e_11eb_9457_0242ac1c0002row8_col8,#T_ef314a24_624e_11eb_9457_0242ac1c0002row8_col9,#T_ef314a24_624e_11eb_9457_0242ac1c0002row8_col10,#T_ef314a24_624e_11eb_9457_0242ac1c0002row8_col22,#T_ef314a24_624e_11eb_9457_0242ac1c0002row8_col23,#T_ef314a24_624e_11eb_9457_0242ac1c0002row8_col24,#T_ef314a24_624e_11eb_9457_0242ac1c0002row8_col25,#T_ef314a24_624e_11eb_9457_0242ac1c0002row8_col26,#T_ef314a24_624e_11eb_9457_0242ac1c0002row8_col27,#T_ef314a24_624e_11eb_9457_0242ac1c0002row9_col0,#T_ef314a24_624e_11eb_9457_0242ac1c0002row9_col1,#T_ef314a24_624e_11eb_9457_0242ac1c0002row9_col2,#T_ef314a24_624e_11eb_9457_0242ac1c0002row9_col3,#T_ef314a24_624e_11eb_9457_0242ac1c0002row9_col4,#T_ef314a24_624e_11eb_9457_0242ac1c0002row9_col5,#T_ef314a24_624e_11eb_9457_0242ac1c0002row9_col6,#T_ef314a24_624e_11eb_9457_0242ac1c0002row9_col7,#T_ef314a24_624e_11eb_9457_0242ac1c0002row9_col8,#T_ef314a24_624e_11eb_9457_0242ac1c0002row9_col9,#T_ef314a24_624e_11eb_9457_0242ac1c0002row9_col22,#T_ef314a24_624e_11eb_9457_0242ac1c0002row9_col23,#T_ef314a24_624e_11eb_9457_0242ac1c0002row9_col24,#T_ef314a24_624e_11eb_9457_0242ac1c0002row9_col25,#T_ef314a24_624e_11eb_9457_0242ac1c0002row9_col26,#T_ef314a24_624e_11eb_9457_0242ac1c0002row9_col27,#T_ef314a24_624e_11eb_9457_0242ac1c0002row10_col0,#T_ef314a24_624e_11eb_9457_0242ac1c0002row10_col1,#T_ef314a24_624e_11eb_9457_0242ac1c0002row10_col2,#T_ef314a24_624e_11eb_9457_0242ac1c0002row10_col3,#T_ef314a24_624e_11eb_9457_0242ac1c0002row10_col4,#T_ef314a24_624e_11eb_9457_0242ac1c0002row10_col5,#T_ef314a24_624e_11eb_9457_0242ac1c0002row10_col6,#T_ef314a24_624e_11eb_9457_0242ac1c0002row10_col7,#T_ef314a24_624e_11eb_9457_0242ac1c0002row10_col8,#T_ef314a24_624e_11eb_9457_0242ac1c0002row10_col18,#T_ef314a24_624e_11eb_9457_0242ac1c0002row10_col19,#T_ef314a24_624e_11eb_9457_0242ac1c0002row10_col23,#T_ef314a24_624e_11eb_9457_0242ac1c0002row10_col24,#T_ef314a24_624e_11eb_9457_0242ac1c0002row10_col25,#T_ef314a24_624e_11eb_9457_0242ac1c0002row10_col26,#T_ef314a24_624e_11eb_9457_0242ac1c0002row10_col27,#T_ef314a24_624e_11eb_9457_0242ac1c0002row11_col0,#T_ef314a24_624e_11eb_9457_0242ac1c0002row11_col1,#T_ef314a24_624e_11eb_9457_0242ac1c0002row11_col2,#T_ef314a24_624e_11eb_9457_0242ac1c0002row11_col3,#T_ef314a24_624e_11eb_9457_0242ac1c0002row11_col4,#T_ef314a24_624e_11eb_9457_0242ac1c0002row11_col5,#T_ef314a24_624e_11eb_9457_0242ac1c0002row11_col6,#T_ef314a24_624e_11eb_9457_0242ac1c0002row11_col7,#T_ef314a24_624e_11eb_9457_0242ac1c0002row11_col14,#T_ef314a24_624e_11eb_9457_0242ac1c0002row11_col15,#T_ef314a24_624e_11eb_9457_0242ac1c0002row11_col16,#T_ef314a24_624e_11eb_9457_0242ac1c0002row11_col17,#T_ef314a24_624e_11eb_9457_0242ac1c0002row11_col18,#T_ef314a24_624e_11eb_9457_0242ac1c0002row11_col19,#T_ef314a24_624e_11eb_9457_0242ac1c0002row11_col23,#T_ef314a24_624e_11eb_9457_0242ac1c0002row11_col24,#T_ef314a24_624e_11eb_9457_0242ac1c0002row11_col25,#T_ef314a24_624e_11eb_9457_0242ac1c0002row11_col26,#T_ef314a24_624e_11eb_9457_0242ac1c0002row11_col27,#T_ef314a24_624e_11eb_9457_0242ac1c0002row12_col0,#T_ef314a24_624e_11eb_9457_0242ac1c0002row12_col1,#T_ef314a24_624e_11eb_9457_0242ac1c0002row12_col2,#T_ef314a24_624e_11eb_9457_0242ac1c0002row12_col3,#T_ef314a24_624e_11eb_9457_0242ac1c0002row12_col4,#T_ef314a24_624e_11eb_9457_0242ac1c0002row12_col5,#T_ef314a24_624e_11eb_9457_0242ac1c0002row12_col6,#T_ef314a24_624e_11eb_9457_0242ac1c0002row12_col14,#T_ef314a24_624e_11eb_9457_0242ac1c0002row12_col15,#T_ef314a24_624e_11eb_9457_0242ac1c0002row12_col16,#T_ef314a24_624e_11eb_9457_0242ac1c0002row12_col17,#T_ef314a24_624e_11eb_9457_0242ac1c0002row12_col18,#T_ef314a24_624e_11eb_9457_0242ac1c0002row12_col19,#T_ef314a24_624e_11eb_9457_0242ac1c0002row12_col23,#T_ef314a24_624e_11eb_9457_0242ac1c0002row12_col24,#T_ef314a24_624e_11eb_9457_0242ac1c0002row12_col25,#T_ef314a24_624e_11eb_9457_0242ac1c0002row12_col26,#T_ef314a24_624e_11eb_9457_0242ac1c0002row12_col27,#T_ef314a24_624e_11eb_9457_0242ac1c0002row13_col0,#T_ef314a24_624e_11eb_9457_0242ac1c0002row13_col1,#T_ef314a24_624e_11eb_9457_0242ac1c0002row13_col2,#T_ef314a24_624e_11eb_9457_0242ac1c0002row13_col3,#T_ef314a24_624e_11eb_9457_0242ac1c0002row13_col4,#T_ef314a24_624e_11eb_9457_0242ac1c0002row13_col5,#T_ef314a24_624e_11eb_9457_0242ac1c0002row13_col6,#T_ef314a24_624e_11eb_9457_0242ac1c0002row13_col11,#T_ef314a24_624e_11eb_9457_0242ac1c0002row13_col12,#T_ef314a24_624e_11eb_9457_0242ac1c0002row13_col13,#T_ef314a24_624e_11eb_9457_0242ac1c0002row13_col14,#T_ef314a24_624e_11eb_9457_0242ac1c0002row13_col15,#T_ef314a24_624e_11eb_9457_0242ac1c0002row13_col16,#T_ef314a24_624e_11eb_9457_0242ac1c0002row13_col17,#T_ef314a24_624e_11eb_9457_0242ac1c0002row13_col18,#T_ef314a24_624e_11eb_9457_0242ac1c0002row13_col19,#T_ef314a24_624e_11eb_9457_0242ac1c0002row13_col23,#T_ef314a24_624e_11eb_9457_0242ac1c0002row13_col24,#T_ef314a24_624e_11eb_9457_0242ac1c0002row13_col25,#T_ef314a24_624e_11eb_9457_0242ac1c0002row13_col26,#T_ef314a24_624e_11eb_9457_0242ac1c0002row13_col27,#T_ef314a24_624e_11eb_9457_0242ac1c0002row14_col0,#T_ef314a24_624e_11eb_9457_0242ac1c0002row14_col1,#T_ef314a24_624e_11eb_9457_0242ac1c0002row14_col2,#T_ef314a24_624e_11eb_9457_0242ac1c0002row14_col3,#T_ef314a24_624e_11eb_9457_0242ac1c0002row14_col4,#T_ef314a24_624e_11eb_9457_0242ac1c0002row14_col5,#T_ef314a24_624e_11eb_9457_0242ac1c0002row14_col6,#T_ef314a24_624e_11eb_9457_0242ac1c0002row14_col10,#T_ef314a24_624e_11eb_9457_0242ac1c0002row14_col11,#T_ef314a24_624e_11eb_9457_0242ac1c0002row14_col12,#T_ef314a24_624e_11eb_9457_0242ac1c0002row14_col13,#T_ef314a24_624e_11eb_9457_0242ac1c0002row14_col14,#T_ef314a24_624e_11eb_9457_0242ac1c0002row14_col15,#T_ef314a24_624e_11eb_9457_0242ac1c0002row14_col16,#T_ef314a24_624e_11eb_9457_0242ac1c0002row14_col17,#T_ef314a24_624e_11eb_9457_0242ac1c0002row14_col18,#T_ef314a24_624e_11eb_9457_0242ac1c0002row14_col19,#T_ef314a24_624e_11eb_9457_0242ac1c0002row14_col23,#T_ef314a24_624e_11eb_9457_0242ac1c0002row14_col24,#T_ef314a24_624e_11eb_9457_0242ac1c0002row14_col25,#T_ef314a24_624e_11eb_9457_0242ac1c0002row14_col26,#T_ef314a24_624e_11eb_9457_0242ac1c0002row14_col27,#T_ef314a24_624e_11eb_9457_0242ac1c0002row15_col0,#T_ef314a24_624e_11eb_9457_0242ac1c0002row15_col1,#T_ef314a24_624e_11eb_9457_0242ac1c0002row15_col2,#T_ef314a24_624e_11eb_9457_0242ac1c0002row15_col3,#T_ef314a24_624e_11eb_9457_0242ac1c0002row15_col4,#T_ef314a24_624e_11eb_9457_0242ac1c0002row15_col5,#T_ef314a24_624e_11eb_9457_0242ac1c0002row15_col10,#T_ef314a24_624e_11eb_9457_0242ac1c0002row15_col11,#T_ef314a24_624e_11eb_9457_0242ac1c0002row15_col12,#T_ef314a24_624e_11eb_9457_0242ac1c0002row15_col13,#T_ef314a24_624e_11eb_9457_0242ac1c0002row15_col14,#T_ef314a24_624e_11eb_9457_0242ac1c0002row15_col15,#T_ef314a24_624e_11eb_9457_0242ac1c0002row15_col16,#T_ef314a24_624e_11eb_9457_0242ac1c0002row15_col17,#T_ef314a24_624e_11eb_9457_0242ac1c0002row15_col18,#T_ef314a24_624e_11eb_9457_0242ac1c0002row15_col19,#T_ef314a24_624e_11eb_9457_0242ac1c0002row15_col23,#T_ef314a24_624e_11eb_9457_0242ac1c0002row15_col24,#T_ef314a24_624e_11eb_9457_0242ac1c0002row15_col25,#T_ef314a24_624e_11eb_9457_0242ac1c0002row15_col26,#T_ef314a24_624e_11eb_9457_0242ac1c0002row15_col27,#T_ef314a24_624e_11eb_9457_0242ac1c0002row16_col0,#T_ef314a24_624e_11eb_9457_0242ac1c0002row16_col1,#T_ef314a24_624e_11eb_9457_0242ac1c0002row16_col2,#T_ef314a24_624e_11eb_9457_0242ac1c0002row16_col3,#T_ef314a24_624e_11eb_9457_0242ac1c0002row16_col4,#T_ef314a24_624e_11eb_9457_0242ac1c0002row16_col5,#T_ef314a24_624e_11eb_9457_0242ac1c0002row16_col10,#T_ef314a24_624e_11eb_9457_0242ac1c0002row16_col11,#T_ef314a24_624e_11eb_9457_0242ac1c0002row16_col12,#T_ef314a24_624e_11eb_9457_0242ac1c0002row16_col13,#T_ef314a24_624e_11eb_9457_0242ac1c0002row16_col14,#T_ef314a24_624e_11eb_9457_0242ac1c0002row16_col15,#T_ef314a24_624e_11eb_9457_0242ac1c0002row16_col16,#T_ef314a24_624e_11eb_9457_0242ac1c0002row16_col17,#T_ef314a24_624e_11eb_9457_0242ac1c0002row16_col23,#T_ef314a24_624e_11eb_9457_0242ac1c0002row16_col24,#T_ef314a24_624e_11eb_9457_0242ac1c0002row16_col25,#T_ef314a24_624e_11eb_9457_0242ac1c0002row16_col26,#T_ef314a24_624e_11eb_9457_0242ac1c0002row16_col27,#T_ef314a24_624e_11eb_9457_0242ac1c0002row17_col0,#T_ef314a24_624e_11eb_9457_0242ac1c0002row17_col1,#T_ef314a24_624e_11eb_9457_0242ac1c0002row17_col2,#T_ef314a24_624e_11eb_9457_0242ac1c0002row17_col3,#T_ef314a24_624e_11eb_9457_0242ac1c0002row17_col4,#T_ef314a24_624e_11eb_9457_0242ac1c0002row17_col5,#T_ef314a24_624e_11eb_9457_0242ac1c0002row17_col9,#T_ef314a24_624e_11eb_9457_0242ac1c0002row17_col10,#T_ef314a24_624e_11eb_9457_0242ac1c0002row17_col11,#T_ef314a24_624e_11eb_9457_0242ac1c0002row17_col12,#T_ef314a24_624e_11eb_9457_0242ac1c0002row17_col13,#T_ef314a24_624e_11eb_9457_0242ac1c0002row17_col14,#T_ef314a24_624e_11eb_9457_0242ac1c0002row17_col15,#T_ef314a24_624e_11eb_9457_0242ac1c0002row17_col16,#T_ef314a24_624e_11eb_9457_0242ac1c0002row17_col22,#T_ef314a24_624e_11eb_9457_0242ac1c0002row17_col23,#T_ef314a24_624e_11eb_9457_0242ac1c0002row17_col24,#T_ef314a24_624e_11eb_9457_0242ac1c0002row17_col25,#T_ef314a24_624e_11eb_9457_0242ac1c0002row17_col26,#T_ef314a24_624e_11eb_9457_0242ac1c0002row17_col27,#T_ef314a24_624e_11eb_9457_0242ac1c0002row18_col0,#T_ef314a24_624e_11eb_9457_0242ac1c0002row18_col1,#T_ef314a24_624e_11eb_9457_0242ac1c0002row18_col2,#T_ef314a24_624e_11eb_9457_0242ac1c0002row18_col3,#T_ef314a24_624e_11eb_9457_0242ac1c0002row18_col4,#T_ef314a24_624e_11eb_9457_0242ac1c0002row18_col5,#T_ef314a24_624e_11eb_9457_0242ac1c0002row18_col9,#T_ef314a24_624e_11eb_9457_0242ac1c0002row18_col10,#T_ef314a24_624e_11eb_9457_0242ac1c0002row18_col11,#T_ef314a24_624e_11eb_9457_0242ac1c0002row18_col12,#T_ef314a24_624e_11eb_9457_0242ac1c0002row18_col13,#T_ef314a24_624e_11eb_9457_0242ac1c0002row18_col14,#T_ef314a24_624e_11eb_9457_0242ac1c0002row18_col15,#T_ef314a24_624e_11eb_9457_0242ac1c0002row18_col20,#T_ef314a24_624e_11eb_9457_0242ac1c0002row18_col21,#T_ef314a24_624e_11eb_9457_0242ac1c0002row18_col22,#T_ef314a24_624e_11eb_9457_0242ac1c0002row18_col23,#T_ef314a24_624e_11eb_9457_0242ac1c0002row18_col24,#T_ef314a24_624e_11eb_9457_0242ac1c0002row18_col25,#T_ef314a24_624e_11eb_9457_0242ac1c0002row18_col26,#T_ef314a24_624e_11eb_9457_0242ac1c0002row18_col27,#T_ef314a24_624e_11eb_9457_0242ac1c0002row19_col0,#T_ef314a24_624e_11eb_9457_0242ac1c0002row19_col1,#T_ef314a24_624e_11eb_9457_0242ac1c0002row19_col2,#T_ef314a24_624e_11eb_9457_0242ac1c0002row19_col3,#T_ef314a24_624e_11eb_9457_0242ac1c0002row19_col4,#T_ef314a24_624e_11eb_9457_0242ac1c0002row19_col5,#T_ef314a24_624e_11eb_9457_0242ac1c0002row19_col9,#T_ef314a24_624e_11eb_9457_0242ac1c0002row19_col10,#T_ef314a24_624e_11eb_9457_0242ac1c0002row19_col11,#T_ef314a24_624e_11eb_9457_0242ac1c0002row19_col12,#T_ef314a24_624e_11eb_9457_0242ac1c0002row19_col13,#T_ef314a24_624e_11eb_9457_0242ac1c0002row19_col14,#T_ef314a24_624e_11eb_9457_0242ac1c0002row19_col19,#T_ef314a24_624e_11eb_9457_0242ac1c0002row19_col20,#T_ef314a24_624e_11eb_9457_0242ac1c0002row19_col21,#T_ef314a24_624e_11eb_9457_0242ac1c0002row19_col22,#T_ef314a24_624e_11eb_9457_0242ac1c0002row19_col23,#T_ef314a24_624e_11eb_9457_0242ac1c0002row19_col24,#T_ef314a24_624e_11eb_9457_0242ac1c0002row19_col25,#T_ef314a24_624e_11eb_9457_0242ac1c0002row19_col26,#T_ef314a24_624e_11eb_9457_0242ac1c0002row19_col27,#T_ef314a24_624e_11eb_9457_0242ac1c0002row20_col0,#T_ef314a24_624e_11eb_9457_0242ac1c0002row20_col1,#T_ef314a24_624e_11eb_9457_0242ac1c0002row20_col2,#T_ef314a24_624e_11eb_9457_0242ac1c0002row20_col3,#T_ef314a24_624e_11eb_9457_0242ac1c0002row20_col4,#T_ef314a24_624e_11eb_9457_0242ac1c0002row20_col5,#T_ef314a24_624e_11eb_9457_0242ac1c0002row20_col19,#T_ef314a24_624e_11eb_9457_0242ac1c0002row20_col20,#T_ef314a24_624e_11eb_9457_0242ac1c0002row20_col21,#T_ef314a24_624e_11eb_9457_0242ac1c0002row20_col22,#T_ef314a24_624e_11eb_9457_0242ac1c0002row20_col23,#T_ef314a24_624e_11eb_9457_0242ac1c0002row20_col24,#T_ef314a24_624e_11eb_9457_0242ac1c0002row20_col25,#T_ef314a24_624e_11eb_9457_0242ac1c0002row20_col26,#T_ef314a24_624e_11eb_9457_0242ac1c0002row20_col27,#T_ef314a24_624e_11eb_9457_0242ac1c0002row21_col0,#T_ef314a24_624e_11eb_9457_0242ac1c0002row21_col1,#T_ef314a24_624e_11eb_9457_0242ac1c0002row21_col2,#T_ef314a24_624e_11eb_9457_0242ac1c0002row21_col3,#T_ef314a24_624e_11eb_9457_0242ac1c0002row21_col4,#T_ef314a24_624e_11eb_9457_0242ac1c0002row21_col5,#T_ef314a24_624e_11eb_9457_0242ac1c0002row21_col17,#T_ef314a24_624e_11eb_9457_0242ac1c0002row21_col18,#T_ef314a24_624e_11eb_9457_0242ac1c0002row21_col19,#T_ef314a24_624e_11eb_9457_0242ac1c0002row21_col20,#T_ef314a24_624e_11eb_9457_0242ac1c0002row21_col21,#T_ef314a24_624e_11eb_9457_0242ac1c0002row21_col22,#T_ef314a24_624e_11eb_9457_0242ac1c0002row21_col23,#T_ef314a24_624e_11eb_9457_0242ac1c0002row21_col24,#T_ef314a24_624e_11eb_9457_0242ac1c0002row21_col25,#T_ef314a24_624e_11eb_9457_0242ac1c0002row21_col26,#T_ef314a24_624e_11eb_9457_0242ac1c0002row21_col27,#T_ef314a24_624e_11eb_9457_0242ac1c0002row22_col0,#T_ef314a24_624e_11eb_9457_0242ac1c0002row22_col1,#T_ef314a24_624e_11eb_9457_0242ac1c0002row22_col2,#T_ef314a24_624e_11eb_9457_0242ac1c0002row22_col3,#T_ef314a24_624e_11eb_9457_0242ac1c0002row22_col4,#T_ef314a24_624e_11eb_9457_0242ac1c0002row22_col5,#T_ef314a24_624e_11eb_9457_0242ac1c0002row22_col15,#T_ef314a24_624e_11eb_9457_0242ac1c0002row22_col16,#T_ef314a24_624e_11eb_9457_0242ac1c0002row22_col17,#T_ef314a24_624e_11eb_9457_0242ac1c0002row22_col18,#T_ef314a24_624e_11eb_9457_0242ac1c0002row22_col19,#T_ef314a24_624e_11eb_9457_0242ac1c0002row22_col20,#T_ef314a24_624e_11eb_9457_0242ac1c0002row22_col21,#T_ef314a24_624e_11eb_9457_0242ac1c0002row22_col22,#T_ef314a24_624e_11eb_9457_0242ac1c0002row22_col23,#T_ef314a24_624e_11eb_9457_0242ac1c0002row22_col24,#T_ef314a24_624e_11eb_9457_0242ac1c0002row22_col25,#T_ef314a24_624e_11eb_9457_0242ac1c0002row22_col26,#T_ef314a24_624e_11eb_9457_0242ac1c0002row22_col27,#T_ef314a24_624e_11eb_9457_0242ac1c0002row23_col0,#T_ef314a24_624e_11eb_9457_0242ac1c0002row23_col1,#T_ef314a24_624e_11eb_9457_0242ac1c0002row23_col2,#T_ef314a24_624e_11eb_9457_0242ac1c0002row23_col3,#T_ef314a24_624e_11eb_9457_0242ac1c0002row23_col4,#T_ef314a24_624e_11eb_9457_0242ac1c0002row23_col5,#T_ef314a24_624e_11eb_9457_0242ac1c0002row23_col6,#T_ef314a24_624e_11eb_9457_0242ac1c0002row23_col14,#T_ef314a24_624e_11eb_9457_0242ac1c0002row23_col15,#T_ef314a24_624e_11eb_9457_0242ac1c0002row23_col16,#T_ef314a24_624e_11eb_9457_0242ac1c0002row23_col17,#T_ef314a24_624e_11eb_9457_0242ac1c0002row23_col18,#T_ef314a24_624e_11eb_9457_0242ac1c0002row23_col19,#T_ef314a24_624e_11eb_9457_0242ac1c0002row23_col20,#T_ef314a24_624e_11eb_9457_0242ac1c0002row23_col21,#T_ef314a24_624e_11eb_9457_0242ac1c0002row23_col22,#T_ef314a24_624e_11eb_9457_0242ac1c0002row23_col23,#T_ef314a24_624e_11eb_9457_0242ac1c0002row23_col24,#T_ef314a24_624e_11eb_9457_0242ac1c0002row23_col25,#T_ef314a24_624e_11eb_9457_0242ac1c0002row23_col26,#T_ef314a24_624e_11eb_9457_0242ac1c0002row23_col27,#T_ef314a24_624e_11eb_9457_0242ac1c0002row24_col0,#T_ef314a24_624e_11eb_9457_0242ac1c0002row24_col1,#T_ef314a24_624e_11eb_9457_0242ac1c0002row24_col2,#T_ef314a24_624e_11eb_9457_0242ac1c0002row24_col3,#T_ef314a24_624e_11eb_9457_0242ac1c0002row24_col4,#T_ef314a24_624e_11eb_9457_0242ac1c0002row24_col5,#T_ef314a24_624e_11eb_9457_0242ac1c0002row24_col6,#T_ef314a24_624e_11eb_9457_0242ac1c0002row24_col7,#T_ef314a24_624e_11eb_9457_0242ac1c0002row24_col8,#T_ef314a24_624e_11eb_9457_0242ac1c0002row24_col9,#T_ef314a24_624e_11eb_9457_0242ac1c0002row24_col10,#T_ef314a24_624e_11eb_9457_0242ac1c0002row24_col11,#T_ef314a24_624e_11eb_9457_0242ac1c0002row24_col12,#T_ef314a24_624e_11eb_9457_0242ac1c0002row24_col13,#T_ef314a24_624e_11eb_9457_0242ac1c0002row24_col14,#T_ef314a24_624e_11eb_9457_0242ac1c0002row24_col15,#T_ef314a24_624e_11eb_9457_0242ac1c0002row24_col16,#T_ef314a24_624e_11eb_9457_0242ac1c0002row24_col17,#T_ef314a24_624e_11eb_9457_0242ac1c0002row24_col18,#T_ef314a24_624e_11eb_9457_0242ac1c0002row24_col19,#T_ef314a24_624e_11eb_9457_0242ac1c0002row24_col20,#T_ef314a24_624e_11eb_9457_0242ac1c0002row24_col21,#T_ef314a24_624e_11eb_9457_0242ac1c0002row24_col22,#T_ef314a24_624e_11eb_9457_0242ac1c0002row24_col23,#T_ef314a24_624e_11eb_9457_0242ac1c0002row24_col24,#T_ef314a24_624e_11eb_9457_0242ac1c0002row24_col25,#T_ef314a24_624e_11eb_9457_0242ac1c0002row24_col26,#T_ef314a24_624e_11eb_9457_0242ac1c0002row24_col27,#T_ef314a24_624e_11eb_9457_0242ac1c0002row25_col0,#T_ef314a24_624e_11eb_9457_0242ac1c0002row25_col1,#T_ef314a24_624e_11eb_9457_0242ac1c0002row25_col2,#T_ef314a24_624e_11eb_9457_0242ac1c0002row25_col3,#T_ef314a24_624e_11eb_9457_0242ac1c0002row25_col4,#T_ef314a24_624e_11eb_9457_0242ac1c0002row25_col5,#T_ef314a24_624e_11eb_9457_0242ac1c0002row25_col6,#T_ef314a24_624e_11eb_9457_0242ac1c0002row25_col7,#T_ef314a24_624e_11eb_9457_0242ac1c0002row25_col8,#T_ef314a24_624e_11eb_9457_0242ac1c0002row25_col9,#T_ef314a24_624e_11eb_9457_0242ac1c0002row25_col10,#T_ef314a24_624e_11eb_9457_0242ac1c0002row25_col11,#T_ef314a24_624e_11eb_9457_0242ac1c0002row25_col12,#T_ef314a24_624e_11eb_9457_0242ac1c0002row25_col13,#T_ef314a24_624e_11eb_9457_0242ac1c0002row25_col14,#T_ef314a24_624e_11eb_9457_0242ac1c0002row25_col15,#T_ef314a24_624e_11eb_9457_0242ac1c0002row25_col16,#T_ef314a24_624e_11eb_9457_0242ac1c0002row25_col17,#T_ef314a24_624e_11eb_9457_0242ac1c0002row25_col18,#T_ef314a24_624e_11eb_9457_0242ac1c0002row25_col19,#T_ef314a24_624e_11eb_9457_0242ac1c0002row25_col20,#T_ef314a24_624e_11eb_9457_0242ac1c0002row25_col21,#T_ef314a24_624e_11eb_9457_0242ac1c0002row25_col22,#T_ef314a24_624e_11eb_9457_0242ac1c0002row25_col23,#T_ef314a24_624e_11eb_9457_0242ac1c0002row25_col24,#T_ef314a24_624e_11eb_9457_0242ac1c0002row25_col25,#T_ef314a24_624e_11eb_9457_0242ac1c0002row25_col26,#T_ef314a24_624e_11eb_9457_0242ac1c0002row25_col27,#T_ef314a24_624e_11eb_9457_0242ac1c0002row26_col0,#T_ef314a24_624e_11eb_9457_0242ac1c0002row26_col1,#T_ef314a24_624e_11eb_9457_0242ac1c0002row26_col2,#T_ef314a24_624e_11eb_9457_0242ac1c0002row26_col3,#T_ef314a24_624e_11eb_9457_0242ac1c0002row26_col4,#T_ef314a24_624e_11eb_9457_0242ac1c0002row26_col5,#T_ef314a24_624e_11eb_9457_0242ac1c0002row26_col6,#T_ef314a24_624e_11eb_9457_0242ac1c0002row26_col7,#T_ef314a24_624e_11eb_9457_0242ac1c0002row26_col8,#T_ef314a24_624e_11eb_9457_0242ac1c0002row26_col9,#T_ef314a24_624e_11eb_9457_0242ac1c0002row26_col10,#T_ef314a24_624e_11eb_9457_0242ac1c0002row26_col11,#T_ef314a24_624e_11eb_9457_0242ac1c0002row26_col12,#T_ef314a24_624e_11eb_9457_0242ac1c0002row26_col13,#T_ef314a24_624e_11eb_9457_0242ac1c0002row26_col14,#T_ef314a24_624e_11eb_9457_0242ac1c0002row26_col15,#T_ef314a24_624e_11eb_9457_0242ac1c0002row26_col16,#T_ef314a24_624e_11eb_9457_0242ac1c0002row26_col17,#T_ef314a24_624e_11eb_9457_0242ac1c0002row26_col18,#T_ef314a24_624e_11eb_9457_0242ac1c0002row26_col19,#T_ef314a24_624e_11eb_9457_0242ac1c0002row26_col20,#T_ef314a24_624e_11eb_9457_0242ac1c0002row26_col21,#T_ef314a24_624e_11eb_9457_0242ac1c0002row26_col22,#T_ef314a24_624e_11eb_9457_0242ac1c0002row26_col23,#T_ef314a24_624e_11eb_9457_0242ac1c0002row26_col24,#T_ef314a24_624e_11eb_9457_0242ac1c0002row26_col25,#T_ef314a24_624e_11eb_9457_0242ac1c0002row26_col26,#T_ef314a24_624e_11eb_9457_0242ac1c0002row26_col27,#T_ef314a24_624e_11eb_9457_0242ac1c0002row27_col0,#T_ef314a24_624e_11eb_9457_0242ac1c0002row27_col1,#T_ef314a24_624e_11eb_9457_0242ac1c0002row27_col2,#T_ef314a24_624e_11eb_9457_0242ac1c0002row27_col3,#T_ef314a24_624e_11eb_9457_0242ac1c0002row27_col4,#T_ef314a24_624e_11eb_9457_0242ac1c0002row27_col5,#T_ef314a24_624e_11eb_9457_0242ac1c0002row27_col6,#T_ef314a24_624e_11eb_9457_0242ac1c0002row27_col7,#T_ef314a24_624e_11eb_9457_0242ac1c0002row27_col8,#T_ef314a24_624e_11eb_9457_0242ac1c0002row27_col9,#T_ef314a24_624e_11eb_9457_0242ac1c0002row27_col10,#T_ef314a24_624e_11eb_9457_0242ac1c0002row27_col11,#T_ef314a24_624e_11eb_9457_0242ac1c0002row27_col12,#T_ef314a24_624e_11eb_9457_0242ac1c0002row27_col13,#T_ef314a24_624e_11eb_9457_0242ac1c0002row27_col14,#T_ef314a24_624e_11eb_9457_0242ac1c0002row27_col15,#T_ef314a24_624e_11eb_9457_0242ac1c0002row27_col16,#T_ef314a24_624e_11eb_9457_0242ac1c0002row27_col17,#T_ef314a24_624e_11eb_9457_0242ac1c0002row27_col18,#T_ef314a24_624e_11eb_9457_0242ac1c0002row27_col19,#T_ef314a24_624e_11eb_9457_0242ac1c0002row27_col20,#T_ef314a24_624e_11eb_9457_0242ac1c0002row27_col21,#T_ef314a24_624e_11eb_9457_0242ac1c0002row27_col22,#T_ef314a24_624e_11eb_9457_0242ac1c0002row27_col23,#T_ef314a24_624e_11eb_9457_0242ac1c0002row27_col24,#T_ef314a24_624e_11eb_9457_0242ac1c0002row27_col25,#T_ef314a24_624e_11eb_9457_0242ac1c0002row27_col26,#T_ef314a24_624e_11eb_9457_0242ac1c0002row27_col27{\n",
              "            font-size:  6pt;\n",
              "            background-color:  #ffffff;\n",
              "            color:  #000000;\n",
              "        }#T_ef314a24_624e_11eb_9457_0242ac1c0002row4_col15,#T_ef314a24_624e_11eb_9457_0242ac1c0002row9_col10{\n",
              "            font-size:  6pt;\n",
              "            background-color:  #e2e2e2;\n",
              "            color:  #000000;\n",
              "        }#T_ef314a24_624e_11eb_9457_0242ac1c0002row4_col16{\n",
              "            font-size:  6pt;\n",
              "            background-color:  #727272;\n",
              "            color:  #000000;\n",
              "        }#T_ef314a24_624e_11eb_9457_0242ac1c0002row4_col17,#T_ef314a24_624e_11eb_9457_0242ac1c0002row5_col18,#T_ef314a24_624e_11eb_9457_0242ac1c0002row6_col15,#T_ef314a24_624e_11eb_9457_0242ac1c0002row6_col19,#T_ef314a24_624e_11eb_9457_0242ac1c0002row7_col14,#T_ef314a24_624e_11eb_9457_0242ac1c0002row7_col15,#T_ef314a24_624e_11eb_9457_0242ac1c0002row7_col19,#T_ef314a24_624e_11eb_9457_0242ac1c0002row8_col14,#T_ef314a24_624e_11eb_9457_0242ac1c0002row8_col15,#T_ef314a24_624e_11eb_9457_0242ac1c0002row9_col12,#T_ef314a24_624e_11eb_9457_0242ac1c0002row9_col13,#T_ef314a24_624e_11eb_9457_0242ac1c0002row9_col16,#T_ef314a24_624e_11eb_9457_0242ac1c0002row9_col20,#T_ef314a24_624e_11eb_9457_0242ac1c0002row10_col11,#T_ef314a24_624e_11eb_9457_0242ac1c0002row11_col10,#T_ef314a24_624e_11eb_9457_0242ac1c0002row12_col9,#T_ef314a24_624e_11eb_9457_0242ac1c0002row13_col9,#T_ef314a24_624e_11eb_9457_0242ac1c0002row14_col8,#T_ef314a24_624e_11eb_9457_0242ac1c0002row14_col20,#T_ef314a24_624e_11eb_9457_0242ac1c0002row14_col21,#T_ef314a24_624e_11eb_9457_0242ac1c0002row14_col22,#T_ef314a24_624e_11eb_9457_0242ac1c0002row17_col19,#T_ef314a24_624e_11eb_9457_0242ac1c0002row18_col18,#T_ef314a24_624e_11eb_9457_0242ac1c0002row19_col6,#T_ef314a24_624e_11eb_9457_0242ac1c0002row19_col7,#T_ef314a24_624e_11eb_9457_0242ac1c0002row19_col17,#T_ef314a24_624e_11eb_9457_0242ac1c0002row20_col15,#T_ef314a24_624e_11eb_9457_0242ac1c0002row21_col9,#T_ef314a24_624e_11eb_9457_0242ac1c0002row21_col14,#T_ef314a24_624e_11eb_9457_0242ac1c0002row22_col9,#T_ef314a24_624e_11eb_9457_0242ac1c0002row22_col10,#T_ef314a24_624e_11eb_9457_0242ac1c0002row22_col11,#T_ef314a24_624e_11eb_9457_0242ac1c0002row23_col9,#T_ef314a24_624e_11eb_9457_0242ac1c0002row23_col10,#T_ef314a24_624e_11eb_9457_0242ac1c0002row23_col11{\n",
              "            font-size:  6pt;\n",
              "            background-color:  #000000;\n",
              "            color:  #f1f1f1;\n",
              "        }#T_ef314a24_624e_11eb_9457_0242ac1c0002row4_col18{\n",
              "            font-size:  6pt;\n",
              "            background-color:  #717171;\n",
              "            color:  #000000;\n",
              "        }#T_ef314a24_624e_11eb_9457_0242ac1c0002row4_col19{\n",
              "            font-size:  6pt;\n",
              "            background-color:  #e3e3e3;\n",
              "            color:  #000000;\n",
              "        }#T_ef314a24_624e_11eb_9457_0242ac1c0002row5_col14,#T_ef314a24_624e_11eb_9457_0242ac1c0002row10_col9,#T_ef314a24_624e_11eb_9457_0242ac1c0002row18_col16,#T_ef314a24_624e_11eb_9457_0242ac1c0002row20_col10{\n",
              "            font-size:  6pt;\n",
              "            background-color:  #e4e4e4;\n",
              "            color:  #000000;\n",
              "        }#T_ef314a24_624e_11eb_9457_0242ac1c0002row5_col15,#T_ef314a24_624e_11eb_9457_0242ac1c0002row5_col19,#T_ef314a24_624e_11eb_9457_0242ac1c0002row10_col10,#T_ef314a24_624e_11eb_9457_0242ac1c0002row19_col16{\n",
              "            font-size:  6pt;\n",
              "            background-color:  #111111;\n",
              "            color:  #f1f1f1;\n",
              "        }#T_ef314a24_624e_11eb_9457_0242ac1c0002row5_col16,#T_ef314a24_624e_11eb_9457_0242ac1c0002row5_col17,#T_ef314a24_624e_11eb_9457_0242ac1c0002row6_col16,#T_ef314a24_624e_11eb_9457_0242ac1c0002row7_col16,#T_ef314a24_624e_11eb_9457_0242ac1c0002row8_col12,#T_ef314a24_624e_11eb_9457_0242ac1c0002row8_col13,#T_ef314a24_624e_11eb_9457_0242ac1c0002row8_col16,#T_ef314a24_624e_11eb_9457_0242ac1c0002row8_col17,#T_ef314a24_624e_11eb_9457_0242ac1c0002row10_col12,#T_ef314a24_624e_11eb_9457_0242ac1c0002row11_col21,#T_ef314a24_624e_11eb_9457_0242ac1c0002row12_col21,#T_ef314a24_624e_11eb_9457_0242ac1c0002row12_col22,#T_ef314a24_624e_11eb_9457_0242ac1c0002row13_col8,#T_ef314a24_624e_11eb_9457_0242ac1c0002row13_col21,#T_ef314a24_624e_11eb_9457_0242ac1c0002row13_col22,#T_ef314a24_624e_11eb_9457_0242ac1c0002row15_col8,#T_ef314a24_624e_11eb_9457_0242ac1c0002row15_col21,#T_ef314a24_624e_11eb_9457_0242ac1c0002row16_col7,#T_ef314a24_624e_11eb_9457_0242ac1c0002row17_col7,#T_ef314a24_624e_11eb_9457_0242ac1c0002row18_col7,#T_ef314a24_624e_11eb_9457_0242ac1c0002row20_col7,#T_ef314a24_624e_11eb_9457_0242ac1c0002row21_col7,#T_ef314a24_624e_11eb_9457_0242ac1c0002row21_col8,#T_ef314a24_624e_11eb_9457_0242ac1c0002row21_col12,#T_ef314a24_624e_11eb_9457_0242ac1c0002row21_col13,#T_ef314a24_624e_11eb_9457_0242ac1c0002row22_col8,#T_ef314a24_624e_11eb_9457_0242ac1c0002row22_col12{\n",
              "            font-size:  6pt;\n",
              "            background-color:  #010101;\n",
              "            color:  #f1f1f1;\n",
              "        }#T_ef314a24_624e_11eb_9457_0242ac1c0002row6_col13{\n",
              "            font-size:  6pt;\n",
              "            background-color:  #e0e0e0;\n",
              "            color:  #000000;\n",
              "        }#T_ef314a24_624e_11eb_9457_0242ac1c0002row6_col14,#T_ef314a24_624e_11eb_9457_0242ac1c0002row9_col17{\n",
              "            font-size:  6pt;\n",
              "            background-color:  #1d1d1d;\n",
              "            color:  #f1f1f1;\n",
              "        }#T_ef314a24_624e_11eb_9457_0242ac1c0002row6_col17,#T_ef314a24_624e_11eb_9457_0242ac1c0002row9_col11{\n",
              "            font-size:  6pt;\n",
              "            background-color:  #101010;\n",
              "            color:  #f1f1f1;\n",
              "        }#T_ef314a24_624e_11eb_9457_0242ac1c0002row6_col18,#T_ef314a24_624e_11eb_9457_0242ac1c0002row11_col11{\n",
              "            font-size:  6pt;\n",
              "            background-color:  #161616;\n",
              "            color:  #f1f1f1;\n",
              "        }#T_ef314a24_624e_11eb_9457_0242ac1c0002row6_col20,#T_ef314a24_624e_11eb_9457_0242ac1c0002row13_col7{\n",
              "            font-size:  6pt;\n",
              "            background-color:  #dedede;\n",
              "            color:  #000000;\n",
              "        }#T_ef314a24_624e_11eb_9457_0242ac1c0002row6_col21,#T_ef314a24_624e_11eb_9457_0242ac1c0002row12_col7,#T_ef314a24_624e_11eb_9457_0242ac1c0002row16_col18,#T_ef314a24_624e_11eb_9457_0242ac1c0002row17_col17{\n",
              "            font-size:  6pt;\n",
              "            background-color:  #fcfcfc;\n",
              "            color:  #000000;\n",
              "        }#T_ef314a24_624e_11eb_9457_0242ac1c0002row7_col11{\n",
              "            font-size:  6pt;\n",
              "            background-color:  #fafafa;\n",
              "            color:  #000000;\n",
              "        }#T_ef314a24_624e_11eb_9457_0242ac1c0002row7_col12{\n",
              "            font-size:  6pt;\n",
              "            background-color:  #dcdcdc;\n",
              "            color:  #000000;\n",
              "        }#T_ef314a24_624e_11eb_9457_0242ac1c0002row7_col13,#T_ef314a24_624e_11eb_9457_0242ac1c0002row15_col6{\n",
              "            font-size:  6pt;\n",
              "            background-color:  #222222;\n",
              "            color:  #f1f1f1;\n",
              "        }#T_ef314a24_624e_11eb_9457_0242ac1c0002row7_col17{\n",
              "            font-size:  6pt;\n",
              "            background-color:  #404040;\n",
              "            color:  #f1f1f1;\n",
              "        }#T_ef314a24_624e_11eb_9457_0242ac1c0002row7_col18{\n",
              "            font-size:  6pt;\n",
              "            background-color:  #c6c6c6;\n",
              "            color:  #000000;\n",
              "        }#T_ef314a24_624e_11eb_9457_0242ac1c0002row7_col20,#T_ef314a24_624e_11eb_9457_0242ac1c0002row8_col20,#T_ef314a24_624e_11eb_9457_0242ac1c0002row10_col20,#T_ef314a24_624e_11eb_9457_0242ac1c0002row11_col20,#T_ef314a24_624e_11eb_9457_0242ac1c0002row12_col20,#T_ef314a24_624e_11eb_9457_0242ac1c0002row13_col20,#T_ef314a24_624e_11eb_9457_0242ac1c0002row15_col20,#T_ef314a24_624e_11eb_9457_0242ac1c0002row16_col6,#T_ef314a24_624e_11eb_9457_0242ac1c0002row16_col20,#T_ef314a24_624e_11eb_9457_0242ac1c0002row17_col6,#T_ef314a24_624e_11eb_9457_0242ac1c0002row18_col6,#T_ef314a24_624e_11eb_9457_0242ac1c0002row20_col6,#T_ef314a24_624e_11eb_9457_0242ac1c0002row21_col6{\n",
              "            font-size:  6pt;\n",
              "            background-color:  #020202;\n",
              "            color:  #f1f1f1;\n",
              "        }#T_ef314a24_624e_11eb_9457_0242ac1c0002row7_col21{\n",
              "            font-size:  6pt;\n",
              "            background-color:  #9c9c9c;\n",
              "            color:  #000000;\n",
              "        }#T_ef314a24_624e_11eb_9457_0242ac1c0002row8_col11{\n",
              "            font-size:  6pt;\n",
              "            background-color:  #6d6d6d;\n",
              "            color:  #000000;\n",
              "        }#T_ef314a24_624e_11eb_9457_0242ac1c0002row8_col18{\n",
              "            font-size:  6pt;\n",
              "            background-color:  #bbbbbb;\n",
              "            color:  #000000;\n",
              "        }#T_ef314a24_624e_11eb_9457_0242ac1c0002row8_col19{\n",
              "            font-size:  6pt;\n",
              "            background-color:  #515151;\n",
              "            color:  #f1f1f1;\n",
              "        }#T_ef314a24_624e_11eb_9457_0242ac1c0002row8_col21,#T_ef314a24_624e_11eb_9457_0242ac1c0002row20_col17{\n",
              "            font-size:  6pt;\n",
              "            background-color:  #6a6a6a;\n",
              "            color:  #000000;\n",
              "        }#T_ef314a24_624e_11eb_9457_0242ac1c0002row9_col14,#T_ef314a24_624e_11eb_9457_0242ac1c0002row14_col9,#T_ef314a24_624e_11eb_9457_0242ac1c0002row15_col22{\n",
              "            font-size:  6pt;\n",
              "            background-color:  #505050;\n",
              "            color:  #f1f1f1;\n",
              "        }#T_ef314a24_624e_11eb_9457_0242ac1c0002row9_col15,#T_ef314a24_624e_11eb_9457_0242ac1c0002row19_col15{\n",
              "            font-size:  6pt;\n",
              "            background-color:  #a5a5a5;\n",
              "            color:  #000000;\n",
              "        }#T_ef314a24_624e_11eb_9457_0242ac1c0002row9_col18{\n",
              "            font-size:  6pt;\n",
              "            background-color:  #e5e5e5;\n",
              "            color:  #000000;\n",
              "        }#T_ef314a24_624e_11eb_9457_0242ac1c0002row9_col19{\n",
              "            font-size:  6pt;\n",
              "            background-color:  #cbcbcb;\n",
              "            color:  #000000;\n",
              "        }#T_ef314a24_624e_11eb_9457_0242ac1c0002row9_col21{\n",
              "            font-size:  6pt;\n",
              "            background-color:  #696969;\n",
              "            color:  #000000;\n",
              "        }#T_ef314a24_624e_11eb_9457_0242ac1c0002row10_col13{\n",
              "            font-size:  6pt;\n",
              "            background-color:  #5d5d5d;\n",
              "            color:  #f1f1f1;\n",
              "        }#T_ef314a24_624e_11eb_9457_0242ac1c0002row10_col14{\n",
              "            font-size:  6pt;\n",
              "            background-color:  #f9f9f9;\n",
              "            color:  #000000;\n",
              "        }#T_ef314a24_624e_11eb_9457_0242ac1c0002row10_col15{\n",
              "            font-size:  6pt;\n",
              "            background-color:  #cfcfcf;\n",
              "            color:  #000000;\n",
              "        }#T_ef314a24_624e_11eb_9457_0242ac1c0002row10_col16{\n",
              "            font-size:  6pt;\n",
              "            background-color:  #9d9d9d;\n",
              "            color:  #000000;\n",
              "        }#T_ef314a24_624e_11eb_9457_0242ac1c0002row10_col17{\n",
              "            font-size:  6pt;\n",
              "            background-color:  #f5f5f5;\n",
              "            color:  #000000;\n",
              "        }#T_ef314a24_624e_11eb_9457_0242ac1c0002row10_col21{\n",
              "            font-size:  6pt;\n",
              "            background-color:  #0c0c0c;\n",
              "            color:  #f1f1f1;\n",
              "        }#T_ef314a24_624e_11eb_9457_0242ac1c0002row10_col22{\n",
              "            font-size:  6pt;\n",
              "            background-color:  #d8d8d8;\n",
              "            color:  #000000;\n",
              "        }#T_ef314a24_624e_11eb_9457_0242ac1c0002row11_col8,#T_ef314a24_624e_11eb_9457_0242ac1c0002row23_col13{\n",
              "            font-size:  6pt;\n",
              "            background-color:  #ececec;\n",
              "            color:  #000000;\n",
              "        }#T_ef314a24_624e_11eb_9457_0242ac1c0002row11_col9{\n",
              "            font-size:  6pt;\n",
              "            background-color:  #6b6b6b;\n",
              "            color:  #000000;\n",
              "        }#T_ef314a24_624e_11eb_9457_0242ac1c0002row11_col12{\n",
              "            font-size:  6pt;\n",
              "            background-color:  #383838;\n",
              "            color:  #f1f1f1;\n",
              "        }#T_ef314a24_624e_11eb_9457_0242ac1c0002row11_col13{\n",
              "            font-size:  6pt;\n",
              "            background-color:  #c7c7c7;\n",
              "            color:  #000000;\n",
              "        }#T_ef314a24_624e_11eb_9457_0242ac1c0002row11_col22{\n",
              "            font-size:  6pt;\n",
              "            background-color:  #303030;\n",
              "            color:  #f1f1f1;\n",
              "        }#T_ef314a24_624e_11eb_9457_0242ac1c0002row12_col8,#T_ef314a24_624e_11eb_9457_0242ac1c0002row20_col13{\n",
              "            font-size:  6pt;\n",
              "            background-color:  #5e5e5e;\n",
              "            color:  #f1f1f1;\n",
              "        }#T_ef314a24_624e_11eb_9457_0242ac1c0002row12_col10{\n",
              "            font-size:  6pt;\n",
              "            background-color:  #0f0f0f;\n",
              "            color:  #f1f1f1;\n",
              "        }#T_ef314a24_624e_11eb_9457_0242ac1c0002row12_col11{\n",
              "            font-size:  6pt;\n",
              "            background-color:  #d2d2d2;\n",
              "            color:  #000000;\n",
              "        }#T_ef314a24_624e_11eb_9457_0242ac1c0002row12_col12{\n",
              "            font-size:  6pt;\n",
              "            background-color:  #f6f6f6;\n",
              "            color:  #000000;\n",
              "        }#T_ef314a24_624e_11eb_9457_0242ac1c0002row12_col13{\n",
              "            font-size:  6pt;\n",
              "            background-color:  #f2f2f2;\n",
              "            color:  #000000;\n",
              "        }#T_ef314a24_624e_11eb_9457_0242ac1c0002row13_col10{\n",
              "            font-size:  6pt;\n",
              "            background-color:  #dadada;\n",
              "            color:  #000000;\n",
              "        }#T_ef314a24_624e_11eb_9457_0242ac1c0002row14_col7{\n",
              "            font-size:  6pt;\n",
              "            background-color:  #464646;\n",
              "            color:  #f1f1f1;\n",
              "        }#T_ef314a24_624e_11eb_9457_0242ac1c0002row15_col7{\n",
              "            font-size:  6pt;\n",
              "            background-color:  #080808;\n",
              "            color:  #f1f1f1;\n",
              "        }#T_ef314a24_624e_11eb_9457_0242ac1c0002row15_col9{\n",
              "            font-size:  6pt;\n",
              "            background-color:  #a8a8a8;\n",
              "            color:  #000000;\n",
              "        }#T_ef314a24_624e_11eb_9457_0242ac1c0002row16_col8{\n",
              "            font-size:  6pt;\n",
              "            background-color:  #1b1b1b;\n",
              "            color:  #f1f1f1;\n",
              "        }#T_ef314a24_624e_11eb_9457_0242ac1c0002row16_col9,#T_ef314a24_624e_11eb_9457_0242ac1c0002row23_col7{\n",
              "            font-size:  6pt;\n",
              "            background-color:  #f3f3f3;\n",
              "            color:  #000000;\n",
              "        }#T_ef314a24_624e_11eb_9457_0242ac1c0002row16_col19{\n",
              "            font-size:  6pt;\n",
              "            background-color:  #8c8c8c;\n",
              "            color:  #000000;\n",
              "        }#T_ef314a24_624e_11eb_9457_0242ac1c0002row16_col21{\n",
              "            font-size:  6pt;\n",
              "            background-color:  #555555;\n",
              "            color:  #f1f1f1;\n",
              "        }#T_ef314a24_624e_11eb_9457_0242ac1c0002row16_col22{\n",
              "            font-size:  6pt;\n",
              "            background-color:  #f8f8f8;\n",
              "            color:  #000000;\n",
              "        }#T_ef314a24_624e_11eb_9457_0242ac1c0002row17_col8,#T_ef314a24_624e_11eb_9457_0242ac1c0002row17_col20,#T_ef314a24_624e_11eb_9457_0242ac1c0002row20_col16{\n",
              "            font-size:  6pt;\n",
              "            background-color:  #232323;\n",
              "            color:  #f1f1f1;\n",
              "        }#T_ef314a24_624e_11eb_9457_0242ac1c0002row17_col18{\n",
              "            font-size:  6pt;\n",
              "            background-color:  #909090;\n",
              "            color:  #000000;\n",
              "        }#T_ef314a24_624e_11eb_9457_0242ac1c0002row17_col21{\n",
              "            font-size:  6pt;\n",
              "            background-color:  #d3d3d3;\n",
              "            color:  #000000;\n",
              "        }#T_ef314a24_624e_11eb_9457_0242ac1c0002row18_col8{\n",
              "            font-size:  6pt;\n",
              "            background-color:  #828282;\n",
              "            color:  #000000;\n",
              "        }#T_ef314a24_624e_11eb_9457_0242ac1c0002row18_col17{\n",
              "            font-size:  6pt;\n",
              "            background-color:  #6c6c6c;\n",
              "            color:  #000000;\n",
              "        }#T_ef314a24_624e_11eb_9457_0242ac1c0002row18_col19{\n",
              "            font-size:  6pt;\n",
              "            background-color:  #636363;\n",
              "            color:  #f1f1f1;\n",
              "        }#T_ef314a24_624e_11eb_9457_0242ac1c0002row19_col8{\n",
              "            font-size:  6pt;\n",
              "            background-color:  #212121;\n",
              "            color:  #f1f1f1;\n",
              "        }#T_ef314a24_624e_11eb_9457_0242ac1c0002row19_col18{\n",
              "            font-size:  6pt;\n",
              "            background-color:  #6e6e6e;\n",
              "            color:  #000000;\n",
              "        }#T_ef314a24_624e_11eb_9457_0242ac1c0002row20_col8{\n",
              "            font-size:  6pt;\n",
              "            background-color:  #050505;\n",
              "            color:  #f1f1f1;\n",
              "        }#T_ef314a24_624e_11eb_9457_0242ac1c0002row20_col9{\n",
              "            font-size:  6pt;\n",
              "            background-color:  #7f7f7f;\n",
              "            color:  #000000;\n",
              "        }#T_ef314a24_624e_11eb_9457_0242ac1c0002row20_col11{\n",
              "            font-size:  6pt;\n",
              "            background-color:  #f1f1f1;\n",
              "            color:  #000000;\n",
              "        }#T_ef314a24_624e_11eb_9457_0242ac1c0002row20_col12{\n",
              "            font-size:  6pt;\n",
              "            background-color:  #c5c5c5;\n",
              "            color:  #000000;\n",
              "        }#T_ef314a24_624e_11eb_9457_0242ac1c0002row20_col14{\n",
              "            font-size:  6pt;\n",
              "            background-color:  #1f1f1f;\n",
              "            color:  #f1f1f1;\n",
              "        }#T_ef314a24_624e_11eb_9457_0242ac1c0002row20_col18{\n",
              "            font-size:  6pt;\n",
              "            background-color:  #dfdfdf;\n",
              "            color:  #000000;\n",
              "        }#T_ef314a24_624e_11eb_9457_0242ac1c0002row21_col10{\n",
              "            font-size:  6pt;\n",
              "            background-color:  #1c1c1c;\n",
              "            color:  #f1f1f1;\n",
              "        }#T_ef314a24_624e_11eb_9457_0242ac1c0002row21_col11{\n",
              "            font-size:  6pt;\n",
              "            background-color:  #2c2c2c;\n",
              "            color:  #f1f1f1;\n",
              "        }#T_ef314a24_624e_11eb_9457_0242ac1c0002row21_col15{\n",
              "            font-size:  6pt;\n",
              "            background-color:  #484848;\n",
              "            color:  #f1f1f1;\n",
              "        }#T_ef314a24_624e_11eb_9457_0242ac1c0002row21_col16{\n",
              "            font-size:  6pt;\n",
              "            background-color:  #929292;\n",
              "            color:  #000000;\n",
              "        }#T_ef314a24_624e_11eb_9457_0242ac1c0002row22_col6{\n",
              "            font-size:  6pt;\n",
              "            background-color:  #c8c8c8;\n",
              "            color:  #000000;\n",
              "        }#T_ef314a24_624e_11eb_9457_0242ac1c0002row22_col7{\n",
              "            font-size:  6pt;\n",
              "            background-color:  #444444;\n",
              "            color:  #f1f1f1;\n",
              "        }#T_ef314a24_624e_11eb_9457_0242ac1c0002row22_col13{\n",
              "            font-size:  6pt;\n",
              "            background-color:  #171717;\n",
              "            color:  #f1f1f1;\n",
              "        }#T_ef314a24_624e_11eb_9457_0242ac1c0002row22_col14{\n",
              "            font-size:  6pt;\n",
              "            background-color:  #818181;\n",
              "            color:  #000000;\n",
              "        }#T_ef314a24_624e_11eb_9457_0242ac1c0002row23_col8{\n",
              "            font-size:  6pt;\n",
              "            background-color:  #949494;\n",
              "            color:  #000000;\n",
              "        }#T_ef314a24_624e_11eb_9457_0242ac1c0002row23_col12{\n",
              "            font-size:  6pt;\n",
              "            background-color:  #868686;\n",
              "            color:  #000000;\n",
              "        }</style><table id=\"T_ef314a24_624e_11eb_9457_0242ac1c0002\" ><thead>    <tr>        <th class=\"blank level0\" ></th>        <th class=\"col_heading level0 col0\" >0</th>        <th class=\"col_heading level0 col1\" >1</th>        <th class=\"col_heading level0 col2\" >2</th>        <th class=\"col_heading level0 col3\" >3</th>        <th class=\"col_heading level0 col4\" >4</th>        <th class=\"col_heading level0 col5\" >5</th>        <th class=\"col_heading level0 col6\" >6</th>        <th class=\"col_heading level0 col7\" >7</th>        <th class=\"col_heading level0 col8\" >8</th>        <th class=\"col_heading level0 col9\" >9</th>        <th class=\"col_heading level0 col10\" >10</th>        <th class=\"col_heading level0 col11\" >11</th>        <th class=\"col_heading level0 col12\" >12</th>        <th class=\"col_heading level0 col13\" >13</th>        <th class=\"col_heading level0 col14\" >14</th>        <th class=\"col_heading level0 col15\" >15</th>        <th class=\"col_heading level0 col16\" >16</th>        <th class=\"col_heading level0 col17\" >17</th>        <th class=\"col_heading level0 col18\" >18</th>        <th class=\"col_heading level0 col19\" >19</th>        <th class=\"col_heading level0 col20\" >20</th>        <th class=\"col_heading level0 col21\" >21</th>        <th class=\"col_heading level0 col22\" >22</th>        <th class=\"col_heading level0 col23\" >23</th>        <th class=\"col_heading level0 col24\" >24</th>        <th class=\"col_heading level0 col25\" >25</th>        <th class=\"col_heading level0 col26\" >26</th>        <th class=\"col_heading level0 col27\" >27</th>    </tr></thead><tbody>\n",
              "                <tr>\n",
              "                        <th id=\"T_ef314a24_624e_11eb_9457_0242ac1c0002level0_row0\" class=\"row_heading level0 row0\" >0</th>\n",
              "                        <td id=\"T_ef314a24_624e_11eb_9457_0242ac1c0002row0_col0\" class=\"data row0 col0\" >0</td>\n",
              "                        <td id=\"T_ef314a24_624e_11eb_9457_0242ac1c0002row0_col1\" class=\"data row0 col1\" >0</td>\n",
              "                        <td id=\"T_ef314a24_624e_11eb_9457_0242ac1c0002row0_col2\" class=\"data row0 col2\" >0</td>\n",
              "                        <td id=\"T_ef314a24_624e_11eb_9457_0242ac1c0002row0_col3\" class=\"data row0 col3\" >0</td>\n",
              "                        <td id=\"T_ef314a24_624e_11eb_9457_0242ac1c0002row0_col4\" class=\"data row0 col4\" >0</td>\n",
              "                        <td id=\"T_ef314a24_624e_11eb_9457_0242ac1c0002row0_col5\" class=\"data row0 col5\" >0</td>\n",
              "                        <td id=\"T_ef314a24_624e_11eb_9457_0242ac1c0002row0_col6\" class=\"data row0 col6\" >0</td>\n",
              "                        <td id=\"T_ef314a24_624e_11eb_9457_0242ac1c0002row0_col7\" class=\"data row0 col7\" >0</td>\n",
              "                        <td id=\"T_ef314a24_624e_11eb_9457_0242ac1c0002row0_col8\" class=\"data row0 col8\" >0</td>\n",
              "                        <td id=\"T_ef314a24_624e_11eb_9457_0242ac1c0002row0_col9\" class=\"data row0 col9\" >0</td>\n",
              "                        <td id=\"T_ef314a24_624e_11eb_9457_0242ac1c0002row0_col10\" class=\"data row0 col10\" >0</td>\n",
              "                        <td id=\"T_ef314a24_624e_11eb_9457_0242ac1c0002row0_col11\" class=\"data row0 col11\" >0</td>\n",
              "                        <td id=\"T_ef314a24_624e_11eb_9457_0242ac1c0002row0_col12\" class=\"data row0 col12\" >0</td>\n",
              "                        <td id=\"T_ef314a24_624e_11eb_9457_0242ac1c0002row0_col13\" class=\"data row0 col13\" >0</td>\n",
              "                        <td id=\"T_ef314a24_624e_11eb_9457_0242ac1c0002row0_col14\" class=\"data row0 col14\" >0</td>\n",
              "                        <td id=\"T_ef314a24_624e_11eb_9457_0242ac1c0002row0_col15\" class=\"data row0 col15\" >0</td>\n",
              "                        <td id=\"T_ef314a24_624e_11eb_9457_0242ac1c0002row0_col16\" class=\"data row0 col16\" >0</td>\n",
              "                        <td id=\"T_ef314a24_624e_11eb_9457_0242ac1c0002row0_col17\" class=\"data row0 col17\" >0</td>\n",
              "                        <td id=\"T_ef314a24_624e_11eb_9457_0242ac1c0002row0_col18\" class=\"data row0 col18\" >0</td>\n",
              "                        <td id=\"T_ef314a24_624e_11eb_9457_0242ac1c0002row0_col19\" class=\"data row0 col19\" >0</td>\n",
              "                        <td id=\"T_ef314a24_624e_11eb_9457_0242ac1c0002row0_col20\" class=\"data row0 col20\" >0</td>\n",
              "                        <td id=\"T_ef314a24_624e_11eb_9457_0242ac1c0002row0_col21\" class=\"data row0 col21\" >0</td>\n",
              "                        <td id=\"T_ef314a24_624e_11eb_9457_0242ac1c0002row0_col22\" class=\"data row0 col22\" >0</td>\n",
              "                        <td id=\"T_ef314a24_624e_11eb_9457_0242ac1c0002row0_col23\" class=\"data row0 col23\" >0</td>\n",
              "                        <td id=\"T_ef314a24_624e_11eb_9457_0242ac1c0002row0_col24\" class=\"data row0 col24\" >0</td>\n",
              "                        <td id=\"T_ef314a24_624e_11eb_9457_0242ac1c0002row0_col25\" class=\"data row0 col25\" >0</td>\n",
              "                        <td id=\"T_ef314a24_624e_11eb_9457_0242ac1c0002row0_col26\" class=\"data row0 col26\" >0</td>\n",
              "                        <td id=\"T_ef314a24_624e_11eb_9457_0242ac1c0002row0_col27\" class=\"data row0 col27\" >0</td>\n",
              "            </tr>\n",
              "            <tr>\n",
              "                        <th id=\"T_ef314a24_624e_11eb_9457_0242ac1c0002level0_row1\" class=\"row_heading level0 row1\" >1</th>\n",
              "                        <td id=\"T_ef314a24_624e_11eb_9457_0242ac1c0002row1_col0\" class=\"data row1 col0\" >0</td>\n",
              "                        <td id=\"T_ef314a24_624e_11eb_9457_0242ac1c0002row1_col1\" class=\"data row1 col1\" >0</td>\n",
              "                        <td id=\"T_ef314a24_624e_11eb_9457_0242ac1c0002row1_col2\" class=\"data row1 col2\" >0</td>\n",
              "                        <td id=\"T_ef314a24_624e_11eb_9457_0242ac1c0002row1_col3\" class=\"data row1 col3\" >0</td>\n",
              "                        <td id=\"T_ef314a24_624e_11eb_9457_0242ac1c0002row1_col4\" class=\"data row1 col4\" >0</td>\n",
              "                        <td id=\"T_ef314a24_624e_11eb_9457_0242ac1c0002row1_col5\" class=\"data row1 col5\" >0</td>\n",
              "                        <td id=\"T_ef314a24_624e_11eb_9457_0242ac1c0002row1_col6\" class=\"data row1 col6\" >0</td>\n",
              "                        <td id=\"T_ef314a24_624e_11eb_9457_0242ac1c0002row1_col7\" class=\"data row1 col7\" >0</td>\n",
              "                        <td id=\"T_ef314a24_624e_11eb_9457_0242ac1c0002row1_col8\" class=\"data row1 col8\" >0</td>\n",
              "                        <td id=\"T_ef314a24_624e_11eb_9457_0242ac1c0002row1_col9\" class=\"data row1 col9\" >0</td>\n",
              "                        <td id=\"T_ef314a24_624e_11eb_9457_0242ac1c0002row1_col10\" class=\"data row1 col10\" >0</td>\n",
              "                        <td id=\"T_ef314a24_624e_11eb_9457_0242ac1c0002row1_col11\" class=\"data row1 col11\" >0</td>\n",
              "                        <td id=\"T_ef314a24_624e_11eb_9457_0242ac1c0002row1_col12\" class=\"data row1 col12\" >0</td>\n",
              "                        <td id=\"T_ef314a24_624e_11eb_9457_0242ac1c0002row1_col13\" class=\"data row1 col13\" >0</td>\n",
              "                        <td id=\"T_ef314a24_624e_11eb_9457_0242ac1c0002row1_col14\" class=\"data row1 col14\" >0</td>\n",
              "                        <td id=\"T_ef314a24_624e_11eb_9457_0242ac1c0002row1_col15\" class=\"data row1 col15\" >0</td>\n",
              "                        <td id=\"T_ef314a24_624e_11eb_9457_0242ac1c0002row1_col16\" class=\"data row1 col16\" >0</td>\n",
              "                        <td id=\"T_ef314a24_624e_11eb_9457_0242ac1c0002row1_col17\" class=\"data row1 col17\" >0</td>\n",
              "                        <td id=\"T_ef314a24_624e_11eb_9457_0242ac1c0002row1_col18\" class=\"data row1 col18\" >0</td>\n",
              "                        <td id=\"T_ef314a24_624e_11eb_9457_0242ac1c0002row1_col19\" class=\"data row1 col19\" >0</td>\n",
              "                        <td id=\"T_ef314a24_624e_11eb_9457_0242ac1c0002row1_col20\" class=\"data row1 col20\" >0</td>\n",
              "                        <td id=\"T_ef314a24_624e_11eb_9457_0242ac1c0002row1_col21\" class=\"data row1 col21\" >0</td>\n",
              "                        <td id=\"T_ef314a24_624e_11eb_9457_0242ac1c0002row1_col22\" class=\"data row1 col22\" >0</td>\n",
              "                        <td id=\"T_ef314a24_624e_11eb_9457_0242ac1c0002row1_col23\" class=\"data row1 col23\" >0</td>\n",
              "                        <td id=\"T_ef314a24_624e_11eb_9457_0242ac1c0002row1_col24\" class=\"data row1 col24\" >0</td>\n",
              "                        <td id=\"T_ef314a24_624e_11eb_9457_0242ac1c0002row1_col25\" class=\"data row1 col25\" >0</td>\n",
              "                        <td id=\"T_ef314a24_624e_11eb_9457_0242ac1c0002row1_col26\" class=\"data row1 col26\" >0</td>\n",
              "                        <td id=\"T_ef314a24_624e_11eb_9457_0242ac1c0002row1_col27\" class=\"data row1 col27\" >0</td>\n",
              "            </tr>\n",
              "            <tr>\n",
              "                        <th id=\"T_ef314a24_624e_11eb_9457_0242ac1c0002level0_row2\" class=\"row_heading level0 row2\" >2</th>\n",
              "                        <td id=\"T_ef314a24_624e_11eb_9457_0242ac1c0002row2_col0\" class=\"data row2 col0\" >0</td>\n",
              "                        <td id=\"T_ef314a24_624e_11eb_9457_0242ac1c0002row2_col1\" class=\"data row2 col1\" >0</td>\n",
              "                        <td id=\"T_ef314a24_624e_11eb_9457_0242ac1c0002row2_col2\" class=\"data row2 col2\" >0</td>\n",
              "                        <td id=\"T_ef314a24_624e_11eb_9457_0242ac1c0002row2_col3\" class=\"data row2 col3\" >0</td>\n",
              "                        <td id=\"T_ef314a24_624e_11eb_9457_0242ac1c0002row2_col4\" class=\"data row2 col4\" >0</td>\n",
              "                        <td id=\"T_ef314a24_624e_11eb_9457_0242ac1c0002row2_col5\" class=\"data row2 col5\" >0</td>\n",
              "                        <td id=\"T_ef314a24_624e_11eb_9457_0242ac1c0002row2_col6\" class=\"data row2 col6\" >0</td>\n",
              "                        <td id=\"T_ef314a24_624e_11eb_9457_0242ac1c0002row2_col7\" class=\"data row2 col7\" >0</td>\n",
              "                        <td id=\"T_ef314a24_624e_11eb_9457_0242ac1c0002row2_col8\" class=\"data row2 col8\" >0</td>\n",
              "                        <td id=\"T_ef314a24_624e_11eb_9457_0242ac1c0002row2_col9\" class=\"data row2 col9\" >0</td>\n",
              "                        <td id=\"T_ef314a24_624e_11eb_9457_0242ac1c0002row2_col10\" class=\"data row2 col10\" >0</td>\n",
              "                        <td id=\"T_ef314a24_624e_11eb_9457_0242ac1c0002row2_col11\" class=\"data row2 col11\" >0</td>\n",
              "                        <td id=\"T_ef314a24_624e_11eb_9457_0242ac1c0002row2_col12\" class=\"data row2 col12\" >0</td>\n",
              "                        <td id=\"T_ef314a24_624e_11eb_9457_0242ac1c0002row2_col13\" class=\"data row2 col13\" >0</td>\n",
              "                        <td id=\"T_ef314a24_624e_11eb_9457_0242ac1c0002row2_col14\" class=\"data row2 col14\" >0</td>\n",
              "                        <td id=\"T_ef314a24_624e_11eb_9457_0242ac1c0002row2_col15\" class=\"data row2 col15\" >0</td>\n",
              "                        <td id=\"T_ef314a24_624e_11eb_9457_0242ac1c0002row2_col16\" class=\"data row2 col16\" >0</td>\n",
              "                        <td id=\"T_ef314a24_624e_11eb_9457_0242ac1c0002row2_col17\" class=\"data row2 col17\" >0</td>\n",
              "                        <td id=\"T_ef314a24_624e_11eb_9457_0242ac1c0002row2_col18\" class=\"data row2 col18\" >0</td>\n",
              "                        <td id=\"T_ef314a24_624e_11eb_9457_0242ac1c0002row2_col19\" class=\"data row2 col19\" >0</td>\n",
              "                        <td id=\"T_ef314a24_624e_11eb_9457_0242ac1c0002row2_col20\" class=\"data row2 col20\" >0</td>\n",
              "                        <td id=\"T_ef314a24_624e_11eb_9457_0242ac1c0002row2_col21\" class=\"data row2 col21\" >0</td>\n",
              "                        <td id=\"T_ef314a24_624e_11eb_9457_0242ac1c0002row2_col22\" class=\"data row2 col22\" >0</td>\n",
              "                        <td id=\"T_ef314a24_624e_11eb_9457_0242ac1c0002row2_col23\" class=\"data row2 col23\" >0</td>\n",
              "                        <td id=\"T_ef314a24_624e_11eb_9457_0242ac1c0002row2_col24\" class=\"data row2 col24\" >0</td>\n",
              "                        <td id=\"T_ef314a24_624e_11eb_9457_0242ac1c0002row2_col25\" class=\"data row2 col25\" >0</td>\n",
              "                        <td id=\"T_ef314a24_624e_11eb_9457_0242ac1c0002row2_col26\" class=\"data row2 col26\" >0</td>\n",
              "                        <td id=\"T_ef314a24_624e_11eb_9457_0242ac1c0002row2_col27\" class=\"data row2 col27\" >0</td>\n",
              "            </tr>\n",
              "            <tr>\n",
              "                        <th id=\"T_ef314a24_624e_11eb_9457_0242ac1c0002level0_row3\" class=\"row_heading level0 row3\" >3</th>\n",
              "                        <td id=\"T_ef314a24_624e_11eb_9457_0242ac1c0002row3_col0\" class=\"data row3 col0\" >0</td>\n",
              "                        <td id=\"T_ef314a24_624e_11eb_9457_0242ac1c0002row3_col1\" class=\"data row3 col1\" >0</td>\n",
              "                        <td id=\"T_ef314a24_624e_11eb_9457_0242ac1c0002row3_col2\" class=\"data row3 col2\" >0</td>\n",
              "                        <td id=\"T_ef314a24_624e_11eb_9457_0242ac1c0002row3_col3\" class=\"data row3 col3\" >0</td>\n",
              "                        <td id=\"T_ef314a24_624e_11eb_9457_0242ac1c0002row3_col4\" class=\"data row3 col4\" >0</td>\n",
              "                        <td id=\"T_ef314a24_624e_11eb_9457_0242ac1c0002row3_col5\" class=\"data row3 col5\" >0</td>\n",
              "                        <td id=\"T_ef314a24_624e_11eb_9457_0242ac1c0002row3_col6\" class=\"data row3 col6\" >0</td>\n",
              "                        <td id=\"T_ef314a24_624e_11eb_9457_0242ac1c0002row3_col7\" class=\"data row3 col7\" >0</td>\n",
              "                        <td id=\"T_ef314a24_624e_11eb_9457_0242ac1c0002row3_col8\" class=\"data row3 col8\" >0</td>\n",
              "                        <td id=\"T_ef314a24_624e_11eb_9457_0242ac1c0002row3_col9\" class=\"data row3 col9\" >0</td>\n",
              "                        <td id=\"T_ef314a24_624e_11eb_9457_0242ac1c0002row3_col10\" class=\"data row3 col10\" >0</td>\n",
              "                        <td id=\"T_ef314a24_624e_11eb_9457_0242ac1c0002row3_col11\" class=\"data row3 col11\" >0</td>\n",
              "                        <td id=\"T_ef314a24_624e_11eb_9457_0242ac1c0002row3_col12\" class=\"data row3 col12\" >0</td>\n",
              "                        <td id=\"T_ef314a24_624e_11eb_9457_0242ac1c0002row3_col13\" class=\"data row3 col13\" >0</td>\n",
              "                        <td id=\"T_ef314a24_624e_11eb_9457_0242ac1c0002row3_col14\" class=\"data row3 col14\" >0</td>\n",
              "                        <td id=\"T_ef314a24_624e_11eb_9457_0242ac1c0002row3_col15\" class=\"data row3 col15\" >0</td>\n",
              "                        <td id=\"T_ef314a24_624e_11eb_9457_0242ac1c0002row3_col16\" class=\"data row3 col16\" >0</td>\n",
              "                        <td id=\"T_ef314a24_624e_11eb_9457_0242ac1c0002row3_col17\" class=\"data row3 col17\" >0</td>\n",
              "                        <td id=\"T_ef314a24_624e_11eb_9457_0242ac1c0002row3_col18\" class=\"data row3 col18\" >0</td>\n",
              "                        <td id=\"T_ef314a24_624e_11eb_9457_0242ac1c0002row3_col19\" class=\"data row3 col19\" >0</td>\n",
              "                        <td id=\"T_ef314a24_624e_11eb_9457_0242ac1c0002row3_col20\" class=\"data row3 col20\" >0</td>\n",
              "                        <td id=\"T_ef314a24_624e_11eb_9457_0242ac1c0002row3_col21\" class=\"data row3 col21\" >0</td>\n",
              "                        <td id=\"T_ef314a24_624e_11eb_9457_0242ac1c0002row3_col22\" class=\"data row3 col22\" >0</td>\n",
              "                        <td id=\"T_ef314a24_624e_11eb_9457_0242ac1c0002row3_col23\" class=\"data row3 col23\" >0</td>\n",
              "                        <td id=\"T_ef314a24_624e_11eb_9457_0242ac1c0002row3_col24\" class=\"data row3 col24\" >0</td>\n",
              "                        <td id=\"T_ef314a24_624e_11eb_9457_0242ac1c0002row3_col25\" class=\"data row3 col25\" >0</td>\n",
              "                        <td id=\"T_ef314a24_624e_11eb_9457_0242ac1c0002row3_col26\" class=\"data row3 col26\" >0</td>\n",
              "                        <td id=\"T_ef314a24_624e_11eb_9457_0242ac1c0002row3_col27\" class=\"data row3 col27\" >0</td>\n",
              "            </tr>\n",
              "            <tr>\n",
              "                        <th id=\"T_ef314a24_624e_11eb_9457_0242ac1c0002level0_row4\" class=\"row_heading level0 row4\" >4</th>\n",
              "                        <td id=\"T_ef314a24_624e_11eb_9457_0242ac1c0002row4_col0\" class=\"data row4 col0\" >0</td>\n",
              "                        <td id=\"T_ef314a24_624e_11eb_9457_0242ac1c0002row4_col1\" class=\"data row4 col1\" >0</td>\n",
              "                        <td id=\"T_ef314a24_624e_11eb_9457_0242ac1c0002row4_col2\" class=\"data row4 col2\" >0</td>\n",
              "                        <td id=\"T_ef314a24_624e_11eb_9457_0242ac1c0002row4_col3\" class=\"data row4 col3\" >0</td>\n",
              "                        <td id=\"T_ef314a24_624e_11eb_9457_0242ac1c0002row4_col4\" class=\"data row4 col4\" >0</td>\n",
              "                        <td id=\"T_ef314a24_624e_11eb_9457_0242ac1c0002row4_col5\" class=\"data row4 col5\" >0</td>\n",
              "                        <td id=\"T_ef314a24_624e_11eb_9457_0242ac1c0002row4_col6\" class=\"data row4 col6\" >0</td>\n",
              "                        <td id=\"T_ef314a24_624e_11eb_9457_0242ac1c0002row4_col7\" class=\"data row4 col7\" >0</td>\n",
              "                        <td id=\"T_ef314a24_624e_11eb_9457_0242ac1c0002row4_col8\" class=\"data row4 col8\" >0</td>\n",
              "                        <td id=\"T_ef314a24_624e_11eb_9457_0242ac1c0002row4_col9\" class=\"data row4 col9\" >0</td>\n",
              "                        <td id=\"T_ef314a24_624e_11eb_9457_0242ac1c0002row4_col10\" class=\"data row4 col10\" >0</td>\n",
              "                        <td id=\"T_ef314a24_624e_11eb_9457_0242ac1c0002row4_col11\" class=\"data row4 col11\" >0</td>\n",
              "                        <td id=\"T_ef314a24_624e_11eb_9457_0242ac1c0002row4_col12\" class=\"data row4 col12\" >0</td>\n",
              "                        <td id=\"T_ef314a24_624e_11eb_9457_0242ac1c0002row4_col13\" class=\"data row4 col13\" >0</td>\n",
              "                        <td id=\"T_ef314a24_624e_11eb_9457_0242ac1c0002row4_col14\" class=\"data row4 col14\" >0</td>\n",
              "                        <td id=\"T_ef314a24_624e_11eb_9457_0242ac1c0002row4_col15\" class=\"data row4 col15\" >51</td>\n",
              "                        <td id=\"T_ef314a24_624e_11eb_9457_0242ac1c0002row4_col16\" class=\"data row4 col16\" >159</td>\n",
              "                        <td id=\"T_ef314a24_624e_11eb_9457_0242ac1c0002row4_col17\" class=\"data row4 col17\" >253</td>\n",
              "                        <td id=\"T_ef314a24_624e_11eb_9457_0242ac1c0002row4_col18\" class=\"data row4 col18\" >159</td>\n",
              "                        <td id=\"T_ef314a24_624e_11eb_9457_0242ac1c0002row4_col19\" class=\"data row4 col19\" >50</td>\n",
              "                        <td id=\"T_ef314a24_624e_11eb_9457_0242ac1c0002row4_col20\" class=\"data row4 col20\" >0</td>\n",
              "                        <td id=\"T_ef314a24_624e_11eb_9457_0242ac1c0002row4_col21\" class=\"data row4 col21\" >0</td>\n",
              "                        <td id=\"T_ef314a24_624e_11eb_9457_0242ac1c0002row4_col22\" class=\"data row4 col22\" >0</td>\n",
              "                        <td id=\"T_ef314a24_624e_11eb_9457_0242ac1c0002row4_col23\" class=\"data row4 col23\" >0</td>\n",
              "                        <td id=\"T_ef314a24_624e_11eb_9457_0242ac1c0002row4_col24\" class=\"data row4 col24\" >0</td>\n",
              "                        <td id=\"T_ef314a24_624e_11eb_9457_0242ac1c0002row4_col25\" class=\"data row4 col25\" >0</td>\n",
              "                        <td id=\"T_ef314a24_624e_11eb_9457_0242ac1c0002row4_col26\" class=\"data row4 col26\" >0</td>\n",
              "                        <td id=\"T_ef314a24_624e_11eb_9457_0242ac1c0002row4_col27\" class=\"data row4 col27\" >0</td>\n",
              "            </tr>\n",
              "            <tr>\n",
              "                        <th id=\"T_ef314a24_624e_11eb_9457_0242ac1c0002level0_row5\" class=\"row_heading level0 row5\" >5</th>\n",
              "                        <td id=\"T_ef314a24_624e_11eb_9457_0242ac1c0002row5_col0\" class=\"data row5 col0\" >0</td>\n",
              "                        <td id=\"T_ef314a24_624e_11eb_9457_0242ac1c0002row5_col1\" class=\"data row5 col1\" >0</td>\n",
              "                        <td id=\"T_ef314a24_624e_11eb_9457_0242ac1c0002row5_col2\" class=\"data row5 col2\" >0</td>\n",
              "                        <td id=\"T_ef314a24_624e_11eb_9457_0242ac1c0002row5_col3\" class=\"data row5 col3\" >0</td>\n",
              "                        <td id=\"T_ef314a24_624e_11eb_9457_0242ac1c0002row5_col4\" class=\"data row5 col4\" >0</td>\n",
              "                        <td id=\"T_ef314a24_624e_11eb_9457_0242ac1c0002row5_col5\" class=\"data row5 col5\" >0</td>\n",
              "                        <td id=\"T_ef314a24_624e_11eb_9457_0242ac1c0002row5_col6\" class=\"data row5 col6\" >0</td>\n",
              "                        <td id=\"T_ef314a24_624e_11eb_9457_0242ac1c0002row5_col7\" class=\"data row5 col7\" >0</td>\n",
              "                        <td id=\"T_ef314a24_624e_11eb_9457_0242ac1c0002row5_col8\" class=\"data row5 col8\" >0</td>\n",
              "                        <td id=\"T_ef314a24_624e_11eb_9457_0242ac1c0002row5_col9\" class=\"data row5 col9\" >0</td>\n",
              "                        <td id=\"T_ef314a24_624e_11eb_9457_0242ac1c0002row5_col10\" class=\"data row5 col10\" >0</td>\n",
              "                        <td id=\"T_ef314a24_624e_11eb_9457_0242ac1c0002row5_col11\" class=\"data row5 col11\" >0</td>\n",
              "                        <td id=\"T_ef314a24_624e_11eb_9457_0242ac1c0002row5_col12\" class=\"data row5 col12\" >0</td>\n",
              "                        <td id=\"T_ef314a24_624e_11eb_9457_0242ac1c0002row5_col13\" class=\"data row5 col13\" >0</td>\n",
              "                        <td id=\"T_ef314a24_624e_11eb_9457_0242ac1c0002row5_col14\" class=\"data row5 col14\" >48</td>\n",
              "                        <td id=\"T_ef314a24_624e_11eb_9457_0242ac1c0002row5_col15\" class=\"data row5 col15\" >238</td>\n",
              "                        <td id=\"T_ef314a24_624e_11eb_9457_0242ac1c0002row5_col16\" class=\"data row5 col16\" >252</td>\n",
              "                        <td id=\"T_ef314a24_624e_11eb_9457_0242ac1c0002row5_col17\" class=\"data row5 col17\" >252</td>\n",
              "                        <td id=\"T_ef314a24_624e_11eb_9457_0242ac1c0002row5_col18\" class=\"data row5 col18\" >252</td>\n",
              "                        <td id=\"T_ef314a24_624e_11eb_9457_0242ac1c0002row5_col19\" class=\"data row5 col19\" >237</td>\n",
              "                        <td id=\"T_ef314a24_624e_11eb_9457_0242ac1c0002row5_col20\" class=\"data row5 col20\" >0</td>\n",
              "                        <td id=\"T_ef314a24_624e_11eb_9457_0242ac1c0002row5_col21\" class=\"data row5 col21\" >0</td>\n",
              "                        <td id=\"T_ef314a24_624e_11eb_9457_0242ac1c0002row5_col22\" class=\"data row5 col22\" >0</td>\n",
              "                        <td id=\"T_ef314a24_624e_11eb_9457_0242ac1c0002row5_col23\" class=\"data row5 col23\" >0</td>\n",
              "                        <td id=\"T_ef314a24_624e_11eb_9457_0242ac1c0002row5_col24\" class=\"data row5 col24\" >0</td>\n",
              "                        <td id=\"T_ef314a24_624e_11eb_9457_0242ac1c0002row5_col25\" class=\"data row5 col25\" >0</td>\n",
              "                        <td id=\"T_ef314a24_624e_11eb_9457_0242ac1c0002row5_col26\" class=\"data row5 col26\" >0</td>\n",
              "                        <td id=\"T_ef314a24_624e_11eb_9457_0242ac1c0002row5_col27\" class=\"data row5 col27\" >0</td>\n",
              "            </tr>\n",
              "            <tr>\n",
              "                        <th id=\"T_ef314a24_624e_11eb_9457_0242ac1c0002level0_row6\" class=\"row_heading level0 row6\" >6</th>\n",
              "                        <td id=\"T_ef314a24_624e_11eb_9457_0242ac1c0002row6_col0\" class=\"data row6 col0\" >0</td>\n",
              "                        <td id=\"T_ef314a24_624e_11eb_9457_0242ac1c0002row6_col1\" class=\"data row6 col1\" >0</td>\n",
              "                        <td id=\"T_ef314a24_624e_11eb_9457_0242ac1c0002row6_col2\" class=\"data row6 col2\" >0</td>\n",
              "                        <td id=\"T_ef314a24_624e_11eb_9457_0242ac1c0002row6_col3\" class=\"data row6 col3\" >0</td>\n",
              "                        <td id=\"T_ef314a24_624e_11eb_9457_0242ac1c0002row6_col4\" class=\"data row6 col4\" >0</td>\n",
              "                        <td id=\"T_ef314a24_624e_11eb_9457_0242ac1c0002row6_col5\" class=\"data row6 col5\" >0</td>\n",
              "                        <td id=\"T_ef314a24_624e_11eb_9457_0242ac1c0002row6_col6\" class=\"data row6 col6\" >0</td>\n",
              "                        <td id=\"T_ef314a24_624e_11eb_9457_0242ac1c0002row6_col7\" class=\"data row6 col7\" >0</td>\n",
              "                        <td id=\"T_ef314a24_624e_11eb_9457_0242ac1c0002row6_col8\" class=\"data row6 col8\" >0</td>\n",
              "                        <td id=\"T_ef314a24_624e_11eb_9457_0242ac1c0002row6_col9\" class=\"data row6 col9\" >0</td>\n",
              "                        <td id=\"T_ef314a24_624e_11eb_9457_0242ac1c0002row6_col10\" class=\"data row6 col10\" >0</td>\n",
              "                        <td id=\"T_ef314a24_624e_11eb_9457_0242ac1c0002row6_col11\" class=\"data row6 col11\" >0</td>\n",
              "                        <td id=\"T_ef314a24_624e_11eb_9457_0242ac1c0002row6_col12\" class=\"data row6 col12\" >0</td>\n",
              "                        <td id=\"T_ef314a24_624e_11eb_9457_0242ac1c0002row6_col13\" class=\"data row6 col13\" >54</td>\n",
              "                        <td id=\"T_ef314a24_624e_11eb_9457_0242ac1c0002row6_col14\" class=\"data row6 col14\" >227</td>\n",
              "                        <td id=\"T_ef314a24_624e_11eb_9457_0242ac1c0002row6_col15\" class=\"data row6 col15\" >253</td>\n",
              "                        <td id=\"T_ef314a24_624e_11eb_9457_0242ac1c0002row6_col16\" class=\"data row6 col16\" >252</td>\n",
              "                        <td id=\"T_ef314a24_624e_11eb_9457_0242ac1c0002row6_col17\" class=\"data row6 col17\" >239</td>\n",
              "                        <td id=\"T_ef314a24_624e_11eb_9457_0242ac1c0002row6_col18\" class=\"data row6 col18\" >233</td>\n",
              "                        <td id=\"T_ef314a24_624e_11eb_9457_0242ac1c0002row6_col19\" class=\"data row6 col19\" >252</td>\n",
              "                        <td id=\"T_ef314a24_624e_11eb_9457_0242ac1c0002row6_col20\" class=\"data row6 col20\" >57</td>\n",
              "                        <td id=\"T_ef314a24_624e_11eb_9457_0242ac1c0002row6_col21\" class=\"data row6 col21\" >6</td>\n",
              "                        <td id=\"T_ef314a24_624e_11eb_9457_0242ac1c0002row6_col22\" class=\"data row6 col22\" >0</td>\n",
              "                        <td id=\"T_ef314a24_624e_11eb_9457_0242ac1c0002row6_col23\" class=\"data row6 col23\" >0</td>\n",
              "                        <td id=\"T_ef314a24_624e_11eb_9457_0242ac1c0002row6_col24\" class=\"data row6 col24\" >0</td>\n",
              "                        <td id=\"T_ef314a24_624e_11eb_9457_0242ac1c0002row6_col25\" class=\"data row6 col25\" >0</td>\n",
              "                        <td id=\"T_ef314a24_624e_11eb_9457_0242ac1c0002row6_col26\" class=\"data row6 col26\" >0</td>\n",
              "                        <td id=\"T_ef314a24_624e_11eb_9457_0242ac1c0002row6_col27\" class=\"data row6 col27\" >0</td>\n",
              "            </tr>\n",
              "            <tr>\n",
              "                        <th id=\"T_ef314a24_624e_11eb_9457_0242ac1c0002level0_row7\" class=\"row_heading level0 row7\" >7</th>\n",
              "                        <td id=\"T_ef314a24_624e_11eb_9457_0242ac1c0002row7_col0\" class=\"data row7 col0\" >0</td>\n",
              "                        <td id=\"T_ef314a24_624e_11eb_9457_0242ac1c0002row7_col1\" class=\"data row7 col1\" >0</td>\n",
              "                        <td id=\"T_ef314a24_624e_11eb_9457_0242ac1c0002row7_col2\" class=\"data row7 col2\" >0</td>\n",
              "                        <td id=\"T_ef314a24_624e_11eb_9457_0242ac1c0002row7_col3\" class=\"data row7 col3\" >0</td>\n",
              "                        <td id=\"T_ef314a24_624e_11eb_9457_0242ac1c0002row7_col4\" class=\"data row7 col4\" >0</td>\n",
              "                        <td id=\"T_ef314a24_624e_11eb_9457_0242ac1c0002row7_col5\" class=\"data row7 col5\" >0</td>\n",
              "                        <td id=\"T_ef314a24_624e_11eb_9457_0242ac1c0002row7_col6\" class=\"data row7 col6\" >0</td>\n",
              "                        <td id=\"T_ef314a24_624e_11eb_9457_0242ac1c0002row7_col7\" class=\"data row7 col7\" >0</td>\n",
              "                        <td id=\"T_ef314a24_624e_11eb_9457_0242ac1c0002row7_col8\" class=\"data row7 col8\" >0</td>\n",
              "                        <td id=\"T_ef314a24_624e_11eb_9457_0242ac1c0002row7_col9\" class=\"data row7 col9\" >0</td>\n",
              "                        <td id=\"T_ef314a24_624e_11eb_9457_0242ac1c0002row7_col10\" class=\"data row7 col10\" >0</td>\n",
              "                        <td id=\"T_ef314a24_624e_11eb_9457_0242ac1c0002row7_col11\" class=\"data row7 col11\" >10</td>\n",
              "                        <td id=\"T_ef314a24_624e_11eb_9457_0242ac1c0002row7_col12\" class=\"data row7 col12\" >60</td>\n",
              "                        <td id=\"T_ef314a24_624e_11eb_9457_0242ac1c0002row7_col13\" class=\"data row7 col13\" >224</td>\n",
              "                        <td id=\"T_ef314a24_624e_11eb_9457_0242ac1c0002row7_col14\" class=\"data row7 col14\" >252</td>\n",
              "                        <td id=\"T_ef314a24_624e_11eb_9457_0242ac1c0002row7_col15\" class=\"data row7 col15\" >253</td>\n",
              "                        <td id=\"T_ef314a24_624e_11eb_9457_0242ac1c0002row7_col16\" class=\"data row7 col16\" >252</td>\n",
              "                        <td id=\"T_ef314a24_624e_11eb_9457_0242ac1c0002row7_col17\" class=\"data row7 col17\" >202</td>\n",
              "                        <td id=\"T_ef314a24_624e_11eb_9457_0242ac1c0002row7_col18\" class=\"data row7 col18\" >84</td>\n",
              "                        <td id=\"T_ef314a24_624e_11eb_9457_0242ac1c0002row7_col19\" class=\"data row7 col19\" >252</td>\n",
              "                        <td id=\"T_ef314a24_624e_11eb_9457_0242ac1c0002row7_col20\" class=\"data row7 col20\" >253</td>\n",
              "                        <td id=\"T_ef314a24_624e_11eb_9457_0242ac1c0002row7_col21\" class=\"data row7 col21\" >122</td>\n",
              "                        <td id=\"T_ef314a24_624e_11eb_9457_0242ac1c0002row7_col22\" class=\"data row7 col22\" >0</td>\n",
              "                        <td id=\"T_ef314a24_624e_11eb_9457_0242ac1c0002row7_col23\" class=\"data row7 col23\" >0</td>\n",
              "                        <td id=\"T_ef314a24_624e_11eb_9457_0242ac1c0002row7_col24\" class=\"data row7 col24\" >0</td>\n",
              "                        <td id=\"T_ef314a24_624e_11eb_9457_0242ac1c0002row7_col25\" class=\"data row7 col25\" >0</td>\n",
              "                        <td id=\"T_ef314a24_624e_11eb_9457_0242ac1c0002row7_col26\" class=\"data row7 col26\" >0</td>\n",
              "                        <td id=\"T_ef314a24_624e_11eb_9457_0242ac1c0002row7_col27\" class=\"data row7 col27\" >0</td>\n",
              "            </tr>\n",
              "            <tr>\n",
              "                        <th id=\"T_ef314a24_624e_11eb_9457_0242ac1c0002level0_row8\" class=\"row_heading level0 row8\" >8</th>\n",
              "                        <td id=\"T_ef314a24_624e_11eb_9457_0242ac1c0002row8_col0\" class=\"data row8 col0\" >0</td>\n",
              "                        <td id=\"T_ef314a24_624e_11eb_9457_0242ac1c0002row8_col1\" class=\"data row8 col1\" >0</td>\n",
              "                        <td id=\"T_ef314a24_624e_11eb_9457_0242ac1c0002row8_col2\" class=\"data row8 col2\" >0</td>\n",
              "                        <td id=\"T_ef314a24_624e_11eb_9457_0242ac1c0002row8_col3\" class=\"data row8 col3\" >0</td>\n",
              "                        <td id=\"T_ef314a24_624e_11eb_9457_0242ac1c0002row8_col4\" class=\"data row8 col4\" >0</td>\n",
              "                        <td id=\"T_ef314a24_624e_11eb_9457_0242ac1c0002row8_col5\" class=\"data row8 col5\" >0</td>\n",
              "                        <td id=\"T_ef314a24_624e_11eb_9457_0242ac1c0002row8_col6\" class=\"data row8 col6\" >0</td>\n",
              "                        <td id=\"T_ef314a24_624e_11eb_9457_0242ac1c0002row8_col7\" class=\"data row8 col7\" >0</td>\n",
              "                        <td id=\"T_ef314a24_624e_11eb_9457_0242ac1c0002row8_col8\" class=\"data row8 col8\" >0</td>\n",
              "                        <td id=\"T_ef314a24_624e_11eb_9457_0242ac1c0002row8_col9\" class=\"data row8 col9\" >0</td>\n",
              "                        <td id=\"T_ef314a24_624e_11eb_9457_0242ac1c0002row8_col10\" class=\"data row8 col10\" >0</td>\n",
              "                        <td id=\"T_ef314a24_624e_11eb_9457_0242ac1c0002row8_col11\" class=\"data row8 col11\" >163</td>\n",
              "                        <td id=\"T_ef314a24_624e_11eb_9457_0242ac1c0002row8_col12\" class=\"data row8 col12\" >252</td>\n",
              "                        <td id=\"T_ef314a24_624e_11eb_9457_0242ac1c0002row8_col13\" class=\"data row8 col13\" >252</td>\n",
              "                        <td id=\"T_ef314a24_624e_11eb_9457_0242ac1c0002row8_col14\" class=\"data row8 col14\" >252</td>\n",
              "                        <td id=\"T_ef314a24_624e_11eb_9457_0242ac1c0002row8_col15\" class=\"data row8 col15\" >253</td>\n",
              "                        <td id=\"T_ef314a24_624e_11eb_9457_0242ac1c0002row8_col16\" class=\"data row8 col16\" >252</td>\n",
              "                        <td id=\"T_ef314a24_624e_11eb_9457_0242ac1c0002row8_col17\" class=\"data row8 col17\" >252</td>\n",
              "                        <td id=\"T_ef314a24_624e_11eb_9457_0242ac1c0002row8_col18\" class=\"data row8 col18\" >96</td>\n",
              "                        <td id=\"T_ef314a24_624e_11eb_9457_0242ac1c0002row8_col19\" class=\"data row8 col19\" >189</td>\n",
              "                        <td id=\"T_ef314a24_624e_11eb_9457_0242ac1c0002row8_col20\" class=\"data row8 col20\" >253</td>\n",
              "                        <td id=\"T_ef314a24_624e_11eb_9457_0242ac1c0002row8_col21\" class=\"data row8 col21\" >167</td>\n",
              "                        <td id=\"T_ef314a24_624e_11eb_9457_0242ac1c0002row8_col22\" class=\"data row8 col22\" >0</td>\n",
              "                        <td id=\"T_ef314a24_624e_11eb_9457_0242ac1c0002row8_col23\" class=\"data row8 col23\" >0</td>\n",
              "                        <td id=\"T_ef314a24_624e_11eb_9457_0242ac1c0002row8_col24\" class=\"data row8 col24\" >0</td>\n",
              "                        <td id=\"T_ef314a24_624e_11eb_9457_0242ac1c0002row8_col25\" class=\"data row8 col25\" >0</td>\n",
              "                        <td id=\"T_ef314a24_624e_11eb_9457_0242ac1c0002row8_col26\" class=\"data row8 col26\" >0</td>\n",
              "                        <td id=\"T_ef314a24_624e_11eb_9457_0242ac1c0002row8_col27\" class=\"data row8 col27\" >0</td>\n",
              "            </tr>\n",
              "            <tr>\n",
              "                        <th id=\"T_ef314a24_624e_11eb_9457_0242ac1c0002level0_row9\" class=\"row_heading level0 row9\" >9</th>\n",
              "                        <td id=\"T_ef314a24_624e_11eb_9457_0242ac1c0002row9_col0\" class=\"data row9 col0\" >0</td>\n",
              "                        <td id=\"T_ef314a24_624e_11eb_9457_0242ac1c0002row9_col1\" class=\"data row9 col1\" >0</td>\n",
              "                        <td id=\"T_ef314a24_624e_11eb_9457_0242ac1c0002row9_col2\" class=\"data row9 col2\" >0</td>\n",
              "                        <td id=\"T_ef314a24_624e_11eb_9457_0242ac1c0002row9_col3\" class=\"data row9 col3\" >0</td>\n",
              "                        <td id=\"T_ef314a24_624e_11eb_9457_0242ac1c0002row9_col4\" class=\"data row9 col4\" >0</td>\n",
              "                        <td id=\"T_ef314a24_624e_11eb_9457_0242ac1c0002row9_col5\" class=\"data row9 col5\" >0</td>\n",
              "                        <td id=\"T_ef314a24_624e_11eb_9457_0242ac1c0002row9_col6\" class=\"data row9 col6\" >0</td>\n",
              "                        <td id=\"T_ef314a24_624e_11eb_9457_0242ac1c0002row9_col7\" class=\"data row9 col7\" >0</td>\n",
              "                        <td id=\"T_ef314a24_624e_11eb_9457_0242ac1c0002row9_col8\" class=\"data row9 col8\" >0</td>\n",
              "                        <td id=\"T_ef314a24_624e_11eb_9457_0242ac1c0002row9_col9\" class=\"data row9 col9\" >0</td>\n",
              "                        <td id=\"T_ef314a24_624e_11eb_9457_0242ac1c0002row9_col10\" class=\"data row9 col10\" >51</td>\n",
              "                        <td id=\"T_ef314a24_624e_11eb_9457_0242ac1c0002row9_col11\" class=\"data row9 col11\" >238</td>\n",
              "                        <td id=\"T_ef314a24_624e_11eb_9457_0242ac1c0002row9_col12\" class=\"data row9 col12\" >253</td>\n",
              "                        <td id=\"T_ef314a24_624e_11eb_9457_0242ac1c0002row9_col13\" class=\"data row9 col13\" >253</td>\n",
              "                        <td id=\"T_ef314a24_624e_11eb_9457_0242ac1c0002row9_col14\" class=\"data row9 col14\" >190</td>\n",
              "                        <td id=\"T_ef314a24_624e_11eb_9457_0242ac1c0002row9_col15\" class=\"data row9 col15\" >114</td>\n",
              "                        <td id=\"T_ef314a24_624e_11eb_9457_0242ac1c0002row9_col16\" class=\"data row9 col16\" >253</td>\n",
              "                        <td id=\"T_ef314a24_624e_11eb_9457_0242ac1c0002row9_col17\" class=\"data row9 col17\" >228</td>\n",
              "                        <td id=\"T_ef314a24_624e_11eb_9457_0242ac1c0002row9_col18\" class=\"data row9 col18\" >47</td>\n",
              "                        <td id=\"T_ef314a24_624e_11eb_9457_0242ac1c0002row9_col19\" class=\"data row9 col19\" >79</td>\n",
              "                        <td id=\"T_ef314a24_624e_11eb_9457_0242ac1c0002row9_col20\" class=\"data row9 col20\" >255</td>\n",
              "                        <td id=\"T_ef314a24_624e_11eb_9457_0242ac1c0002row9_col21\" class=\"data row9 col21\" >168</td>\n",
              "                        <td id=\"T_ef314a24_624e_11eb_9457_0242ac1c0002row9_col22\" class=\"data row9 col22\" >0</td>\n",
              "                        <td id=\"T_ef314a24_624e_11eb_9457_0242ac1c0002row9_col23\" class=\"data row9 col23\" >0</td>\n",
              "                        <td id=\"T_ef314a24_624e_11eb_9457_0242ac1c0002row9_col24\" class=\"data row9 col24\" >0</td>\n",
              "                        <td id=\"T_ef314a24_624e_11eb_9457_0242ac1c0002row9_col25\" class=\"data row9 col25\" >0</td>\n",
              "                        <td id=\"T_ef314a24_624e_11eb_9457_0242ac1c0002row9_col26\" class=\"data row9 col26\" >0</td>\n",
              "                        <td id=\"T_ef314a24_624e_11eb_9457_0242ac1c0002row9_col27\" class=\"data row9 col27\" >0</td>\n",
              "            </tr>\n",
              "            <tr>\n",
              "                        <th id=\"T_ef314a24_624e_11eb_9457_0242ac1c0002level0_row10\" class=\"row_heading level0 row10\" >10</th>\n",
              "                        <td id=\"T_ef314a24_624e_11eb_9457_0242ac1c0002row10_col0\" class=\"data row10 col0\" >0</td>\n",
              "                        <td id=\"T_ef314a24_624e_11eb_9457_0242ac1c0002row10_col1\" class=\"data row10 col1\" >0</td>\n",
              "                        <td id=\"T_ef314a24_624e_11eb_9457_0242ac1c0002row10_col2\" class=\"data row10 col2\" >0</td>\n",
              "                        <td id=\"T_ef314a24_624e_11eb_9457_0242ac1c0002row10_col3\" class=\"data row10 col3\" >0</td>\n",
              "                        <td id=\"T_ef314a24_624e_11eb_9457_0242ac1c0002row10_col4\" class=\"data row10 col4\" >0</td>\n",
              "                        <td id=\"T_ef314a24_624e_11eb_9457_0242ac1c0002row10_col5\" class=\"data row10 col5\" >0</td>\n",
              "                        <td id=\"T_ef314a24_624e_11eb_9457_0242ac1c0002row10_col6\" class=\"data row10 col6\" >0</td>\n",
              "                        <td id=\"T_ef314a24_624e_11eb_9457_0242ac1c0002row10_col7\" class=\"data row10 col7\" >0</td>\n",
              "                        <td id=\"T_ef314a24_624e_11eb_9457_0242ac1c0002row10_col8\" class=\"data row10 col8\" >0</td>\n",
              "                        <td id=\"T_ef314a24_624e_11eb_9457_0242ac1c0002row10_col9\" class=\"data row10 col9\" >48</td>\n",
              "                        <td id=\"T_ef314a24_624e_11eb_9457_0242ac1c0002row10_col10\" class=\"data row10 col10\" >238</td>\n",
              "                        <td id=\"T_ef314a24_624e_11eb_9457_0242ac1c0002row10_col11\" class=\"data row10 col11\" >252</td>\n",
              "                        <td id=\"T_ef314a24_624e_11eb_9457_0242ac1c0002row10_col12\" class=\"data row10 col12\" >252</td>\n",
              "                        <td id=\"T_ef314a24_624e_11eb_9457_0242ac1c0002row10_col13\" class=\"data row10 col13\" >179</td>\n",
              "                        <td id=\"T_ef314a24_624e_11eb_9457_0242ac1c0002row10_col14\" class=\"data row10 col14\" >12</td>\n",
              "                        <td id=\"T_ef314a24_624e_11eb_9457_0242ac1c0002row10_col15\" class=\"data row10 col15\" >75</td>\n",
              "                        <td id=\"T_ef314a24_624e_11eb_9457_0242ac1c0002row10_col16\" class=\"data row10 col16\" >121</td>\n",
              "                        <td id=\"T_ef314a24_624e_11eb_9457_0242ac1c0002row10_col17\" class=\"data row10 col17\" >21</td>\n",
              "                        <td id=\"T_ef314a24_624e_11eb_9457_0242ac1c0002row10_col18\" class=\"data row10 col18\" >0</td>\n",
              "                        <td id=\"T_ef314a24_624e_11eb_9457_0242ac1c0002row10_col19\" class=\"data row10 col19\" >0</td>\n",
              "                        <td id=\"T_ef314a24_624e_11eb_9457_0242ac1c0002row10_col20\" class=\"data row10 col20\" >253</td>\n",
              "                        <td id=\"T_ef314a24_624e_11eb_9457_0242ac1c0002row10_col21\" class=\"data row10 col21\" >243</td>\n",
              "                        <td id=\"T_ef314a24_624e_11eb_9457_0242ac1c0002row10_col22\" class=\"data row10 col22\" >50</td>\n",
              "                        <td id=\"T_ef314a24_624e_11eb_9457_0242ac1c0002row10_col23\" class=\"data row10 col23\" >0</td>\n",
              "                        <td id=\"T_ef314a24_624e_11eb_9457_0242ac1c0002row10_col24\" class=\"data row10 col24\" >0</td>\n",
              "                        <td id=\"T_ef314a24_624e_11eb_9457_0242ac1c0002row10_col25\" class=\"data row10 col25\" >0</td>\n",
              "                        <td id=\"T_ef314a24_624e_11eb_9457_0242ac1c0002row10_col26\" class=\"data row10 col26\" >0</td>\n",
              "                        <td id=\"T_ef314a24_624e_11eb_9457_0242ac1c0002row10_col27\" class=\"data row10 col27\" >0</td>\n",
              "            </tr>\n",
              "            <tr>\n",
              "                        <th id=\"T_ef314a24_624e_11eb_9457_0242ac1c0002level0_row11\" class=\"row_heading level0 row11\" >11</th>\n",
              "                        <td id=\"T_ef314a24_624e_11eb_9457_0242ac1c0002row11_col0\" class=\"data row11 col0\" >0</td>\n",
              "                        <td id=\"T_ef314a24_624e_11eb_9457_0242ac1c0002row11_col1\" class=\"data row11 col1\" >0</td>\n",
              "                        <td id=\"T_ef314a24_624e_11eb_9457_0242ac1c0002row11_col2\" class=\"data row11 col2\" >0</td>\n",
              "                        <td id=\"T_ef314a24_624e_11eb_9457_0242ac1c0002row11_col3\" class=\"data row11 col3\" >0</td>\n",
              "                        <td id=\"T_ef314a24_624e_11eb_9457_0242ac1c0002row11_col4\" class=\"data row11 col4\" >0</td>\n",
              "                        <td id=\"T_ef314a24_624e_11eb_9457_0242ac1c0002row11_col5\" class=\"data row11 col5\" >0</td>\n",
              "                        <td id=\"T_ef314a24_624e_11eb_9457_0242ac1c0002row11_col6\" class=\"data row11 col6\" >0</td>\n",
              "                        <td id=\"T_ef314a24_624e_11eb_9457_0242ac1c0002row11_col7\" class=\"data row11 col7\" >0</td>\n",
              "                        <td id=\"T_ef314a24_624e_11eb_9457_0242ac1c0002row11_col8\" class=\"data row11 col8\" >38</td>\n",
              "                        <td id=\"T_ef314a24_624e_11eb_9457_0242ac1c0002row11_col9\" class=\"data row11 col9\" >165</td>\n",
              "                        <td id=\"T_ef314a24_624e_11eb_9457_0242ac1c0002row11_col10\" class=\"data row11 col10\" >253</td>\n",
              "                        <td id=\"T_ef314a24_624e_11eb_9457_0242ac1c0002row11_col11\" class=\"data row11 col11\" >233</td>\n",
              "                        <td id=\"T_ef314a24_624e_11eb_9457_0242ac1c0002row11_col12\" class=\"data row11 col12\" >208</td>\n",
              "                        <td id=\"T_ef314a24_624e_11eb_9457_0242ac1c0002row11_col13\" class=\"data row11 col13\" >84</td>\n",
              "                        <td id=\"T_ef314a24_624e_11eb_9457_0242ac1c0002row11_col14\" class=\"data row11 col14\" >0</td>\n",
              "                        <td id=\"T_ef314a24_624e_11eb_9457_0242ac1c0002row11_col15\" class=\"data row11 col15\" >0</td>\n",
              "                        <td id=\"T_ef314a24_624e_11eb_9457_0242ac1c0002row11_col16\" class=\"data row11 col16\" >0</td>\n",
              "                        <td id=\"T_ef314a24_624e_11eb_9457_0242ac1c0002row11_col17\" class=\"data row11 col17\" >0</td>\n",
              "                        <td id=\"T_ef314a24_624e_11eb_9457_0242ac1c0002row11_col18\" class=\"data row11 col18\" >0</td>\n",
              "                        <td id=\"T_ef314a24_624e_11eb_9457_0242ac1c0002row11_col19\" class=\"data row11 col19\" >0</td>\n",
              "                        <td id=\"T_ef314a24_624e_11eb_9457_0242ac1c0002row11_col20\" class=\"data row11 col20\" >253</td>\n",
              "                        <td id=\"T_ef314a24_624e_11eb_9457_0242ac1c0002row11_col21\" class=\"data row11 col21\" >252</td>\n",
              "                        <td id=\"T_ef314a24_624e_11eb_9457_0242ac1c0002row11_col22\" class=\"data row11 col22\" >165</td>\n",
              "                        <td id=\"T_ef314a24_624e_11eb_9457_0242ac1c0002row11_col23\" class=\"data row11 col23\" >0</td>\n",
              "                        <td id=\"T_ef314a24_624e_11eb_9457_0242ac1c0002row11_col24\" class=\"data row11 col24\" >0</td>\n",
              "                        <td id=\"T_ef314a24_624e_11eb_9457_0242ac1c0002row11_col25\" class=\"data row11 col25\" >0</td>\n",
              "                        <td id=\"T_ef314a24_624e_11eb_9457_0242ac1c0002row11_col26\" class=\"data row11 col26\" >0</td>\n",
              "                        <td id=\"T_ef314a24_624e_11eb_9457_0242ac1c0002row11_col27\" class=\"data row11 col27\" >0</td>\n",
              "            </tr>\n",
              "            <tr>\n",
              "                        <th id=\"T_ef314a24_624e_11eb_9457_0242ac1c0002level0_row12\" class=\"row_heading level0 row12\" >12</th>\n",
              "                        <td id=\"T_ef314a24_624e_11eb_9457_0242ac1c0002row12_col0\" class=\"data row12 col0\" >0</td>\n",
              "                        <td id=\"T_ef314a24_624e_11eb_9457_0242ac1c0002row12_col1\" class=\"data row12 col1\" >0</td>\n",
              "                        <td id=\"T_ef314a24_624e_11eb_9457_0242ac1c0002row12_col2\" class=\"data row12 col2\" >0</td>\n",
              "                        <td id=\"T_ef314a24_624e_11eb_9457_0242ac1c0002row12_col3\" class=\"data row12 col3\" >0</td>\n",
              "                        <td id=\"T_ef314a24_624e_11eb_9457_0242ac1c0002row12_col4\" class=\"data row12 col4\" >0</td>\n",
              "                        <td id=\"T_ef314a24_624e_11eb_9457_0242ac1c0002row12_col5\" class=\"data row12 col5\" >0</td>\n",
              "                        <td id=\"T_ef314a24_624e_11eb_9457_0242ac1c0002row12_col6\" class=\"data row12 col6\" >0</td>\n",
              "                        <td id=\"T_ef314a24_624e_11eb_9457_0242ac1c0002row12_col7\" class=\"data row12 col7\" >7</td>\n",
              "                        <td id=\"T_ef314a24_624e_11eb_9457_0242ac1c0002row12_col8\" class=\"data row12 col8\" >178</td>\n",
              "                        <td id=\"T_ef314a24_624e_11eb_9457_0242ac1c0002row12_col9\" class=\"data row12 col9\" >252</td>\n",
              "                        <td id=\"T_ef314a24_624e_11eb_9457_0242ac1c0002row12_col10\" class=\"data row12 col10\" >240</td>\n",
              "                        <td id=\"T_ef314a24_624e_11eb_9457_0242ac1c0002row12_col11\" class=\"data row12 col11\" >71</td>\n",
              "                        <td id=\"T_ef314a24_624e_11eb_9457_0242ac1c0002row12_col12\" class=\"data row12 col12\" >19</td>\n",
              "                        <td id=\"T_ef314a24_624e_11eb_9457_0242ac1c0002row12_col13\" class=\"data row12 col13\" >28</td>\n",
              "                        <td id=\"T_ef314a24_624e_11eb_9457_0242ac1c0002row12_col14\" class=\"data row12 col14\" >0</td>\n",
              "                        <td id=\"T_ef314a24_624e_11eb_9457_0242ac1c0002row12_col15\" class=\"data row12 col15\" >0</td>\n",
              "                        <td id=\"T_ef314a24_624e_11eb_9457_0242ac1c0002row12_col16\" class=\"data row12 col16\" >0</td>\n",
              "                        <td id=\"T_ef314a24_624e_11eb_9457_0242ac1c0002row12_col17\" class=\"data row12 col17\" >0</td>\n",
              "                        <td id=\"T_ef314a24_624e_11eb_9457_0242ac1c0002row12_col18\" class=\"data row12 col18\" >0</td>\n",
              "                        <td id=\"T_ef314a24_624e_11eb_9457_0242ac1c0002row12_col19\" class=\"data row12 col19\" >0</td>\n",
              "                        <td id=\"T_ef314a24_624e_11eb_9457_0242ac1c0002row12_col20\" class=\"data row12 col20\" >253</td>\n",
              "                        <td id=\"T_ef314a24_624e_11eb_9457_0242ac1c0002row12_col21\" class=\"data row12 col21\" >252</td>\n",
              "                        <td id=\"T_ef314a24_624e_11eb_9457_0242ac1c0002row12_col22\" class=\"data row12 col22\" >195</td>\n",
              "                        <td id=\"T_ef314a24_624e_11eb_9457_0242ac1c0002row12_col23\" class=\"data row12 col23\" >0</td>\n",
              "                        <td id=\"T_ef314a24_624e_11eb_9457_0242ac1c0002row12_col24\" class=\"data row12 col24\" >0</td>\n",
              "                        <td id=\"T_ef314a24_624e_11eb_9457_0242ac1c0002row12_col25\" class=\"data row12 col25\" >0</td>\n",
              "                        <td id=\"T_ef314a24_624e_11eb_9457_0242ac1c0002row12_col26\" class=\"data row12 col26\" >0</td>\n",
              "                        <td id=\"T_ef314a24_624e_11eb_9457_0242ac1c0002row12_col27\" class=\"data row12 col27\" >0</td>\n",
              "            </tr>\n",
              "            <tr>\n",
              "                        <th id=\"T_ef314a24_624e_11eb_9457_0242ac1c0002level0_row13\" class=\"row_heading level0 row13\" >13</th>\n",
              "                        <td id=\"T_ef314a24_624e_11eb_9457_0242ac1c0002row13_col0\" class=\"data row13 col0\" >0</td>\n",
              "                        <td id=\"T_ef314a24_624e_11eb_9457_0242ac1c0002row13_col1\" class=\"data row13 col1\" >0</td>\n",
              "                        <td id=\"T_ef314a24_624e_11eb_9457_0242ac1c0002row13_col2\" class=\"data row13 col2\" >0</td>\n",
              "                        <td id=\"T_ef314a24_624e_11eb_9457_0242ac1c0002row13_col3\" class=\"data row13 col3\" >0</td>\n",
              "                        <td id=\"T_ef314a24_624e_11eb_9457_0242ac1c0002row13_col4\" class=\"data row13 col4\" >0</td>\n",
              "                        <td id=\"T_ef314a24_624e_11eb_9457_0242ac1c0002row13_col5\" class=\"data row13 col5\" >0</td>\n",
              "                        <td id=\"T_ef314a24_624e_11eb_9457_0242ac1c0002row13_col6\" class=\"data row13 col6\" >0</td>\n",
              "                        <td id=\"T_ef314a24_624e_11eb_9457_0242ac1c0002row13_col7\" class=\"data row13 col7\" >57</td>\n",
              "                        <td id=\"T_ef314a24_624e_11eb_9457_0242ac1c0002row13_col8\" class=\"data row13 col8\" >252</td>\n",
              "                        <td id=\"T_ef314a24_624e_11eb_9457_0242ac1c0002row13_col9\" class=\"data row13 col9\" >252</td>\n",
              "                        <td id=\"T_ef314a24_624e_11eb_9457_0242ac1c0002row13_col10\" class=\"data row13 col10\" >63</td>\n",
              "                        <td id=\"T_ef314a24_624e_11eb_9457_0242ac1c0002row13_col11\" class=\"data row13 col11\" >0</td>\n",
              "                        <td id=\"T_ef314a24_624e_11eb_9457_0242ac1c0002row13_col12\" class=\"data row13 col12\" >0</td>\n",
              "                        <td id=\"T_ef314a24_624e_11eb_9457_0242ac1c0002row13_col13\" class=\"data row13 col13\" >0</td>\n",
              "                        <td id=\"T_ef314a24_624e_11eb_9457_0242ac1c0002row13_col14\" class=\"data row13 col14\" >0</td>\n",
              "                        <td id=\"T_ef314a24_624e_11eb_9457_0242ac1c0002row13_col15\" class=\"data row13 col15\" >0</td>\n",
              "                        <td id=\"T_ef314a24_624e_11eb_9457_0242ac1c0002row13_col16\" class=\"data row13 col16\" >0</td>\n",
              "                        <td id=\"T_ef314a24_624e_11eb_9457_0242ac1c0002row13_col17\" class=\"data row13 col17\" >0</td>\n",
              "                        <td id=\"T_ef314a24_624e_11eb_9457_0242ac1c0002row13_col18\" class=\"data row13 col18\" >0</td>\n",
              "                        <td id=\"T_ef314a24_624e_11eb_9457_0242ac1c0002row13_col19\" class=\"data row13 col19\" >0</td>\n",
              "                        <td id=\"T_ef314a24_624e_11eb_9457_0242ac1c0002row13_col20\" class=\"data row13 col20\" >253</td>\n",
              "                        <td id=\"T_ef314a24_624e_11eb_9457_0242ac1c0002row13_col21\" class=\"data row13 col21\" >252</td>\n",
              "                        <td id=\"T_ef314a24_624e_11eb_9457_0242ac1c0002row13_col22\" class=\"data row13 col22\" >195</td>\n",
              "                        <td id=\"T_ef314a24_624e_11eb_9457_0242ac1c0002row13_col23\" class=\"data row13 col23\" >0</td>\n",
              "                        <td id=\"T_ef314a24_624e_11eb_9457_0242ac1c0002row13_col24\" class=\"data row13 col24\" >0</td>\n",
              "                        <td id=\"T_ef314a24_624e_11eb_9457_0242ac1c0002row13_col25\" class=\"data row13 col25\" >0</td>\n",
              "                        <td id=\"T_ef314a24_624e_11eb_9457_0242ac1c0002row13_col26\" class=\"data row13 col26\" >0</td>\n",
              "                        <td id=\"T_ef314a24_624e_11eb_9457_0242ac1c0002row13_col27\" class=\"data row13 col27\" >0</td>\n",
              "            </tr>\n",
              "            <tr>\n",
              "                        <th id=\"T_ef314a24_624e_11eb_9457_0242ac1c0002level0_row14\" class=\"row_heading level0 row14\" >14</th>\n",
              "                        <td id=\"T_ef314a24_624e_11eb_9457_0242ac1c0002row14_col0\" class=\"data row14 col0\" >0</td>\n",
              "                        <td id=\"T_ef314a24_624e_11eb_9457_0242ac1c0002row14_col1\" class=\"data row14 col1\" >0</td>\n",
              "                        <td id=\"T_ef314a24_624e_11eb_9457_0242ac1c0002row14_col2\" class=\"data row14 col2\" >0</td>\n",
              "                        <td id=\"T_ef314a24_624e_11eb_9457_0242ac1c0002row14_col3\" class=\"data row14 col3\" >0</td>\n",
              "                        <td id=\"T_ef314a24_624e_11eb_9457_0242ac1c0002row14_col4\" class=\"data row14 col4\" >0</td>\n",
              "                        <td id=\"T_ef314a24_624e_11eb_9457_0242ac1c0002row14_col5\" class=\"data row14 col5\" >0</td>\n",
              "                        <td id=\"T_ef314a24_624e_11eb_9457_0242ac1c0002row14_col6\" class=\"data row14 col6\" >0</td>\n",
              "                        <td id=\"T_ef314a24_624e_11eb_9457_0242ac1c0002row14_col7\" class=\"data row14 col7\" >198</td>\n",
              "                        <td id=\"T_ef314a24_624e_11eb_9457_0242ac1c0002row14_col8\" class=\"data row14 col8\" >253</td>\n",
              "                        <td id=\"T_ef314a24_624e_11eb_9457_0242ac1c0002row14_col9\" class=\"data row14 col9\" >190</td>\n",
              "                        <td id=\"T_ef314a24_624e_11eb_9457_0242ac1c0002row14_col10\" class=\"data row14 col10\" >0</td>\n",
              "                        <td id=\"T_ef314a24_624e_11eb_9457_0242ac1c0002row14_col11\" class=\"data row14 col11\" >0</td>\n",
              "                        <td id=\"T_ef314a24_624e_11eb_9457_0242ac1c0002row14_col12\" class=\"data row14 col12\" >0</td>\n",
              "                        <td id=\"T_ef314a24_624e_11eb_9457_0242ac1c0002row14_col13\" class=\"data row14 col13\" >0</td>\n",
              "                        <td id=\"T_ef314a24_624e_11eb_9457_0242ac1c0002row14_col14\" class=\"data row14 col14\" >0</td>\n",
              "                        <td id=\"T_ef314a24_624e_11eb_9457_0242ac1c0002row14_col15\" class=\"data row14 col15\" >0</td>\n",
              "                        <td id=\"T_ef314a24_624e_11eb_9457_0242ac1c0002row14_col16\" class=\"data row14 col16\" >0</td>\n",
              "                        <td id=\"T_ef314a24_624e_11eb_9457_0242ac1c0002row14_col17\" class=\"data row14 col17\" >0</td>\n",
              "                        <td id=\"T_ef314a24_624e_11eb_9457_0242ac1c0002row14_col18\" class=\"data row14 col18\" >0</td>\n",
              "                        <td id=\"T_ef314a24_624e_11eb_9457_0242ac1c0002row14_col19\" class=\"data row14 col19\" >0</td>\n",
              "                        <td id=\"T_ef314a24_624e_11eb_9457_0242ac1c0002row14_col20\" class=\"data row14 col20\" >255</td>\n",
              "                        <td id=\"T_ef314a24_624e_11eb_9457_0242ac1c0002row14_col21\" class=\"data row14 col21\" >253</td>\n",
              "                        <td id=\"T_ef314a24_624e_11eb_9457_0242ac1c0002row14_col22\" class=\"data row14 col22\" >196</td>\n",
              "                        <td id=\"T_ef314a24_624e_11eb_9457_0242ac1c0002row14_col23\" class=\"data row14 col23\" >0</td>\n",
              "                        <td id=\"T_ef314a24_624e_11eb_9457_0242ac1c0002row14_col24\" class=\"data row14 col24\" >0</td>\n",
              "                        <td id=\"T_ef314a24_624e_11eb_9457_0242ac1c0002row14_col25\" class=\"data row14 col25\" >0</td>\n",
              "                        <td id=\"T_ef314a24_624e_11eb_9457_0242ac1c0002row14_col26\" class=\"data row14 col26\" >0</td>\n",
              "                        <td id=\"T_ef314a24_624e_11eb_9457_0242ac1c0002row14_col27\" class=\"data row14 col27\" >0</td>\n",
              "            </tr>\n",
              "            <tr>\n",
              "                        <th id=\"T_ef314a24_624e_11eb_9457_0242ac1c0002level0_row15\" class=\"row_heading level0 row15\" >15</th>\n",
              "                        <td id=\"T_ef314a24_624e_11eb_9457_0242ac1c0002row15_col0\" class=\"data row15 col0\" >0</td>\n",
              "                        <td id=\"T_ef314a24_624e_11eb_9457_0242ac1c0002row15_col1\" class=\"data row15 col1\" >0</td>\n",
              "                        <td id=\"T_ef314a24_624e_11eb_9457_0242ac1c0002row15_col2\" class=\"data row15 col2\" >0</td>\n",
              "                        <td id=\"T_ef314a24_624e_11eb_9457_0242ac1c0002row15_col3\" class=\"data row15 col3\" >0</td>\n",
              "                        <td id=\"T_ef314a24_624e_11eb_9457_0242ac1c0002row15_col4\" class=\"data row15 col4\" >0</td>\n",
              "                        <td id=\"T_ef314a24_624e_11eb_9457_0242ac1c0002row15_col5\" class=\"data row15 col5\" >0</td>\n",
              "                        <td id=\"T_ef314a24_624e_11eb_9457_0242ac1c0002row15_col6\" class=\"data row15 col6\" >76</td>\n",
              "                        <td id=\"T_ef314a24_624e_11eb_9457_0242ac1c0002row15_col7\" class=\"data row15 col7\" >246</td>\n",
              "                        <td id=\"T_ef314a24_624e_11eb_9457_0242ac1c0002row15_col8\" class=\"data row15 col8\" >252</td>\n",
              "                        <td id=\"T_ef314a24_624e_11eb_9457_0242ac1c0002row15_col9\" class=\"data row15 col9\" >112</td>\n",
              "                        <td id=\"T_ef314a24_624e_11eb_9457_0242ac1c0002row15_col10\" class=\"data row15 col10\" >0</td>\n",
              "                        <td id=\"T_ef314a24_624e_11eb_9457_0242ac1c0002row15_col11\" class=\"data row15 col11\" >0</td>\n",
              "                        <td id=\"T_ef314a24_624e_11eb_9457_0242ac1c0002row15_col12\" class=\"data row15 col12\" >0</td>\n",
              "                        <td id=\"T_ef314a24_624e_11eb_9457_0242ac1c0002row15_col13\" class=\"data row15 col13\" >0</td>\n",
              "                        <td id=\"T_ef314a24_624e_11eb_9457_0242ac1c0002row15_col14\" class=\"data row15 col14\" >0</td>\n",
              "                        <td id=\"T_ef314a24_624e_11eb_9457_0242ac1c0002row15_col15\" class=\"data row15 col15\" >0</td>\n",
              "                        <td id=\"T_ef314a24_624e_11eb_9457_0242ac1c0002row15_col16\" class=\"data row15 col16\" >0</td>\n",
              "                        <td id=\"T_ef314a24_624e_11eb_9457_0242ac1c0002row15_col17\" class=\"data row15 col17\" >0</td>\n",
              "                        <td id=\"T_ef314a24_624e_11eb_9457_0242ac1c0002row15_col18\" class=\"data row15 col18\" >0</td>\n",
              "                        <td id=\"T_ef314a24_624e_11eb_9457_0242ac1c0002row15_col19\" class=\"data row15 col19\" >0</td>\n",
              "                        <td id=\"T_ef314a24_624e_11eb_9457_0242ac1c0002row15_col20\" class=\"data row15 col20\" >253</td>\n",
              "                        <td id=\"T_ef314a24_624e_11eb_9457_0242ac1c0002row15_col21\" class=\"data row15 col21\" >252</td>\n",
              "                        <td id=\"T_ef314a24_624e_11eb_9457_0242ac1c0002row15_col22\" class=\"data row15 col22\" >148</td>\n",
              "                        <td id=\"T_ef314a24_624e_11eb_9457_0242ac1c0002row15_col23\" class=\"data row15 col23\" >0</td>\n",
              "                        <td id=\"T_ef314a24_624e_11eb_9457_0242ac1c0002row15_col24\" class=\"data row15 col24\" >0</td>\n",
              "                        <td id=\"T_ef314a24_624e_11eb_9457_0242ac1c0002row15_col25\" class=\"data row15 col25\" >0</td>\n",
              "                        <td id=\"T_ef314a24_624e_11eb_9457_0242ac1c0002row15_col26\" class=\"data row15 col26\" >0</td>\n",
              "                        <td id=\"T_ef314a24_624e_11eb_9457_0242ac1c0002row15_col27\" class=\"data row15 col27\" >0</td>\n",
              "            </tr>\n",
              "            <tr>\n",
              "                        <th id=\"T_ef314a24_624e_11eb_9457_0242ac1c0002level0_row16\" class=\"row_heading level0 row16\" >16</th>\n",
              "                        <td id=\"T_ef314a24_624e_11eb_9457_0242ac1c0002row16_col0\" class=\"data row16 col0\" >0</td>\n",
              "                        <td id=\"T_ef314a24_624e_11eb_9457_0242ac1c0002row16_col1\" class=\"data row16 col1\" >0</td>\n",
              "                        <td id=\"T_ef314a24_624e_11eb_9457_0242ac1c0002row16_col2\" class=\"data row16 col2\" >0</td>\n",
              "                        <td id=\"T_ef314a24_624e_11eb_9457_0242ac1c0002row16_col3\" class=\"data row16 col3\" >0</td>\n",
              "                        <td id=\"T_ef314a24_624e_11eb_9457_0242ac1c0002row16_col4\" class=\"data row16 col4\" >0</td>\n",
              "                        <td id=\"T_ef314a24_624e_11eb_9457_0242ac1c0002row16_col5\" class=\"data row16 col5\" >0</td>\n",
              "                        <td id=\"T_ef314a24_624e_11eb_9457_0242ac1c0002row16_col6\" class=\"data row16 col6\" >85</td>\n",
              "                        <td id=\"T_ef314a24_624e_11eb_9457_0242ac1c0002row16_col7\" class=\"data row16 col7\" >252</td>\n",
              "                        <td id=\"T_ef314a24_624e_11eb_9457_0242ac1c0002row16_col8\" class=\"data row16 col8\" >230</td>\n",
              "                        <td id=\"T_ef314a24_624e_11eb_9457_0242ac1c0002row16_col9\" class=\"data row16 col9\" >25</td>\n",
              "                        <td id=\"T_ef314a24_624e_11eb_9457_0242ac1c0002row16_col10\" class=\"data row16 col10\" >0</td>\n",
              "                        <td id=\"T_ef314a24_624e_11eb_9457_0242ac1c0002row16_col11\" class=\"data row16 col11\" >0</td>\n",
              "                        <td id=\"T_ef314a24_624e_11eb_9457_0242ac1c0002row16_col12\" class=\"data row16 col12\" >0</td>\n",
              "                        <td id=\"T_ef314a24_624e_11eb_9457_0242ac1c0002row16_col13\" class=\"data row16 col13\" >0</td>\n",
              "                        <td id=\"T_ef314a24_624e_11eb_9457_0242ac1c0002row16_col14\" class=\"data row16 col14\" >0</td>\n",
              "                        <td id=\"T_ef314a24_624e_11eb_9457_0242ac1c0002row16_col15\" class=\"data row16 col15\" >0</td>\n",
              "                        <td id=\"T_ef314a24_624e_11eb_9457_0242ac1c0002row16_col16\" class=\"data row16 col16\" >0</td>\n",
              "                        <td id=\"T_ef314a24_624e_11eb_9457_0242ac1c0002row16_col17\" class=\"data row16 col17\" >0</td>\n",
              "                        <td id=\"T_ef314a24_624e_11eb_9457_0242ac1c0002row16_col18\" class=\"data row16 col18\" >7</td>\n",
              "                        <td id=\"T_ef314a24_624e_11eb_9457_0242ac1c0002row16_col19\" class=\"data row16 col19\" >135</td>\n",
              "                        <td id=\"T_ef314a24_624e_11eb_9457_0242ac1c0002row16_col20\" class=\"data row16 col20\" >253</td>\n",
              "                        <td id=\"T_ef314a24_624e_11eb_9457_0242ac1c0002row16_col21\" class=\"data row16 col21\" >186</td>\n",
              "                        <td id=\"T_ef314a24_624e_11eb_9457_0242ac1c0002row16_col22\" class=\"data row16 col22\" >12</td>\n",
              "                        <td id=\"T_ef314a24_624e_11eb_9457_0242ac1c0002row16_col23\" class=\"data row16 col23\" >0</td>\n",
              "                        <td id=\"T_ef314a24_624e_11eb_9457_0242ac1c0002row16_col24\" class=\"data row16 col24\" >0</td>\n",
              "                        <td id=\"T_ef314a24_624e_11eb_9457_0242ac1c0002row16_col25\" class=\"data row16 col25\" >0</td>\n",
              "                        <td id=\"T_ef314a24_624e_11eb_9457_0242ac1c0002row16_col26\" class=\"data row16 col26\" >0</td>\n",
              "                        <td id=\"T_ef314a24_624e_11eb_9457_0242ac1c0002row16_col27\" class=\"data row16 col27\" >0</td>\n",
              "            </tr>\n",
              "            <tr>\n",
              "                        <th id=\"T_ef314a24_624e_11eb_9457_0242ac1c0002level0_row17\" class=\"row_heading level0 row17\" >17</th>\n",
              "                        <td id=\"T_ef314a24_624e_11eb_9457_0242ac1c0002row17_col0\" class=\"data row17 col0\" >0</td>\n",
              "                        <td id=\"T_ef314a24_624e_11eb_9457_0242ac1c0002row17_col1\" class=\"data row17 col1\" >0</td>\n",
              "                        <td id=\"T_ef314a24_624e_11eb_9457_0242ac1c0002row17_col2\" class=\"data row17 col2\" >0</td>\n",
              "                        <td id=\"T_ef314a24_624e_11eb_9457_0242ac1c0002row17_col3\" class=\"data row17 col3\" >0</td>\n",
              "                        <td id=\"T_ef314a24_624e_11eb_9457_0242ac1c0002row17_col4\" class=\"data row17 col4\" >0</td>\n",
              "                        <td id=\"T_ef314a24_624e_11eb_9457_0242ac1c0002row17_col5\" class=\"data row17 col5\" >0</td>\n",
              "                        <td id=\"T_ef314a24_624e_11eb_9457_0242ac1c0002row17_col6\" class=\"data row17 col6\" >85</td>\n",
              "                        <td id=\"T_ef314a24_624e_11eb_9457_0242ac1c0002row17_col7\" class=\"data row17 col7\" >252</td>\n",
              "                        <td id=\"T_ef314a24_624e_11eb_9457_0242ac1c0002row17_col8\" class=\"data row17 col8\" >223</td>\n",
              "                        <td id=\"T_ef314a24_624e_11eb_9457_0242ac1c0002row17_col9\" class=\"data row17 col9\" >0</td>\n",
              "                        <td id=\"T_ef314a24_624e_11eb_9457_0242ac1c0002row17_col10\" class=\"data row17 col10\" >0</td>\n",
              "                        <td id=\"T_ef314a24_624e_11eb_9457_0242ac1c0002row17_col11\" class=\"data row17 col11\" >0</td>\n",
              "                        <td id=\"T_ef314a24_624e_11eb_9457_0242ac1c0002row17_col12\" class=\"data row17 col12\" >0</td>\n",
              "                        <td id=\"T_ef314a24_624e_11eb_9457_0242ac1c0002row17_col13\" class=\"data row17 col13\" >0</td>\n",
              "                        <td id=\"T_ef314a24_624e_11eb_9457_0242ac1c0002row17_col14\" class=\"data row17 col14\" >0</td>\n",
              "                        <td id=\"T_ef314a24_624e_11eb_9457_0242ac1c0002row17_col15\" class=\"data row17 col15\" >0</td>\n",
              "                        <td id=\"T_ef314a24_624e_11eb_9457_0242ac1c0002row17_col16\" class=\"data row17 col16\" >0</td>\n",
              "                        <td id=\"T_ef314a24_624e_11eb_9457_0242ac1c0002row17_col17\" class=\"data row17 col17\" >7</td>\n",
              "                        <td id=\"T_ef314a24_624e_11eb_9457_0242ac1c0002row17_col18\" class=\"data row17 col18\" >131</td>\n",
              "                        <td id=\"T_ef314a24_624e_11eb_9457_0242ac1c0002row17_col19\" class=\"data row17 col19\" >252</td>\n",
              "                        <td id=\"T_ef314a24_624e_11eb_9457_0242ac1c0002row17_col20\" class=\"data row17 col20\" >225</td>\n",
              "                        <td id=\"T_ef314a24_624e_11eb_9457_0242ac1c0002row17_col21\" class=\"data row17 col21\" >71</td>\n",
              "                        <td id=\"T_ef314a24_624e_11eb_9457_0242ac1c0002row17_col22\" class=\"data row17 col22\" >0</td>\n",
              "                        <td id=\"T_ef314a24_624e_11eb_9457_0242ac1c0002row17_col23\" class=\"data row17 col23\" >0</td>\n",
              "                        <td id=\"T_ef314a24_624e_11eb_9457_0242ac1c0002row17_col24\" class=\"data row17 col24\" >0</td>\n",
              "                        <td id=\"T_ef314a24_624e_11eb_9457_0242ac1c0002row17_col25\" class=\"data row17 col25\" >0</td>\n",
              "                        <td id=\"T_ef314a24_624e_11eb_9457_0242ac1c0002row17_col26\" class=\"data row17 col26\" >0</td>\n",
              "                        <td id=\"T_ef314a24_624e_11eb_9457_0242ac1c0002row17_col27\" class=\"data row17 col27\" >0</td>\n",
              "            </tr>\n",
              "            <tr>\n",
              "                        <th id=\"T_ef314a24_624e_11eb_9457_0242ac1c0002level0_row18\" class=\"row_heading level0 row18\" >18</th>\n",
              "                        <td id=\"T_ef314a24_624e_11eb_9457_0242ac1c0002row18_col0\" class=\"data row18 col0\" >0</td>\n",
              "                        <td id=\"T_ef314a24_624e_11eb_9457_0242ac1c0002row18_col1\" class=\"data row18 col1\" >0</td>\n",
              "                        <td id=\"T_ef314a24_624e_11eb_9457_0242ac1c0002row18_col2\" class=\"data row18 col2\" >0</td>\n",
              "                        <td id=\"T_ef314a24_624e_11eb_9457_0242ac1c0002row18_col3\" class=\"data row18 col3\" >0</td>\n",
              "                        <td id=\"T_ef314a24_624e_11eb_9457_0242ac1c0002row18_col4\" class=\"data row18 col4\" >0</td>\n",
              "                        <td id=\"T_ef314a24_624e_11eb_9457_0242ac1c0002row18_col5\" class=\"data row18 col5\" >0</td>\n",
              "                        <td id=\"T_ef314a24_624e_11eb_9457_0242ac1c0002row18_col6\" class=\"data row18 col6\" >85</td>\n",
              "                        <td id=\"T_ef314a24_624e_11eb_9457_0242ac1c0002row18_col7\" class=\"data row18 col7\" >252</td>\n",
              "                        <td id=\"T_ef314a24_624e_11eb_9457_0242ac1c0002row18_col8\" class=\"data row18 col8\" >145</td>\n",
              "                        <td id=\"T_ef314a24_624e_11eb_9457_0242ac1c0002row18_col9\" class=\"data row18 col9\" >0</td>\n",
              "                        <td id=\"T_ef314a24_624e_11eb_9457_0242ac1c0002row18_col10\" class=\"data row18 col10\" >0</td>\n",
              "                        <td id=\"T_ef314a24_624e_11eb_9457_0242ac1c0002row18_col11\" class=\"data row18 col11\" >0</td>\n",
              "                        <td id=\"T_ef314a24_624e_11eb_9457_0242ac1c0002row18_col12\" class=\"data row18 col12\" >0</td>\n",
              "                        <td id=\"T_ef314a24_624e_11eb_9457_0242ac1c0002row18_col13\" class=\"data row18 col13\" >0</td>\n",
              "                        <td id=\"T_ef314a24_624e_11eb_9457_0242ac1c0002row18_col14\" class=\"data row18 col14\" >0</td>\n",
              "                        <td id=\"T_ef314a24_624e_11eb_9457_0242ac1c0002row18_col15\" class=\"data row18 col15\" >0</td>\n",
              "                        <td id=\"T_ef314a24_624e_11eb_9457_0242ac1c0002row18_col16\" class=\"data row18 col16\" >48</td>\n",
              "                        <td id=\"T_ef314a24_624e_11eb_9457_0242ac1c0002row18_col17\" class=\"data row18 col17\" >165</td>\n",
              "                        <td id=\"T_ef314a24_624e_11eb_9457_0242ac1c0002row18_col18\" class=\"data row18 col18\" >252</td>\n",
              "                        <td id=\"T_ef314a24_624e_11eb_9457_0242ac1c0002row18_col19\" class=\"data row18 col19\" >173</td>\n",
              "                        <td id=\"T_ef314a24_624e_11eb_9457_0242ac1c0002row18_col20\" class=\"data row18 col20\" >0</td>\n",
              "                        <td id=\"T_ef314a24_624e_11eb_9457_0242ac1c0002row18_col21\" class=\"data row18 col21\" >0</td>\n",
              "                        <td id=\"T_ef314a24_624e_11eb_9457_0242ac1c0002row18_col22\" class=\"data row18 col22\" >0</td>\n",
              "                        <td id=\"T_ef314a24_624e_11eb_9457_0242ac1c0002row18_col23\" class=\"data row18 col23\" >0</td>\n",
              "                        <td id=\"T_ef314a24_624e_11eb_9457_0242ac1c0002row18_col24\" class=\"data row18 col24\" >0</td>\n",
              "                        <td id=\"T_ef314a24_624e_11eb_9457_0242ac1c0002row18_col25\" class=\"data row18 col25\" >0</td>\n",
              "                        <td id=\"T_ef314a24_624e_11eb_9457_0242ac1c0002row18_col26\" class=\"data row18 col26\" >0</td>\n",
              "                        <td id=\"T_ef314a24_624e_11eb_9457_0242ac1c0002row18_col27\" class=\"data row18 col27\" >0</td>\n",
              "            </tr>\n",
              "            <tr>\n",
              "                        <th id=\"T_ef314a24_624e_11eb_9457_0242ac1c0002level0_row19\" class=\"row_heading level0 row19\" >19</th>\n",
              "                        <td id=\"T_ef314a24_624e_11eb_9457_0242ac1c0002row19_col0\" class=\"data row19 col0\" >0</td>\n",
              "                        <td id=\"T_ef314a24_624e_11eb_9457_0242ac1c0002row19_col1\" class=\"data row19 col1\" >0</td>\n",
              "                        <td id=\"T_ef314a24_624e_11eb_9457_0242ac1c0002row19_col2\" class=\"data row19 col2\" >0</td>\n",
              "                        <td id=\"T_ef314a24_624e_11eb_9457_0242ac1c0002row19_col3\" class=\"data row19 col3\" >0</td>\n",
              "                        <td id=\"T_ef314a24_624e_11eb_9457_0242ac1c0002row19_col4\" class=\"data row19 col4\" >0</td>\n",
              "                        <td id=\"T_ef314a24_624e_11eb_9457_0242ac1c0002row19_col5\" class=\"data row19 col5\" >0</td>\n",
              "                        <td id=\"T_ef314a24_624e_11eb_9457_0242ac1c0002row19_col6\" class=\"data row19 col6\" >86</td>\n",
              "                        <td id=\"T_ef314a24_624e_11eb_9457_0242ac1c0002row19_col7\" class=\"data row19 col7\" >253</td>\n",
              "                        <td id=\"T_ef314a24_624e_11eb_9457_0242ac1c0002row19_col8\" class=\"data row19 col8\" >225</td>\n",
              "                        <td id=\"T_ef314a24_624e_11eb_9457_0242ac1c0002row19_col9\" class=\"data row19 col9\" >0</td>\n",
              "                        <td id=\"T_ef314a24_624e_11eb_9457_0242ac1c0002row19_col10\" class=\"data row19 col10\" >0</td>\n",
              "                        <td id=\"T_ef314a24_624e_11eb_9457_0242ac1c0002row19_col11\" class=\"data row19 col11\" >0</td>\n",
              "                        <td id=\"T_ef314a24_624e_11eb_9457_0242ac1c0002row19_col12\" class=\"data row19 col12\" >0</td>\n",
              "                        <td id=\"T_ef314a24_624e_11eb_9457_0242ac1c0002row19_col13\" class=\"data row19 col13\" >0</td>\n",
              "                        <td id=\"T_ef314a24_624e_11eb_9457_0242ac1c0002row19_col14\" class=\"data row19 col14\" >0</td>\n",
              "                        <td id=\"T_ef314a24_624e_11eb_9457_0242ac1c0002row19_col15\" class=\"data row19 col15\" >114</td>\n",
              "                        <td id=\"T_ef314a24_624e_11eb_9457_0242ac1c0002row19_col16\" class=\"data row19 col16\" >238</td>\n",
              "                        <td id=\"T_ef314a24_624e_11eb_9457_0242ac1c0002row19_col17\" class=\"data row19 col17\" >253</td>\n",
              "                        <td id=\"T_ef314a24_624e_11eb_9457_0242ac1c0002row19_col18\" class=\"data row19 col18\" >162</td>\n",
              "                        <td id=\"T_ef314a24_624e_11eb_9457_0242ac1c0002row19_col19\" class=\"data row19 col19\" >0</td>\n",
              "                        <td id=\"T_ef314a24_624e_11eb_9457_0242ac1c0002row19_col20\" class=\"data row19 col20\" >0</td>\n",
              "                        <td id=\"T_ef314a24_624e_11eb_9457_0242ac1c0002row19_col21\" class=\"data row19 col21\" >0</td>\n",
              "                        <td id=\"T_ef314a24_624e_11eb_9457_0242ac1c0002row19_col22\" class=\"data row19 col22\" >0</td>\n",
              "                        <td id=\"T_ef314a24_624e_11eb_9457_0242ac1c0002row19_col23\" class=\"data row19 col23\" >0</td>\n",
              "                        <td id=\"T_ef314a24_624e_11eb_9457_0242ac1c0002row19_col24\" class=\"data row19 col24\" >0</td>\n",
              "                        <td id=\"T_ef314a24_624e_11eb_9457_0242ac1c0002row19_col25\" class=\"data row19 col25\" >0</td>\n",
              "                        <td id=\"T_ef314a24_624e_11eb_9457_0242ac1c0002row19_col26\" class=\"data row19 col26\" >0</td>\n",
              "                        <td id=\"T_ef314a24_624e_11eb_9457_0242ac1c0002row19_col27\" class=\"data row19 col27\" >0</td>\n",
              "            </tr>\n",
              "            <tr>\n",
              "                        <th id=\"T_ef314a24_624e_11eb_9457_0242ac1c0002level0_row20\" class=\"row_heading level0 row20\" >20</th>\n",
              "                        <td id=\"T_ef314a24_624e_11eb_9457_0242ac1c0002row20_col0\" class=\"data row20 col0\" >0</td>\n",
              "                        <td id=\"T_ef314a24_624e_11eb_9457_0242ac1c0002row20_col1\" class=\"data row20 col1\" >0</td>\n",
              "                        <td id=\"T_ef314a24_624e_11eb_9457_0242ac1c0002row20_col2\" class=\"data row20 col2\" >0</td>\n",
              "                        <td id=\"T_ef314a24_624e_11eb_9457_0242ac1c0002row20_col3\" class=\"data row20 col3\" >0</td>\n",
              "                        <td id=\"T_ef314a24_624e_11eb_9457_0242ac1c0002row20_col4\" class=\"data row20 col4\" >0</td>\n",
              "                        <td id=\"T_ef314a24_624e_11eb_9457_0242ac1c0002row20_col5\" class=\"data row20 col5\" >0</td>\n",
              "                        <td id=\"T_ef314a24_624e_11eb_9457_0242ac1c0002row20_col6\" class=\"data row20 col6\" >85</td>\n",
              "                        <td id=\"T_ef314a24_624e_11eb_9457_0242ac1c0002row20_col7\" class=\"data row20 col7\" >252</td>\n",
              "                        <td id=\"T_ef314a24_624e_11eb_9457_0242ac1c0002row20_col8\" class=\"data row20 col8\" >249</td>\n",
              "                        <td id=\"T_ef314a24_624e_11eb_9457_0242ac1c0002row20_col9\" class=\"data row20 col9\" >146</td>\n",
              "                        <td id=\"T_ef314a24_624e_11eb_9457_0242ac1c0002row20_col10\" class=\"data row20 col10\" >48</td>\n",
              "                        <td id=\"T_ef314a24_624e_11eb_9457_0242ac1c0002row20_col11\" class=\"data row20 col11\" >29</td>\n",
              "                        <td id=\"T_ef314a24_624e_11eb_9457_0242ac1c0002row20_col12\" class=\"data row20 col12\" >85</td>\n",
              "                        <td id=\"T_ef314a24_624e_11eb_9457_0242ac1c0002row20_col13\" class=\"data row20 col13\" >178</td>\n",
              "                        <td id=\"T_ef314a24_624e_11eb_9457_0242ac1c0002row20_col14\" class=\"data row20 col14\" >225</td>\n",
              "                        <td id=\"T_ef314a24_624e_11eb_9457_0242ac1c0002row20_col15\" class=\"data row20 col15\" >253</td>\n",
              "                        <td id=\"T_ef314a24_624e_11eb_9457_0242ac1c0002row20_col16\" class=\"data row20 col16\" >223</td>\n",
              "                        <td id=\"T_ef314a24_624e_11eb_9457_0242ac1c0002row20_col17\" class=\"data row20 col17\" >167</td>\n",
              "                        <td id=\"T_ef314a24_624e_11eb_9457_0242ac1c0002row20_col18\" class=\"data row20 col18\" >56</td>\n",
              "                        <td id=\"T_ef314a24_624e_11eb_9457_0242ac1c0002row20_col19\" class=\"data row20 col19\" >0</td>\n",
              "                        <td id=\"T_ef314a24_624e_11eb_9457_0242ac1c0002row20_col20\" class=\"data row20 col20\" >0</td>\n",
              "                        <td id=\"T_ef314a24_624e_11eb_9457_0242ac1c0002row20_col21\" class=\"data row20 col21\" >0</td>\n",
              "                        <td id=\"T_ef314a24_624e_11eb_9457_0242ac1c0002row20_col22\" class=\"data row20 col22\" >0</td>\n",
              "                        <td id=\"T_ef314a24_624e_11eb_9457_0242ac1c0002row20_col23\" class=\"data row20 col23\" >0</td>\n",
              "                        <td id=\"T_ef314a24_624e_11eb_9457_0242ac1c0002row20_col24\" class=\"data row20 col24\" >0</td>\n",
              "                        <td id=\"T_ef314a24_624e_11eb_9457_0242ac1c0002row20_col25\" class=\"data row20 col25\" >0</td>\n",
              "                        <td id=\"T_ef314a24_624e_11eb_9457_0242ac1c0002row20_col26\" class=\"data row20 col26\" >0</td>\n",
              "                        <td id=\"T_ef314a24_624e_11eb_9457_0242ac1c0002row20_col27\" class=\"data row20 col27\" >0</td>\n",
              "            </tr>\n",
              "            <tr>\n",
              "                        <th id=\"T_ef314a24_624e_11eb_9457_0242ac1c0002level0_row21\" class=\"row_heading level0 row21\" >21</th>\n",
              "                        <td id=\"T_ef314a24_624e_11eb_9457_0242ac1c0002row21_col0\" class=\"data row21 col0\" >0</td>\n",
              "                        <td id=\"T_ef314a24_624e_11eb_9457_0242ac1c0002row21_col1\" class=\"data row21 col1\" >0</td>\n",
              "                        <td id=\"T_ef314a24_624e_11eb_9457_0242ac1c0002row21_col2\" class=\"data row21 col2\" >0</td>\n",
              "                        <td id=\"T_ef314a24_624e_11eb_9457_0242ac1c0002row21_col3\" class=\"data row21 col3\" >0</td>\n",
              "                        <td id=\"T_ef314a24_624e_11eb_9457_0242ac1c0002row21_col4\" class=\"data row21 col4\" >0</td>\n",
              "                        <td id=\"T_ef314a24_624e_11eb_9457_0242ac1c0002row21_col5\" class=\"data row21 col5\" >0</td>\n",
              "                        <td id=\"T_ef314a24_624e_11eb_9457_0242ac1c0002row21_col6\" class=\"data row21 col6\" >85</td>\n",
              "                        <td id=\"T_ef314a24_624e_11eb_9457_0242ac1c0002row21_col7\" class=\"data row21 col7\" >252</td>\n",
              "                        <td id=\"T_ef314a24_624e_11eb_9457_0242ac1c0002row21_col8\" class=\"data row21 col8\" >252</td>\n",
              "                        <td id=\"T_ef314a24_624e_11eb_9457_0242ac1c0002row21_col9\" class=\"data row21 col9\" >252</td>\n",
              "                        <td id=\"T_ef314a24_624e_11eb_9457_0242ac1c0002row21_col10\" class=\"data row21 col10\" >229</td>\n",
              "                        <td id=\"T_ef314a24_624e_11eb_9457_0242ac1c0002row21_col11\" class=\"data row21 col11\" >215</td>\n",
              "                        <td id=\"T_ef314a24_624e_11eb_9457_0242ac1c0002row21_col12\" class=\"data row21 col12\" >252</td>\n",
              "                        <td id=\"T_ef314a24_624e_11eb_9457_0242ac1c0002row21_col13\" class=\"data row21 col13\" >252</td>\n",
              "                        <td id=\"T_ef314a24_624e_11eb_9457_0242ac1c0002row21_col14\" class=\"data row21 col14\" >252</td>\n",
              "                        <td id=\"T_ef314a24_624e_11eb_9457_0242ac1c0002row21_col15\" class=\"data row21 col15\" >196</td>\n",
              "                        <td id=\"T_ef314a24_624e_11eb_9457_0242ac1c0002row21_col16\" class=\"data row21 col16\" >130</td>\n",
              "                        <td id=\"T_ef314a24_624e_11eb_9457_0242ac1c0002row21_col17\" class=\"data row21 col17\" >0</td>\n",
              "                        <td id=\"T_ef314a24_624e_11eb_9457_0242ac1c0002row21_col18\" class=\"data row21 col18\" >0</td>\n",
              "                        <td id=\"T_ef314a24_624e_11eb_9457_0242ac1c0002row21_col19\" class=\"data row21 col19\" >0</td>\n",
              "                        <td id=\"T_ef314a24_624e_11eb_9457_0242ac1c0002row21_col20\" class=\"data row21 col20\" >0</td>\n",
              "                        <td id=\"T_ef314a24_624e_11eb_9457_0242ac1c0002row21_col21\" class=\"data row21 col21\" >0</td>\n",
              "                        <td id=\"T_ef314a24_624e_11eb_9457_0242ac1c0002row21_col22\" class=\"data row21 col22\" >0</td>\n",
              "                        <td id=\"T_ef314a24_624e_11eb_9457_0242ac1c0002row21_col23\" class=\"data row21 col23\" >0</td>\n",
              "                        <td id=\"T_ef314a24_624e_11eb_9457_0242ac1c0002row21_col24\" class=\"data row21 col24\" >0</td>\n",
              "                        <td id=\"T_ef314a24_624e_11eb_9457_0242ac1c0002row21_col25\" class=\"data row21 col25\" >0</td>\n",
              "                        <td id=\"T_ef314a24_624e_11eb_9457_0242ac1c0002row21_col26\" class=\"data row21 col26\" >0</td>\n",
              "                        <td id=\"T_ef314a24_624e_11eb_9457_0242ac1c0002row21_col27\" class=\"data row21 col27\" >0</td>\n",
              "            </tr>\n",
              "            <tr>\n",
              "                        <th id=\"T_ef314a24_624e_11eb_9457_0242ac1c0002level0_row22\" class=\"row_heading level0 row22\" >22</th>\n",
              "                        <td id=\"T_ef314a24_624e_11eb_9457_0242ac1c0002row22_col0\" class=\"data row22 col0\" >0</td>\n",
              "                        <td id=\"T_ef314a24_624e_11eb_9457_0242ac1c0002row22_col1\" class=\"data row22 col1\" >0</td>\n",
              "                        <td id=\"T_ef314a24_624e_11eb_9457_0242ac1c0002row22_col2\" class=\"data row22 col2\" >0</td>\n",
              "                        <td id=\"T_ef314a24_624e_11eb_9457_0242ac1c0002row22_col3\" class=\"data row22 col3\" >0</td>\n",
              "                        <td id=\"T_ef314a24_624e_11eb_9457_0242ac1c0002row22_col4\" class=\"data row22 col4\" >0</td>\n",
              "                        <td id=\"T_ef314a24_624e_11eb_9457_0242ac1c0002row22_col5\" class=\"data row22 col5\" >0</td>\n",
              "                        <td id=\"T_ef314a24_624e_11eb_9457_0242ac1c0002row22_col6\" class=\"data row22 col6\" >28</td>\n",
              "                        <td id=\"T_ef314a24_624e_11eb_9457_0242ac1c0002row22_col7\" class=\"data row22 col7\" >199</td>\n",
              "                        <td id=\"T_ef314a24_624e_11eb_9457_0242ac1c0002row22_col8\" class=\"data row22 col8\" >252</td>\n",
              "                        <td id=\"T_ef314a24_624e_11eb_9457_0242ac1c0002row22_col9\" class=\"data row22 col9\" >252</td>\n",
              "                        <td id=\"T_ef314a24_624e_11eb_9457_0242ac1c0002row22_col10\" class=\"data row22 col10\" >253</td>\n",
              "                        <td id=\"T_ef314a24_624e_11eb_9457_0242ac1c0002row22_col11\" class=\"data row22 col11\" >252</td>\n",
              "                        <td id=\"T_ef314a24_624e_11eb_9457_0242ac1c0002row22_col12\" class=\"data row22 col12\" >252</td>\n",
              "                        <td id=\"T_ef314a24_624e_11eb_9457_0242ac1c0002row22_col13\" class=\"data row22 col13\" >233</td>\n",
              "                        <td id=\"T_ef314a24_624e_11eb_9457_0242ac1c0002row22_col14\" class=\"data row22 col14\" >145</td>\n",
              "                        <td id=\"T_ef314a24_624e_11eb_9457_0242ac1c0002row22_col15\" class=\"data row22 col15\" >0</td>\n",
              "                        <td id=\"T_ef314a24_624e_11eb_9457_0242ac1c0002row22_col16\" class=\"data row22 col16\" >0</td>\n",
              "                        <td id=\"T_ef314a24_624e_11eb_9457_0242ac1c0002row22_col17\" class=\"data row22 col17\" >0</td>\n",
              "                        <td id=\"T_ef314a24_624e_11eb_9457_0242ac1c0002row22_col18\" class=\"data row22 col18\" >0</td>\n",
              "                        <td id=\"T_ef314a24_624e_11eb_9457_0242ac1c0002row22_col19\" class=\"data row22 col19\" >0</td>\n",
              "                        <td id=\"T_ef314a24_624e_11eb_9457_0242ac1c0002row22_col20\" class=\"data row22 col20\" >0</td>\n",
              "                        <td id=\"T_ef314a24_624e_11eb_9457_0242ac1c0002row22_col21\" class=\"data row22 col21\" >0</td>\n",
              "                        <td id=\"T_ef314a24_624e_11eb_9457_0242ac1c0002row22_col22\" class=\"data row22 col22\" >0</td>\n",
              "                        <td id=\"T_ef314a24_624e_11eb_9457_0242ac1c0002row22_col23\" class=\"data row22 col23\" >0</td>\n",
              "                        <td id=\"T_ef314a24_624e_11eb_9457_0242ac1c0002row22_col24\" class=\"data row22 col24\" >0</td>\n",
              "                        <td id=\"T_ef314a24_624e_11eb_9457_0242ac1c0002row22_col25\" class=\"data row22 col25\" >0</td>\n",
              "                        <td id=\"T_ef314a24_624e_11eb_9457_0242ac1c0002row22_col26\" class=\"data row22 col26\" >0</td>\n",
              "                        <td id=\"T_ef314a24_624e_11eb_9457_0242ac1c0002row22_col27\" class=\"data row22 col27\" >0</td>\n",
              "            </tr>\n",
              "            <tr>\n",
              "                        <th id=\"T_ef314a24_624e_11eb_9457_0242ac1c0002level0_row23\" class=\"row_heading level0 row23\" >23</th>\n",
              "                        <td id=\"T_ef314a24_624e_11eb_9457_0242ac1c0002row23_col0\" class=\"data row23 col0\" >0</td>\n",
              "                        <td id=\"T_ef314a24_624e_11eb_9457_0242ac1c0002row23_col1\" class=\"data row23 col1\" >0</td>\n",
              "                        <td id=\"T_ef314a24_624e_11eb_9457_0242ac1c0002row23_col2\" class=\"data row23 col2\" >0</td>\n",
              "                        <td id=\"T_ef314a24_624e_11eb_9457_0242ac1c0002row23_col3\" class=\"data row23 col3\" >0</td>\n",
              "                        <td id=\"T_ef314a24_624e_11eb_9457_0242ac1c0002row23_col4\" class=\"data row23 col4\" >0</td>\n",
              "                        <td id=\"T_ef314a24_624e_11eb_9457_0242ac1c0002row23_col5\" class=\"data row23 col5\" >0</td>\n",
              "                        <td id=\"T_ef314a24_624e_11eb_9457_0242ac1c0002row23_col6\" class=\"data row23 col6\" >0</td>\n",
              "                        <td id=\"T_ef314a24_624e_11eb_9457_0242ac1c0002row23_col7\" class=\"data row23 col7\" >25</td>\n",
              "                        <td id=\"T_ef314a24_624e_11eb_9457_0242ac1c0002row23_col8\" class=\"data row23 col8\" >128</td>\n",
              "                        <td id=\"T_ef314a24_624e_11eb_9457_0242ac1c0002row23_col9\" class=\"data row23 col9\" >252</td>\n",
              "                        <td id=\"T_ef314a24_624e_11eb_9457_0242ac1c0002row23_col10\" class=\"data row23 col10\" >253</td>\n",
              "                        <td id=\"T_ef314a24_624e_11eb_9457_0242ac1c0002row23_col11\" class=\"data row23 col11\" >252</td>\n",
              "                        <td id=\"T_ef314a24_624e_11eb_9457_0242ac1c0002row23_col12\" class=\"data row23 col12\" >141</td>\n",
              "                        <td id=\"T_ef314a24_624e_11eb_9457_0242ac1c0002row23_col13\" class=\"data row23 col13\" >37</td>\n",
              "                        <td id=\"T_ef314a24_624e_11eb_9457_0242ac1c0002row23_col14\" class=\"data row23 col14\" >0</td>\n",
              "                        <td id=\"T_ef314a24_624e_11eb_9457_0242ac1c0002row23_col15\" class=\"data row23 col15\" >0</td>\n",
              "                        <td id=\"T_ef314a24_624e_11eb_9457_0242ac1c0002row23_col16\" class=\"data row23 col16\" >0</td>\n",
              "                        <td id=\"T_ef314a24_624e_11eb_9457_0242ac1c0002row23_col17\" class=\"data row23 col17\" >0</td>\n",
              "                        <td id=\"T_ef314a24_624e_11eb_9457_0242ac1c0002row23_col18\" class=\"data row23 col18\" >0</td>\n",
              "                        <td id=\"T_ef314a24_624e_11eb_9457_0242ac1c0002row23_col19\" class=\"data row23 col19\" >0</td>\n",
              "                        <td id=\"T_ef314a24_624e_11eb_9457_0242ac1c0002row23_col20\" class=\"data row23 col20\" >0</td>\n",
              "                        <td id=\"T_ef314a24_624e_11eb_9457_0242ac1c0002row23_col21\" class=\"data row23 col21\" >0</td>\n",
              "                        <td id=\"T_ef314a24_624e_11eb_9457_0242ac1c0002row23_col22\" class=\"data row23 col22\" >0</td>\n",
              "                        <td id=\"T_ef314a24_624e_11eb_9457_0242ac1c0002row23_col23\" class=\"data row23 col23\" >0</td>\n",
              "                        <td id=\"T_ef314a24_624e_11eb_9457_0242ac1c0002row23_col24\" class=\"data row23 col24\" >0</td>\n",
              "                        <td id=\"T_ef314a24_624e_11eb_9457_0242ac1c0002row23_col25\" class=\"data row23 col25\" >0</td>\n",
              "                        <td id=\"T_ef314a24_624e_11eb_9457_0242ac1c0002row23_col26\" class=\"data row23 col26\" >0</td>\n",
              "                        <td id=\"T_ef314a24_624e_11eb_9457_0242ac1c0002row23_col27\" class=\"data row23 col27\" >0</td>\n",
              "            </tr>\n",
              "            <tr>\n",
              "                        <th id=\"T_ef314a24_624e_11eb_9457_0242ac1c0002level0_row24\" class=\"row_heading level0 row24\" >24</th>\n",
              "                        <td id=\"T_ef314a24_624e_11eb_9457_0242ac1c0002row24_col0\" class=\"data row24 col0\" >0</td>\n",
              "                        <td id=\"T_ef314a24_624e_11eb_9457_0242ac1c0002row24_col1\" class=\"data row24 col1\" >0</td>\n",
              "                        <td id=\"T_ef314a24_624e_11eb_9457_0242ac1c0002row24_col2\" class=\"data row24 col2\" >0</td>\n",
              "                        <td id=\"T_ef314a24_624e_11eb_9457_0242ac1c0002row24_col3\" class=\"data row24 col3\" >0</td>\n",
              "                        <td id=\"T_ef314a24_624e_11eb_9457_0242ac1c0002row24_col4\" class=\"data row24 col4\" >0</td>\n",
              "                        <td id=\"T_ef314a24_624e_11eb_9457_0242ac1c0002row24_col5\" class=\"data row24 col5\" >0</td>\n",
              "                        <td id=\"T_ef314a24_624e_11eb_9457_0242ac1c0002row24_col6\" class=\"data row24 col6\" >0</td>\n",
              "                        <td id=\"T_ef314a24_624e_11eb_9457_0242ac1c0002row24_col7\" class=\"data row24 col7\" >0</td>\n",
              "                        <td id=\"T_ef314a24_624e_11eb_9457_0242ac1c0002row24_col8\" class=\"data row24 col8\" >0</td>\n",
              "                        <td id=\"T_ef314a24_624e_11eb_9457_0242ac1c0002row24_col9\" class=\"data row24 col9\" >0</td>\n",
              "                        <td id=\"T_ef314a24_624e_11eb_9457_0242ac1c0002row24_col10\" class=\"data row24 col10\" >0</td>\n",
              "                        <td id=\"T_ef314a24_624e_11eb_9457_0242ac1c0002row24_col11\" class=\"data row24 col11\" >0</td>\n",
              "                        <td id=\"T_ef314a24_624e_11eb_9457_0242ac1c0002row24_col12\" class=\"data row24 col12\" >0</td>\n",
              "                        <td id=\"T_ef314a24_624e_11eb_9457_0242ac1c0002row24_col13\" class=\"data row24 col13\" >0</td>\n",
              "                        <td id=\"T_ef314a24_624e_11eb_9457_0242ac1c0002row24_col14\" class=\"data row24 col14\" >0</td>\n",
              "                        <td id=\"T_ef314a24_624e_11eb_9457_0242ac1c0002row24_col15\" class=\"data row24 col15\" >0</td>\n",
              "                        <td id=\"T_ef314a24_624e_11eb_9457_0242ac1c0002row24_col16\" class=\"data row24 col16\" >0</td>\n",
              "                        <td id=\"T_ef314a24_624e_11eb_9457_0242ac1c0002row24_col17\" class=\"data row24 col17\" >0</td>\n",
              "                        <td id=\"T_ef314a24_624e_11eb_9457_0242ac1c0002row24_col18\" class=\"data row24 col18\" >0</td>\n",
              "                        <td id=\"T_ef314a24_624e_11eb_9457_0242ac1c0002row24_col19\" class=\"data row24 col19\" >0</td>\n",
              "                        <td id=\"T_ef314a24_624e_11eb_9457_0242ac1c0002row24_col20\" class=\"data row24 col20\" >0</td>\n",
              "                        <td id=\"T_ef314a24_624e_11eb_9457_0242ac1c0002row24_col21\" class=\"data row24 col21\" >0</td>\n",
              "                        <td id=\"T_ef314a24_624e_11eb_9457_0242ac1c0002row24_col22\" class=\"data row24 col22\" >0</td>\n",
              "                        <td id=\"T_ef314a24_624e_11eb_9457_0242ac1c0002row24_col23\" class=\"data row24 col23\" >0</td>\n",
              "                        <td id=\"T_ef314a24_624e_11eb_9457_0242ac1c0002row24_col24\" class=\"data row24 col24\" >0</td>\n",
              "                        <td id=\"T_ef314a24_624e_11eb_9457_0242ac1c0002row24_col25\" class=\"data row24 col25\" >0</td>\n",
              "                        <td id=\"T_ef314a24_624e_11eb_9457_0242ac1c0002row24_col26\" class=\"data row24 col26\" >0</td>\n",
              "                        <td id=\"T_ef314a24_624e_11eb_9457_0242ac1c0002row24_col27\" class=\"data row24 col27\" >0</td>\n",
              "            </tr>\n",
              "            <tr>\n",
              "                        <th id=\"T_ef314a24_624e_11eb_9457_0242ac1c0002level0_row25\" class=\"row_heading level0 row25\" >25</th>\n",
              "                        <td id=\"T_ef314a24_624e_11eb_9457_0242ac1c0002row25_col0\" class=\"data row25 col0\" >0</td>\n",
              "                        <td id=\"T_ef314a24_624e_11eb_9457_0242ac1c0002row25_col1\" class=\"data row25 col1\" >0</td>\n",
              "                        <td id=\"T_ef314a24_624e_11eb_9457_0242ac1c0002row25_col2\" class=\"data row25 col2\" >0</td>\n",
              "                        <td id=\"T_ef314a24_624e_11eb_9457_0242ac1c0002row25_col3\" class=\"data row25 col3\" >0</td>\n",
              "                        <td id=\"T_ef314a24_624e_11eb_9457_0242ac1c0002row25_col4\" class=\"data row25 col4\" >0</td>\n",
              "                        <td id=\"T_ef314a24_624e_11eb_9457_0242ac1c0002row25_col5\" class=\"data row25 col5\" >0</td>\n",
              "                        <td id=\"T_ef314a24_624e_11eb_9457_0242ac1c0002row25_col6\" class=\"data row25 col6\" >0</td>\n",
              "                        <td id=\"T_ef314a24_624e_11eb_9457_0242ac1c0002row25_col7\" class=\"data row25 col7\" >0</td>\n",
              "                        <td id=\"T_ef314a24_624e_11eb_9457_0242ac1c0002row25_col8\" class=\"data row25 col8\" >0</td>\n",
              "                        <td id=\"T_ef314a24_624e_11eb_9457_0242ac1c0002row25_col9\" class=\"data row25 col9\" >0</td>\n",
              "                        <td id=\"T_ef314a24_624e_11eb_9457_0242ac1c0002row25_col10\" class=\"data row25 col10\" >0</td>\n",
              "                        <td id=\"T_ef314a24_624e_11eb_9457_0242ac1c0002row25_col11\" class=\"data row25 col11\" >0</td>\n",
              "                        <td id=\"T_ef314a24_624e_11eb_9457_0242ac1c0002row25_col12\" class=\"data row25 col12\" >0</td>\n",
              "                        <td id=\"T_ef314a24_624e_11eb_9457_0242ac1c0002row25_col13\" class=\"data row25 col13\" >0</td>\n",
              "                        <td id=\"T_ef314a24_624e_11eb_9457_0242ac1c0002row25_col14\" class=\"data row25 col14\" >0</td>\n",
              "                        <td id=\"T_ef314a24_624e_11eb_9457_0242ac1c0002row25_col15\" class=\"data row25 col15\" >0</td>\n",
              "                        <td id=\"T_ef314a24_624e_11eb_9457_0242ac1c0002row25_col16\" class=\"data row25 col16\" >0</td>\n",
              "                        <td id=\"T_ef314a24_624e_11eb_9457_0242ac1c0002row25_col17\" class=\"data row25 col17\" >0</td>\n",
              "                        <td id=\"T_ef314a24_624e_11eb_9457_0242ac1c0002row25_col18\" class=\"data row25 col18\" >0</td>\n",
              "                        <td id=\"T_ef314a24_624e_11eb_9457_0242ac1c0002row25_col19\" class=\"data row25 col19\" >0</td>\n",
              "                        <td id=\"T_ef314a24_624e_11eb_9457_0242ac1c0002row25_col20\" class=\"data row25 col20\" >0</td>\n",
              "                        <td id=\"T_ef314a24_624e_11eb_9457_0242ac1c0002row25_col21\" class=\"data row25 col21\" >0</td>\n",
              "                        <td id=\"T_ef314a24_624e_11eb_9457_0242ac1c0002row25_col22\" class=\"data row25 col22\" >0</td>\n",
              "                        <td id=\"T_ef314a24_624e_11eb_9457_0242ac1c0002row25_col23\" class=\"data row25 col23\" >0</td>\n",
              "                        <td id=\"T_ef314a24_624e_11eb_9457_0242ac1c0002row25_col24\" class=\"data row25 col24\" >0</td>\n",
              "                        <td id=\"T_ef314a24_624e_11eb_9457_0242ac1c0002row25_col25\" class=\"data row25 col25\" >0</td>\n",
              "                        <td id=\"T_ef314a24_624e_11eb_9457_0242ac1c0002row25_col26\" class=\"data row25 col26\" >0</td>\n",
              "                        <td id=\"T_ef314a24_624e_11eb_9457_0242ac1c0002row25_col27\" class=\"data row25 col27\" >0</td>\n",
              "            </tr>\n",
              "            <tr>\n",
              "                        <th id=\"T_ef314a24_624e_11eb_9457_0242ac1c0002level0_row26\" class=\"row_heading level0 row26\" >26</th>\n",
              "                        <td id=\"T_ef314a24_624e_11eb_9457_0242ac1c0002row26_col0\" class=\"data row26 col0\" >0</td>\n",
              "                        <td id=\"T_ef314a24_624e_11eb_9457_0242ac1c0002row26_col1\" class=\"data row26 col1\" >0</td>\n",
              "                        <td id=\"T_ef314a24_624e_11eb_9457_0242ac1c0002row26_col2\" class=\"data row26 col2\" >0</td>\n",
              "                        <td id=\"T_ef314a24_624e_11eb_9457_0242ac1c0002row26_col3\" class=\"data row26 col3\" >0</td>\n",
              "                        <td id=\"T_ef314a24_624e_11eb_9457_0242ac1c0002row26_col4\" class=\"data row26 col4\" >0</td>\n",
              "                        <td id=\"T_ef314a24_624e_11eb_9457_0242ac1c0002row26_col5\" class=\"data row26 col5\" >0</td>\n",
              "                        <td id=\"T_ef314a24_624e_11eb_9457_0242ac1c0002row26_col6\" class=\"data row26 col6\" >0</td>\n",
              "                        <td id=\"T_ef314a24_624e_11eb_9457_0242ac1c0002row26_col7\" class=\"data row26 col7\" >0</td>\n",
              "                        <td id=\"T_ef314a24_624e_11eb_9457_0242ac1c0002row26_col8\" class=\"data row26 col8\" >0</td>\n",
              "                        <td id=\"T_ef314a24_624e_11eb_9457_0242ac1c0002row26_col9\" class=\"data row26 col9\" >0</td>\n",
              "                        <td id=\"T_ef314a24_624e_11eb_9457_0242ac1c0002row26_col10\" class=\"data row26 col10\" >0</td>\n",
              "                        <td id=\"T_ef314a24_624e_11eb_9457_0242ac1c0002row26_col11\" class=\"data row26 col11\" >0</td>\n",
              "                        <td id=\"T_ef314a24_624e_11eb_9457_0242ac1c0002row26_col12\" class=\"data row26 col12\" >0</td>\n",
              "                        <td id=\"T_ef314a24_624e_11eb_9457_0242ac1c0002row26_col13\" class=\"data row26 col13\" >0</td>\n",
              "                        <td id=\"T_ef314a24_624e_11eb_9457_0242ac1c0002row26_col14\" class=\"data row26 col14\" >0</td>\n",
              "                        <td id=\"T_ef314a24_624e_11eb_9457_0242ac1c0002row26_col15\" class=\"data row26 col15\" >0</td>\n",
              "                        <td id=\"T_ef314a24_624e_11eb_9457_0242ac1c0002row26_col16\" class=\"data row26 col16\" >0</td>\n",
              "                        <td id=\"T_ef314a24_624e_11eb_9457_0242ac1c0002row26_col17\" class=\"data row26 col17\" >0</td>\n",
              "                        <td id=\"T_ef314a24_624e_11eb_9457_0242ac1c0002row26_col18\" class=\"data row26 col18\" >0</td>\n",
              "                        <td id=\"T_ef314a24_624e_11eb_9457_0242ac1c0002row26_col19\" class=\"data row26 col19\" >0</td>\n",
              "                        <td id=\"T_ef314a24_624e_11eb_9457_0242ac1c0002row26_col20\" class=\"data row26 col20\" >0</td>\n",
              "                        <td id=\"T_ef314a24_624e_11eb_9457_0242ac1c0002row26_col21\" class=\"data row26 col21\" >0</td>\n",
              "                        <td id=\"T_ef314a24_624e_11eb_9457_0242ac1c0002row26_col22\" class=\"data row26 col22\" >0</td>\n",
              "                        <td id=\"T_ef314a24_624e_11eb_9457_0242ac1c0002row26_col23\" class=\"data row26 col23\" >0</td>\n",
              "                        <td id=\"T_ef314a24_624e_11eb_9457_0242ac1c0002row26_col24\" class=\"data row26 col24\" >0</td>\n",
              "                        <td id=\"T_ef314a24_624e_11eb_9457_0242ac1c0002row26_col25\" class=\"data row26 col25\" >0</td>\n",
              "                        <td id=\"T_ef314a24_624e_11eb_9457_0242ac1c0002row26_col26\" class=\"data row26 col26\" >0</td>\n",
              "                        <td id=\"T_ef314a24_624e_11eb_9457_0242ac1c0002row26_col27\" class=\"data row26 col27\" >0</td>\n",
              "            </tr>\n",
              "            <tr>\n",
              "                        <th id=\"T_ef314a24_624e_11eb_9457_0242ac1c0002level0_row27\" class=\"row_heading level0 row27\" >27</th>\n",
              "                        <td id=\"T_ef314a24_624e_11eb_9457_0242ac1c0002row27_col0\" class=\"data row27 col0\" >0</td>\n",
              "                        <td id=\"T_ef314a24_624e_11eb_9457_0242ac1c0002row27_col1\" class=\"data row27 col1\" >0</td>\n",
              "                        <td id=\"T_ef314a24_624e_11eb_9457_0242ac1c0002row27_col2\" class=\"data row27 col2\" >0</td>\n",
              "                        <td id=\"T_ef314a24_624e_11eb_9457_0242ac1c0002row27_col3\" class=\"data row27 col3\" >0</td>\n",
              "                        <td id=\"T_ef314a24_624e_11eb_9457_0242ac1c0002row27_col4\" class=\"data row27 col4\" >0</td>\n",
              "                        <td id=\"T_ef314a24_624e_11eb_9457_0242ac1c0002row27_col5\" class=\"data row27 col5\" >0</td>\n",
              "                        <td id=\"T_ef314a24_624e_11eb_9457_0242ac1c0002row27_col6\" class=\"data row27 col6\" >0</td>\n",
              "                        <td id=\"T_ef314a24_624e_11eb_9457_0242ac1c0002row27_col7\" class=\"data row27 col7\" >0</td>\n",
              "                        <td id=\"T_ef314a24_624e_11eb_9457_0242ac1c0002row27_col8\" class=\"data row27 col8\" >0</td>\n",
              "                        <td id=\"T_ef314a24_624e_11eb_9457_0242ac1c0002row27_col9\" class=\"data row27 col9\" >0</td>\n",
              "                        <td id=\"T_ef314a24_624e_11eb_9457_0242ac1c0002row27_col10\" class=\"data row27 col10\" >0</td>\n",
              "                        <td id=\"T_ef314a24_624e_11eb_9457_0242ac1c0002row27_col11\" class=\"data row27 col11\" >0</td>\n",
              "                        <td id=\"T_ef314a24_624e_11eb_9457_0242ac1c0002row27_col12\" class=\"data row27 col12\" >0</td>\n",
              "                        <td id=\"T_ef314a24_624e_11eb_9457_0242ac1c0002row27_col13\" class=\"data row27 col13\" >0</td>\n",
              "                        <td id=\"T_ef314a24_624e_11eb_9457_0242ac1c0002row27_col14\" class=\"data row27 col14\" >0</td>\n",
              "                        <td id=\"T_ef314a24_624e_11eb_9457_0242ac1c0002row27_col15\" class=\"data row27 col15\" >0</td>\n",
              "                        <td id=\"T_ef314a24_624e_11eb_9457_0242ac1c0002row27_col16\" class=\"data row27 col16\" >0</td>\n",
              "                        <td id=\"T_ef314a24_624e_11eb_9457_0242ac1c0002row27_col17\" class=\"data row27 col17\" >0</td>\n",
              "                        <td id=\"T_ef314a24_624e_11eb_9457_0242ac1c0002row27_col18\" class=\"data row27 col18\" >0</td>\n",
              "                        <td id=\"T_ef314a24_624e_11eb_9457_0242ac1c0002row27_col19\" class=\"data row27 col19\" >0</td>\n",
              "                        <td id=\"T_ef314a24_624e_11eb_9457_0242ac1c0002row27_col20\" class=\"data row27 col20\" >0</td>\n",
              "                        <td id=\"T_ef314a24_624e_11eb_9457_0242ac1c0002row27_col21\" class=\"data row27 col21\" >0</td>\n",
              "                        <td id=\"T_ef314a24_624e_11eb_9457_0242ac1c0002row27_col22\" class=\"data row27 col22\" >0</td>\n",
              "                        <td id=\"T_ef314a24_624e_11eb_9457_0242ac1c0002row27_col23\" class=\"data row27 col23\" >0</td>\n",
              "                        <td id=\"T_ef314a24_624e_11eb_9457_0242ac1c0002row27_col24\" class=\"data row27 col24\" >0</td>\n",
              "                        <td id=\"T_ef314a24_624e_11eb_9457_0242ac1c0002row27_col25\" class=\"data row27 col25\" >0</td>\n",
              "                        <td id=\"T_ef314a24_624e_11eb_9457_0242ac1c0002row27_col26\" class=\"data row27 col26\" >0</td>\n",
              "                        <td id=\"T_ef314a24_624e_11eb_9457_0242ac1c0002row27_col27\" class=\"data row27 col27\" >0</td>\n",
              "            </tr>\n",
              "    </tbody></table>"
            ],
            "text/plain": [
              "<pandas.io.formats.style.Styler at 0x7fe8afea59b0>"
            ]
          },
          "metadata": {
            "tags": []
          },
          "execution_count": 11
        }
      ]
    },
    {
      "cell_type": "markdown",
      "metadata": {
        "id": "OPq0tEWZIAHd"
      },
      "source": [
        "## First Try: Pixel Similarity"
      ]
    },
    {
      "cell_type": "code",
      "metadata": {
        "id": "Rl5e7_qu-v5U"
      },
      "source": [
        "# Load the data in pytorch tensors  \r\n",
        "def load_img_tensors(images):\r\n",
        "  image_tensors = []\r\n",
        "  for i in range(len(images)):\r\n",
        "    image_tensors.append([tensor(Image.open(o)) for o in images[i]])\r\n",
        "  \r\n",
        "  return image_tensors"
      ],
      "execution_count": 12,
      "outputs": []
    },
    {
      "cell_type": "code",
      "metadata": {
        "id": "Tqu_T4CxMraE"
      },
      "source": [
        "image_tensors = load_img_tensors(digits)"
      ],
      "execution_count": 13,
      "outputs": []
    },
    {
      "cell_type": "code",
      "metadata": {
        "colab": {
          "base_uri": "https://localhost:8080/",
          "height": 103
        },
        "id": "5_pVaRj2MsNc",
        "outputId": "ef514234-ba78-41fd-d947-84ab67fe07f3"
      },
      "source": [
        "show_image(image_tensors[2][0])"
      ],
      "execution_count": 14,
      "outputs": [
        {
          "output_type": "execute_result",
          "data": {
            "text/plain": [
              "<matplotlib.axes._subplots.AxesSubplot at 0x7fe813b974e0>"
            ]
          },
          "metadata": {
            "tags": []
          },
          "execution_count": 14
        },
        {
          "output_type": "display_data",
          "data": {
            "image/png": "[encoded data removed]",
            "text/plain": [
              "<Figure size 72x72 with 1 Axes>"
            ]
          },
          "metadata": {
            "tags": [],
            "needs_background": "light"
          }
        }
      ]
    },
    {
      "cell_type": "code",
      "metadata": {
        "colab": {
          "base_uri": "https://localhost:8080/",
          "height": 103
        },
        "id": "I-SwcVAzEjvw",
        "outputId": "83791d49-691c-4902-a12b-564b112347b1"
      },
      "source": [
        "type(show_image(image_tensors[2][0]))"
      ],
      "execution_count": 15,
      "outputs": [
        {
          "output_type": "execute_result",
          "data": {
            "text/plain": [
              "matplotlib.axes._subplots.AxesSubplot"
            ]
          },
          "metadata": {
            "tags": []
          },
          "execution_count": 15
        },
        {
          "output_type": "display_data",
          "data": {
            "image/png": "[encoded data removed]",
            "text/plain": [
              "<Figure size 72x72 with 1 Axes>"
            ]
          },
          "metadata": {
            "tags": [],
            "needs_background": "light"
          }
        }
      ]
    },
    {
      "cell_type": "code",
      "metadata": {
        "colab": {
          "base_uri": "https://localhost:8080/"
        },
        "id": "E5zQrJVzbMyz",
        "outputId": "fc8aa629-d888-4ad8-b2e3-2aa17b481210"
      },
      "source": [
        "type(image_tensors[0]), type(image_tensors[0][0])"
      ],
      "execution_count": 16,
      "outputs": [
        {
          "output_type": "execute_result",
          "data": {
            "text/plain": [
              "(list, torch.Tensor)"
            ]
          },
          "metadata": {
            "tags": []
          },
          "execution_count": 16
        }
      ]
    },
    {
      "cell_type": "code",
      "metadata": {
        "id": "EL3Wv7w3O2oI"
      },
      "source": [
        "# Stack images along the same axis.\r\n",
        "# Should only be run once on images being passed through \r\n",
        "def stack_images(images): \r\n",
        "  for i in range(len(images)): \r\n",
        "    images[i] = torch.stack(images[i])\r\n",
        "\r\n",
        "  return images\r\n"
      ],
      "execution_count": 17,
      "outputs": []
    },
    {
      "cell_type": "code",
      "metadata": {
        "id": "MLjfsrTBRhUK"
      },
      "source": [
        "stacked_images = stack_images(image_tensors)"
      ],
      "execution_count": 18,
      "outputs": []
    },
    {
      "cell_type": "code",
      "metadata": {
        "id": "E9QjvsCORnqe"
      },
      "source": [
        "# Transform images to floats for easier computation \r\n",
        "def img_to_float(images): \r\n",
        "  for i in range(len(images)): \r\n",
        "    images[i] = images[i].float()/255\r\n",
        "\r\n",
        "  return images "
      ],
      "execution_count": 19,
      "outputs": []
    },
    {
      "cell_type": "markdown",
      "metadata": {
        "id": "U-kuypMdyPtd"
      },
      "source": [
        ""
      ]
    },
    {
      "cell_type": "code",
      "metadata": {
        "id": "nD_jMuIChpJB"
      },
      "source": [
        "train_x = img_to_float(stacked_images)"
      ],
      "execution_count": 20,
      "outputs": []
    },
    {
      "cell_type": "code",
      "metadata": {
        "id": "wnpBZvGoum1W"
      },
      "source": [
        "# Calculate the mean \"ideal\" image\r\n",
        "def calculate_ideal(images): \r\n",
        "  ideal_image = [] \r\n",
        "  for i in range(len(images)):\r\n",
        "     ideal_image.append(images[i].mean(0))\r\n",
        "  \r\n",
        "  return ideal_image"
      ],
      "execution_count": 21,
      "outputs": []
    },
    {
      "cell_type": "code",
      "metadata": {
        "id": "B1bDpaTl5y1l"
      },
      "source": [
        "ideal_image = calculate_ideal(train_x)"
      ],
      "execution_count": 22,
      "outputs": []
    },
    {
      "cell_type": "code",
      "metadata": {
        "colab": {
          "base_uri": "https://localhost:8080/",
          "height": 138
        },
        "id": "o1pmuFtv_aw0",
        "outputId": "744d852e-b728-4ec1-e967-b9edbffde08b"
      },
      "source": [
        "show_images(ideal_image)"
      ],
      "execution_count": 23,
      "outputs": [
        {
          "output_type": "display_data",
          "data": {
            "image/png": "[encoded data removed]",
            "text/plain": [
              "<Figure size 2160x216 with 10 Axes>"
            ]
          },
          "metadata": {
            "tags": [],
            "needs_background": "light"
          }
        }
      ]
    },
    {
      "cell_type": "code",
      "metadata": {
        "id": "UjXjmUBGD6GN"
      },
      "source": [
        "#TODO: \r\n",
        "# 1. Finish baseline multiclassification model \r\n",
        "# 2. One-vs-all with linear \r\n",
        "# model_0: zero vs not zero \r\n",
        "# model_1: one vs not one \r\n",
        "# model_2: two vs not two\r\n",
        "# 3. resnet18 - a few others \r\n",
        "# 4. Hyperparameter tuning \r\n",
        "# soft-max \r\n",
        "\r\n",
        "# Within digit varbility of the centroids and across digit varibility "
      ],
      "execution_count": 24,
      "outputs": []
    },
    {
      "cell_type": "code",
      "metadata": {
        "colab": {
          "base_uri": "https://localhost:8080/"
        },
        "id": "7xrqQZnlBmyN",
        "outputId": "174bae8c-599d-4c09-daf4-89158b1a60b1"
      },
      "source": [
        "train_x[0].ndim, train_x[0].shape"
      ],
      "execution_count": 25,
      "outputs": [
        {
          "output_type": "execute_result",
          "data": {
            "text/plain": [
              "(3, torch.Size([5923, 28, 28]))"
            ]
          },
          "metadata": {
            "tags": []
          },
          "execution_count": 25
        }
      ]
    },
    {
      "cell_type": "code",
      "metadata": {
        "id": "_VyoiC0gHccl"
      },
      "source": [
        "# Calculate the average absolute distance between a and b  \r\n",
        "def mnist_distance(a,b): \r\n",
        "  return (a-b).abs().mean((-1, -2))\r\n",
        "\r\n",
        "# Calculate distance between image and ideal_images \r\n",
        "def calculate_distance(image, ideal_images):\r\n",
        "  distances = []\r\n",
        "  for img in ideal_images: \r\n",
        "    distances.append(mnist_distance(image, img))\r\n",
        "  return distances\r\n",
        "\r\n",
        "# For each image in images, calculate the distance between it and the ideal_images\r\n",
        "def calculate_all_distances(images, ideal_images):\r\n",
        "  distances = []\r\n",
        "  for image in images: \r\n",
        "    distances.append([calculate_distance(img, ideal_images) for img in image])\r\n",
        "  return distances\r\n",
        "\r\n",
        "# Classify every digit \r\n",
        "def classify_digit(distances):\r\n",
        "  classifications = []\r\n",
        "  for distance in distances: \r\n",
        "    classifications.append([dist.index(min(dist)) for dist in distance])\r\n",
        "  return classifications\r\n",
        "\r\n"
      ],
      "execution_count": 43,
      "outputs": []
    },
    {
      "cell_type": "code",
      "metadata": {
        "colab": {
          "base_uri": "https://localhost:8080/"
        },
        "id": "xZVnUAcW9zwx",
        "outputId": "114c558a-d7c1-4eaa-9ca4-bf29b4f7a786"
      },
      "source": [
        "img = train_x[0][0]\r\n",
        "img[1]"
      ],
      "execution_count": 41,
      "outputs": [
        {
          "output_type": "execute_result",
          "data": {
            "text/plain": [
              "tensor([0., 0., 0., 0., 0., 0., 0., 0., 0., 0., 0., 0., 0., 0., 0., 0., 0., 0., 0., 0., 0., 0., 0., 0., 0., 0., 0., 0.])"
            ]
          },
          "metadata": {
            "tags": []
          },
          "execution_count": 41
        }
      ]
    },
    {
      "cell_type": "code",
      "metadata": {
        "colab": {
          "base_uri": "https://localhost:8080/"
        },
        "id": "NLGXPmgzJNrv",
        "outputId": "3fe7c4fe-3e71-46d2-e658-00e894c5aa13"
      },
      "source": [
        "b = calculate_distance(train_x[0][0], ideal_image)\r\n",
        "b"
      ],
      "execution_count": 45,
      "outputs": [
        {
          "output_type": "execute_result",
          "data": {
            "text/plain": [
              "[tensor(0.1108),\n",
              " tensor(0.1643),\n",
              " tensor(0.1788),\n",
              " tensor(0.1679),\n",
              " tensor(0.1765),\n",
              " tensor(0.1488),\n",
              " tensor(0.1651),\n",
              " tensor(0.1690),\n",
              " tensor(0.1708),\n",
              " tensor(0.1694)]"
            ]
          },
          "metadata": {
            "tags": []
          },
          "execution_count": 45
        }
      ]
    },
    {
      "cell_type": "code",
      "metadata": {
        "colab": {
          "base_uri": "https://localhost:8080/"
        },
        "id": "WZEeg4uZAMp0",
        "outputId": "144c1967-e679-43dd-b811-740e2e10db4a"
      },
      "source": [
        "z = calculate_distance(train_x[0][0], ideal_image)\r\n",
        "z"
      ],
      "execution_count": 44,
      "outputs": [
        {
          "output_type": "execute_result",
          "data": {
            "text/plain": [
              "[tensor(0.1108),\n",
              " tensor(0.1643),\n",
              " tensor(0.1788),\n",
              " tensor(0.1679),\n",
              " tensor(0.1765),\n",
              " tensor(0.1488),\n",
              " tensor(0.1651),\n",
              " tensor(0.1690),\n",
              " tensor(0.1708),\n",
              " tensor(0.1694)]"
            ]
          },
          "metadata": {
            "tags": []
          },
          "execution_count": 44
        }
      ]
    },
    {
      "cell_type": "code",
      "metadata": {
        "id": "ln2R5DrAfhOY",
        "colab": {
          "base_uri": "https://localhost:8080/"
        },
        "outputId": "ead95333-4920-459e-acad-05f4da507e48"
      },
      "source": [
        "%%time\r\n",
        "a = calculate_all_distances(train_x, ideal_image)"
      ],
      "execution_count": 46,
      "outputs": [
        {
          "output_type": "stream",
          "text": [
            "CPU times: user 11.2 s, sys: 34.1 ms, total: 11.3 s\n",
            "Wall time: 11.3 s\n"
          ],
          "name": "stdout"
        }
      ]
    },
    {
      "cell_type": "code",
      "metadata": {
        "colab": {
          "base_uri": "https://localhost:8080/"
        },
        "id": "Ns-2ShnahtdR",
        "outputId": "3f21378f-8ac3-4554-ef9d-61763808545d"
      },
      "source": [
        "len(a), a[0][0]"
      ],
      "execution_count": 29,
      "outputs": [
        {
          "output_type": "execute_result",
          "data": {
            "text/plain": [
              "(10,\n",
              " [tensor(0.1734),\n",
              "  tensor(0.0760),\n",
              "  tensor(0.1490),\n",
              "  tensor(0.1415),\n",
              "  tensor(0.1355),\n",
              "  tensor(0.2111),\n",
              "  tensor(0.2232),\n",
              "  tensor(0.2348),\n",
              "  tensor(0.2525),\n",
              "  tensor(0.2369)])"
            ]
          },
          "metadata": {
            "tags": []
          },
          "execution_count": 29
        }
      ]
    },
    {
      "cell_type": "code",
      "metadata": {
        "colab": {
          "base_uri": "https://localhost:8080/"
        },
        "id": "MQ1PLeSstBci",
        "outputId": "2bfe9048-0bc0-4b5f-c213-f2bebc574c88"
      },
      "source": [
        "stuf = classify_digit(a)\r\n",
        "stuf[5][50], calculate_distance(train_x[5][50], ideal_image)"
      ],
      "execution_count": 30,
      "outputs": [
        {
          "output_type": "execute_result",
          "data": {
            "text/plain": [
              "(1,\n",
              " [tensor(0.1734),\n",
              "  tensor(0.0760),\n",
              "  tensor(0.1490),\n",
              "  tensor(0.1415),\n",
              "  tensor(0.1214),\n",
              "  tensor(0.1287),\n",
              "  tensor(0.1373),\n",
              "  tensor(0.1617),\n",
              "  tensor(0.3340),\n",
              "  tensor(0.3342)])"
            ]
          },
          "metadata": {
            "tags": []
          },
          "execution_count": 30
        }
      ]
    },
    {
      "cell_type": "code",
      "metadata": {
        "colab": {
          "base_uri": "https://localhost:8080/"
        },
        "id": "GUNrkzvnwDBQ",
        "outputId": "0f7eb950-eeae-495e-87e4-0dee9ab1c664"
      },
      "source": [
        "for i in stuf: \r\n",
        "  print(f\"Count of 1: {i.count(1)} and size of array {len(i)}.\")"
      ],
      "execution_count": 31,
      "outputs": [
        {
          "output_type": "stream",
          "text": [
            "Count of 1: 5923 and size of array 5923.\n",
            "Count of 1: 6742 and size of array 6742.\n",
            "Count of 1: 5957 and size of array 5958.\n",
            "Count of 1: 6131 and size of array 6131.\n",
            "Count of 1: 5842 and size of array 5842.\n",
            "Count of 1: 5421 and size of array 5421.\n",
            "Count of 1: 5908 and size of array 5918.\n",
            "Count of 1: 6265 and size of array 6265.\n",
            "Count of 1: 5851 and size of array 5851.\n",
            "Count of 1: 5949 and size of array 5949.\n"
          ],
          "name": "stdout"
        }
      ]
    },
    {
      "cell_type": "code",
      "metadata": {
        "colab": {
          "base_uri": "https://localhost:8080/"
        },
        "id": "wohjnjgy9_JI",
        "outputId": "768b26fc-f165-40c5-d2fb-d94a0f003325"
      },
      "source": [
        "stuf[3][5]"
      ],
      "execution_count": 32,
      "outputs": [
        {
          "output_type": "execute_result",
          "data": {
            "text/plain": [
              "1"
            ]
          },
          "metadata": {
            "tags": []
          },
          "execution_count": 32
        }
      ]
    },
    {
      "cell_type": "code",
      "metadata": {
        "id": "d6aDw6tVH4-2"
      },
      "source": [
        "distances = calculate_distance(train_x, ideal_image)"
      ],
      "execution_count": 33,
      "outputs": []
    },
    {
      "cell_type": "code",
      "metadata": {
        "colab": {
          "base_uri": "https://localhost:8080/"
        },
        "id": "5agVCCj3pbHG",
        "outputId": "49a52dc8-cb9c-449b-8823-5f077b272def"
      },
      "source": [
        "a = [dist[0] for dist in distances]\r\n",
        "a, min(a)\r\n"
      ],
      "execution_count": 34,
      "outputs": [
        {
          "output_type": "execute_result",
          "data": {
            "text/plain": [
              "([tensor(0.1108),\n",
              "  tensor(0.0530),\n",
              "  tensor(0.1350),\n",
              "  tensor(0.1074),\n",
              "  tensor(0.1226),\n",
              "  tensor(0.1334),\n",
              "  tensor(0.1074),\n",
              "  tensor(0.1095),\n",
              "  tensor(0.1197),\n",
              "  tensor(0.1066)],\n",
              " tensor(0.0530))"
            ]
          },
          "metadata": {
            "tags": []
          },
          "execution_count": 34
        }
      ]
    },
    {
      "cell_type": "code",
      "metadata": {
        "colab": {
          "base_uri": "https://localhost:8080/"
        },
        "id": "Jm1TamBmq6vR",
        "outputId": "1bb1b906-25fa-4bdc-99df-91cd4c1ac7b9"
      },
      "source": [
        "\r\n",
        "type(distances[:]), distances[:], train_x[0].shape"
      ],
      "execution_count": 35,
      "outputs": [
        {
          "output_type": "execute_result",
          "data": {
            "text/plain": [
              "(list,\n",
              " [tensor([0.1108, 0.1388, 0.1648,  ..., 0.1840, 0.1632, 0.1759]),\n",
              "  tensor([0.0530, 0.0601, 0.0636,  ..., 0.0658, 0.0737, 0.0519]),\n",
              "  tensor([0.1350, 0.1243, 0.1412,  ..., 0.1273, 0.1540, 0.1375]),\n",
              "  tensor([0.1074, 0.1114, 0.1100,  ..., 0.1316, 0.1220, 0.1267]),\n",
              "  tensor([0.1226, 0.1126, 0.0990,  ..., 0.1302, 0.1485, 0.0961]),\n",
              "  tensor([0.1334, 0.1307, 0.1357,  ..., 0.1342, 0.1350, 0.1338]),\n",
              "  tensor([0.1074, 0.1823, 0.1126,  ..., 0.1155, 0.1271, 0.1320]),\n",
              "  tensor([0.1095, 0.1304, 0.1328,  ..., 0.1147, 0.1239, 0.0937]),\n",
              "  tensor([0.1197, 0.1959, 0.1252,  ..., 0.1110, 0.1156, 0.1399]),\n",
              "  tensor([0.1066, 0.1185, 0.0990,  ..., 0.1070, 0.1056, 0.0922])],\n",
              " torch.Size([5923, 28, 28]))"
            ]
          },
          "metadata": {
            "tags": []
          },
          "execution_count": 35
        }
      ]
    },
    {
      "cell_type": "code",
      "metadata": {
        "colab": {
          "base_uri": "https://localhost:8080/"
        },
        "id": "aFDrYE5Iialq",
        "outputId": "fd3d8ce7-70dd-497a-c0b5-72ca7d4d989e"
      },
      "source": [
        "mnist_distance(train_x[0], ideal_image[0])"
      ],
      "execution_count": 36,
      "outputs": [
        {
          "output_type": "execute_result",
          "data": {
            "text/plain": [
              "tensor([0.1108, 0.1388, 0.1648,  ..., 0.1840, 0.1632, 0.1759])"
            ]
          },
          "metadata": {
            "tags": []
          },
          "execution_count": 36
        }
      ]
    },
    {
      "cell_type": "code",
      "metadata": {
        "id": "i_l3RjM-UyFB"
      },
      "source": [
        "def check_digit(prediction, label):\r\n",
        "  pass"
      ],
      "execution_count": 37,
      "outputs": []
    },
    {
      "cell_type": "code",
      "metadata": {
        "colab": {
          "base_uri": "https://localhost:8080/"
        },
        "id": "2jIqq8MDH6KK",
        "outputId": "c5c9fdc1-53cc-4abc-f903-71aa544de7ae"
      },
      "source": [
        "mnist_distance(train_x[0], ideal_image[0])"
      ],
      "execution_count": 38,
      "outputs": [
        {
          "output_type": "execute_result",
          "data": {
            "text/plain": [
              "tensor([0.1108, 0.1388, 0.1648,  ..., 0.1840, 0.1632, 0.1759])"
            ]
          },
          "metadata": {
            "tags": []
          },
          "execution_count": 38
        }
      ]
    },
    {
      "cell_type": "code",
      "metadata": {
        "id": "oIwsKP3wMQGe"
      },
      "source": [
        ""
      ],
      "execution_count": 38,
      "outputs": []
    }
  ]
}